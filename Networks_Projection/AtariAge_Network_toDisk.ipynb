{
 "cells": [
  {
   "cell_type": "code",
   "execution_count": 1,
   "metadata": {
    "ExecuteTime": {
     "end_time": "2018-09-27T15:25:33.271329Z",
     "start_time": "2018-09-27T15:25:30.962805Z"
    }
   },
   "outputs": [
    {
     "ename": "KeyboardInterrupt",
     "evalue": "",
     "output_type": "error",
     "traceback": [
      "\u001b[1;31m---------------------------------------------------------------------------\u001b[0m",
      "\u001b[1;31mKeyboardInterrupt\u001b[0m                         Traceback (most recent call last)",
      "\u001b[1;32m<ipython-input-1-d6941ea6702c>\u001b[0m in \u001b[0;36m<module>\u001b[1;34m()\u001b[0m\n\u001b[1;32m----> 1\u001b[1;33m \u001b[1;32mimport\u001b[0m \u001b[0mpandas\u001b[0m \u001b[1;32mas\u001b[0m \u001b[0mpd\u001b[0m\u001b[1;33m\u001b[0m\u001b[0m\n\u001b[0m\u001b[0;32m      2\u001b[0m \u001b[1;32mfrom\u001b[0m \u001b[0mpandas\u001b[0m \u001b[1;32mimport\u001b[0m \u001b[0mDataFrame\u001b[0m\u001b[1;33m,\u001b[0m \u001b[0mread_csv\u001b[0m\u001b[1;33m\u001b[0m\u001b[0m\n\u001b[0;32m      3\u001b[0m \u001b[1;32mimport\u001b[0m \u001b[0mnetworkx\u001b[0m \u001b[1;32mas\u001b[0m \u001b[0mnx\u001b[0m\u001b[1;33m\u001b[0m\u001b[0m\n",
      "\u001b[1;32mC:\\ProgramData\\Anaconda\\envs\\py36\\lib\\site-packages\\pandas\\__init__.py\u001b[0m in \u001b[0;36m<module>\u001b[1;34m()\u001b[0m\n\u001b[0;32m     11\u001b[0m \u001b[1;32mfor\u001b[0m \u001b[0mdependency\u001b[0m \u001b[1;32min\u001b[0m \u001b[0mhard_dependencies\u001b[0m\u001b[1;33m:\u001b[0m\u001b[1;33m\u001b[0m\u001b[0m\n\u001b[0;32m     12\u001b[0m     \u001b[1;32mtry\u001b[0m\u001b[1;33m:\u001b[0m\u001b[1;33m\u001b[0m\u001b[0m\n\u001b[1;32m---> 13\u001b[1;33m         \u001b[0m__import__\u001b[0m\u001b[1;33m(\u001b[0m\u001b[0mdependency\u001b[0m\u001b[1;33m)\u001b[0m\u001b[1;33m\u001b[0m\u001b[0m\n\u001b[0m\u001b[0;32m     14\u001b[0m     \u001b[1;32mexcept\u001b[0m \u001b[0mImportError\u001b[0m \u001b[1;32mas\u001b[0m \u001b[0me\u001b[0m\u001b[1;33m:\u001b[0m\u001b[1;33m\u001b[0m\u001b[0m\n\u001b[0;32m     15\u001b[0m         \u001b[0mmissing_dependencies\u001b[0m\u001b[1;33m.\u001b[0m\u001b[0mappend\u001b[0m\u001b[1;33m(\u001b[0m\u001b[0mdependency\u001b[0m\u001b[1;33m)\u001b[0m\u001b[1;33m\u001b[0m\u001b[0m\n",
      "\u001b[1;32mC:\\ProgramData\\Anaconda\\envs\\py36\\lib\\site-packages\\numpy\\__init__.py\u001b[0m in \u001b[0;36m<module>\u001b[1;34m()\u001b[0m\n\u001b[0;32m    163\u001b[0m     \u001b[1;32mfrom\u001b[0m \u001b[1;33m.\u001b[0m \u001b[1;32mimport\u001b[0m \u001b[0mlinalg\u001b[0m\u001b[1;33m\u001b[0m\u001b[0m\n\u001b[0;32m    164\u001b[0m     \u001b[1;32mfrom\u001b[0m \u001b[1;33m.\u001b[0m \u001b[1;32mimport\u001b[0m \u001b[0mfft\u001b[0m\u001b[1;33m\u001b[0m\u001b[0m\n\u001b[1;32m--> 165\u001b[1;33m     \u001b[1;32mfrom\u001b[0m \u001b[1;33m.\u001b[0m \u001b[1;32mimport\u001b[0m \u001b[0mpolynomial\u001b[0m\u001b[1;33m\u001b[0m\u001b[0m\n\u001b[0m\u001b[0;32m    166\u001b[0m     \u001b[1;32mfrom\u001b[0m \u001b[1;33m.\u001b[0m \u001b[1;32mimport\u001b[0m \u001b[0mrandom\u001b[0m\u001b[1;33m\u001b[0m\u001b[0m\n\u001b[0;32m    167\u001b[0m     \u001b[1;32mfrom\u001b[0m \u001b[1;33m.\u001b[0m \u001b[1;32mimport\u001b[0m \u001b[0mctypeslib\u001b[0m\u001b[1;33m\u001b[0m\u001b[0m\n",
      "\u001b[1;32mC:\\ProgramData\\Anaconda\\envs\\py36\\lib\\site-packages\\numpy\\polynomial\\__init__.py\u001b[0m in \u001b[0;36m<module>\u001b[1;34m()\u001b[0m\n\u001b[0;32m     16\u001b[0m \u001b[1;32mfrom\u001b[0m \u001b[0m__future__\u001b[0m \u001b[1;32mimport\u001b[0m \u001b[0mdivision\u001b[0m\u001b[1;33m,\u001b[0m \u001b[0mabsolute_import\u001b[0m\u001b[1;33m,\u001b[0m \u001b[0mprint_function\u001b[0m\u001b[1;33m\u001b[0m\u001b[0m\n\u001b[0;32m     17\u001b[0m \u001b[1;33m\u001b[0m\u001b[0m\n\u001b[1;32m---> 18\u001b[1;33m \u001b[1;32mfrom\u001b[0m \u001b[1;33m.\u001b[0m\u001b[0mpolynomial\u001b[0m \u001b[1;32mimport\u001b[0m \u001b[0mPolynomial\u001b[0m\u001b[1;33m\u001b[0m\u001b[0m\n\u001b[0m\u001b[0;32m     19\u001b[0m \u001b[1;32mfrom\u001b[0m \u001b[1;33m.\u001b[0m\u001b[0mchebyshev\u001b[0m \u001b[1;32mimport\u001b[0m \u001b[0mChebyshev\u001b[0m\u001b[1;33m\u001b[0m\u001b[0m\n\u001b[0;32m     20\u001b[0m \u001b[1;32mfrom\u001b[0m \u001b[1;33m.\u001b[0m\u001b[0mlegendre\u001b[0m \u001b[1;32mimport\u001b[0m \u001b[0mLegendre\u001b[0m\u001b[1;33m\u001b[0m\u001b[0m\n",
      "\u001b[1;32mC:\\ProgramData\\Anaconda\\envs\\py36\\lib\\site-packages\\numpy\\polynomial\\polynomial.py\u001b[0m in \u001b[0;36m<module>\u001b[1;34m()\u001b[0m\n\u001b[0;32m     69\u001b[0m \u001b[1;32mfrom\u001b[0m \u001b[0mnumpy\u001b[0m\u001b[1;33m.\u001b[0m\u001b[0mcore\u001b[0m\u001b[1;33m.\u001b[0m\u001b[0mmultiarray\u001b[0m \u001b[1;32mimport\u001b[0m \u001b[0mnormalize_axis_index\u001b[0m\u001b[1;33m\u001b[0m\u001b[0m\n\u001b[0;32m     70\u001b[0m \u001b[1;33m\u001b[0m\u001b[0m\n\u001b[1;32m---> 71\u001b[1;33m \u001b[1;32mfrom\u001b[0m \u001b[1;33m.\u001b[0m \u001b[1;32mimport\u001b[0m \u001b[0mpolyutils\u001b[0m \u001b[1;32mas\u001b[0m \u001b[0mpu\u001b[0m\u001b[1;33m\u001b[0m\u001b[0m\n\u001b[0m\u001b[0;32m     72\u001b[0m \u001b[1;32mfrom\u001b[0m \u001b[1;33m.\u001b[0m\u001b[0m_polybase\u001b[0m \u001b[1;32mimport\u001b[0m \u001b[0mABCPolyBase\u001b[0m\u001b[1;33m\u001b[0m\u001b[0m\n\u001b[0;32m     73\u001b[0m \u001b[1;33m\u001b[0m\u001b[0m\n",
      "\u001b[1;32mC:\\ProgramData\\Anaconda\\envs\\py36\\lib\\importlib\\_bootstrap.py\u001b[0m in \u001b[0;36m_find_and_load\u001b[1;34m(name, import_)\u001b[0m\n",
      "\u001b[1;32mC:\\ProgramData\\Anaconda\\envs\\py36\\lib\\importlib\\_bootstrap.py\u001b[0m in \u001b[0;36m_find_and_load_unlocked\u001b[1;34m(name, import_)\u001b[0m\n",
      "\u001b[1;32mC:\\ProgramData\\Anaconda\\envs\\py36\\lib\\importlib\\_bootstrap.py\u001b[0m in \u001b[0;36m_load_unlocked\u001b[1;34m(spec)\u001b[0m\n",
      "\u001b[1;32mC:\\ProgramData\\Anaconda\\envs\\py36\\lib\\importlib\\_bootstrap_external.py\u001b[0m in \u001b[0;36mexec_module\u001b[1;34m(self, module)\u001b[0m\n",
      "\u001b[1;32mC:\\ProgramData\\Anaconda\\envs\\py36\\lib\\importlib\\_bootstrap_external.py\u001b[0m in \u001b[0;36mget_code\u001b[1;34m(self, fullname)\u001b[0m\n",
      "\u001b[1;32mC:\\ProgramData\\Anaconda\\envs\\py36\\lib\\importlib\\_bootstrap_external.py\u001b[0m in \u001b[0;36mget_data\u001b[1;34m(self, path)\u001b[0m\n",
      "\u001b[1;31mKeyboardInterrupt\u001b[0m: "
     ]
    }
   ],
   "source": [
    "import pandas as pd\n",
    "from pandas import DataFrame, read_csv\n",
    "import networkx as nx"
   ]
  },
  {
   "cell_type": "code",
   "execution_count": null,
   "metadata": {},
   "outputs": [],
   "source": [
    "# with open('atari_graphs/atari_edges_fixed.csv', 'a', encoding=\"utf8\") as file_1, open('atari_graphs/atari_edges.csv', \"r\", encoding=\"utf8\") as file_2:\n",
    "#     for line in file_2:\n",
    "#         if ',quotes' not in line:\n",
    "#             file_1.write(line)"
   ]
  },
  {
   "cell_type": "code",
   "execution_count": null,
   "metadata": {
    "ExecuteTime": {
     "end_time": "2018-09-27T15:25:33.271329Z",
     "start_time": "2018-09-27T15:25:05.055Z"
    },
    "scrolled": true
   },
   "outputs": [],
   "source": [
    "df = pd.read_csv('atari_edges_fixed.csv', header = None)\n",
    "df.columns = ['src', 'dst', 'tema', 'type']\n",
    "df.head()"
   ]
  },
  {
   "cell_type": "code",
   "execution_count": null,
   "metadata": {
    "ExecuteTime": {
     "end_time": "2018-09-27T15:25:33.272308Z",
     "start_time": "2018-09-27T15:25:05.996Z"
    }
   },
   "outputs": [],
   "source": [
    "df_simple = df[['src', 'tema']]"
   ]
  },
  {
   "cell_type": "code",
   "execution_count": null,
   "metadata": {
    "ExecuteTime": {
     "end_time": "2018-09-27T15:25:33.274295Z",
     "start_time": "2018-09-27T15:25:06.962Z"
    }
   },
   "outputs": [],
   "source": [
    "len(pd.unique(df_simple['src']))"
   ]
  },
  {
   "cell_type": "code",
   "execution_count": null,
   "metadata": {
    "ExecuteTime": {
     "end_time": "2018-09-27T15:25:33.274295Z",
     "start_time": "2018-09-27T15:25:07.923Z"
    }
   },
   "outputs": [],
   "source": [
    "df = df_simple.groupby(df_simple.columns.tolist()).size().reset_index().rename(columns={0:'weight'})\n"
   ]
  },
  {
   "cell_type": "code",
   "execution_count": null,
   "metadata": {
    "ExecuteTime": {
     "end_time": "2018-09-27T15:25:33.275293Z",
     "start_time": "2018-09-27T15:25:08.325Z"
    },
    "scrolled": true
   },
   "outputs": [],
   "source": [
    "df.head()"
   ]
  },
  {
   "cell_type": "code",
   "execution_count": null,
   "metadata": {
    "ExecuteTime": {
     "end_time": "2018-09-27T15:25:33.275293Z",
     "start_time": "2018-09-27T15:25:09.421Z"
    }
   },
   "outputs": [],
   "source": [
    "df['src_original'] = df['src']\n",
    "df['src'] = pd.Categorical(df['src'])\n",
    "df['src'] = df['src'].cat.codes\n",
    "df['tema_original'] = df['tema']\n",
    "df['tema'] = pd.Categorical(df['tema'])\n",
    "df['tema'] = df['tema'].cat.codes\n",
    "df['tema'] = df['tema'] + 200000"
   ]
  },
  {
   "cell_type": "code",
   "execution_count": null,
   "metadata": {
    "ExecuteTime": {
     "end_time": "2018-09-27T15:25:33.276310Z",
     "start_time": "2018-09-27T15:25:10.476Z"
    }
   },
   "outputs": [],
   "source": [
    "df.dtypes"
   ]
  },
  {
   "cell_type": "code",
   "execution_count": null,
   "metadata": {
    "ExecuteTime": {
     "end_time": "2018-09-27T15:25:33.277292Z",
     "start_time": "2018-09-27T15:25:11.717Z"
    }
   },
   "outputs": [],
   "source": [
    "df.head()"
   ]
  },
  {
   "cell_type": "code",
   "execution_count": null,
   "metadata": {
    "ExecuteTime": {
     "end_time": "2018-09-27T15:25:33.277292Z",
     "start_time": "2018-09-27T15:25:14.411Z"
    }
   },
   "outputs": [],
   "source": [
    "G = nx.Graph()\n",
    "for index, row in df.iterrows():\n",
    "    \n",
    "    G.add_node(row['src'], bipartite=0)\n",
    "    G.add_node(row['tema'], bipartite=1)\n",
    "    \n",
    "    if G.has_edge(row['src'], row['tema']):\n",
    "                        G[row['src']][row['tema']]['weight'] += row['weight']\n",
    "    else:\n",
    "        G.add_edge(row['src'], row['tema'], weight = row['weight'])"
   ]
  },
  {
   "cell_type": "code",
   "execution_count": null,
   "metadata": {
    "ExecuteTime": {
     "end_time": "2018-09-27T15:25:33.278292Z",
     "start_time": "2018-09-27T15:25:14.916Z"
    }
   },
   "outputs": [],
   "source": [
    "len(pd.unique(df['src']))"
   ]
  },
  {
   "cell_type": "code",
   "execution_count": null,
   "metadata": {
    "ExecuteTime": {
     "end_time": "2018-09-27T15:25:33.279292Z",
     "start_time": "2018-09-27T15:25:15.156Z"
    }
   },
   "outputs": [],
   "source": [
    "nx.is_bipartite(G)"
   ]
  },
  {
   "cell_type": "code",
   "execution_count": null,
   "metadata": {
    "ExecuteTime": {
     "end_time": "2018-09-17T14:56:41.143573Z",
     "start_time": "2018-09-17T14:56:39.747671Z"
    }
   },
   "outputs": [],
   "source": [
    "# nx.write_graphml_lxml(G, \"atari_graphs/user_topics_AA.graphml\")"
   ]
  },
  {
   "cell_type": "code",
   "execution_count": null,
   "metadata": {
    "ExecuteTime": {
     "end_time": "2018-09-27T15:25:33.279292Z",
     "start_time": "2018-09-27T15:25:19.022Z"
    }
   },
   "outputs": [],
   "source": [
    "top_nodes = {n for n, d in G.nodes(data=True) if d['bipartite']==1}\n",
    "bottom_nodes = set(G) - top_nodes"
   ]
  },
  {
   "cell_type": "code",
   "execution_count": null,
   "metadata": {
    "ExecuteTime": {
     "end_time": "2018-09-17T15:13:53.003269Z",
     "start_time": "2018-09-17T15:13:52.976284Z"
    }
   },
   "outputs": [],
   "source": [
    "# def forum_projection(B, nodes, other_nodes):\n",
    "#     lengths = {n: len(B[n]) for n in other_nodes}\n",
    "#     if B.is_directed():\n",
    "#         pred = B.pred\n",
    "#         G = nx.DiGraph()\n",
    "#     else:\n",
    "#         pred = B.adj\n",
    "#         G = nx.Graph()\n",
    "#     G.graph.update(B.graph)\n",
    "#     G.add_nodes_from((n, B.nodes[n]) for n in nodes)\n",
    "#     for u in nodes:\n",
    "#         unbrs = set(B[u]) #nodos a los que conecta del otro nivel\n",
    "#         nbrs2 = {n for nbr in unbrs for n in B[nbr] if n != u} #nodos con los que coincide\n",
    "#         for v in nbrs2:\n",
    "#             vnbrs = set(pred[v])\n",
    "#             common_degree = ((len(B[n]), B[u][n]['weight'] + B[v][n]['weight']) for n in unbrs & vnbrs)\n",
    "#             weight = sum(wt / (deg - 1) for deg, wt in common_degree if deg > 1)\n",
    "#             G.add_edge(u, v, weight=weight)\n",
    "#     return G"
   ]
  },
  {
   "cell_type": "code",
   "execution_count": null,
   "metadata": {
    "ExecuteTime": {
     "end_time": "2018-09-27T15:25:33.280292Z",
     "start_time": "2018-09-27T15:25:22.492Z"
    }
   },
   "outputs": [],
   "source": [
    "def forum_projection_to_file(B, nodes, other_nodes, filename):\n",
    "    lengths = {n: len(B[n]) for n in other_nodes}\n",
    "    if B.is_directed():\n",
    "        pred = B.pred\n",
    "    else:\n",
    "        pred = B.adj\n",
    "    vnbrs_sets = {n: set(pred[n]) for n in nodes}\n",
    "\n",
    "    i = 0\n",
    "    print(\"starting...\")\n",
    "    with open('{}.csv'.format(filename), 'w', encoding=\"utf8\") as file:\n",
    "        for u in nodes:\n",
    "            i = i + 1\n",
    "            if i % 100 == 0:\n",
    "                print(\"#node:\", i)\n",
    "            unbrs = set(B[u]) #nodos a los que conecta del otro nivel\n",
    "            nbrs2 = {n for nbr in unbrs for n in B[nbr] if n != u} #nodos con los que coincide\n",
    "            for v in nbrs2:\n",
    "                vnbrs = vnbrs_sets[v]\n",
    "                common_degree = ((lengths[n], B[u][n]['weight'] + B[v][n]['weight']) for n in unbrs & vnbrs)\n",
    "                weight = sum(wt / (deg - 1) for deg, wt in common_degree if deg > 1)\n",
    "                file.write(\"{},{},{:.8f}\\n\".format(u,v,weight))\n",
    "                del common_degree\n",
    "                del weight\n",
    "            del unbrs\n",
    "            del nbrs2\n",
    "    print(\"done.\")"
   ]
  },
  {
   "cell_type": "code",
   "execution_count": null,
   "metadata": {
    "ExecuteTime": {
     "end_time": "2018-09-27T15:25:33.281288Z",
     "start_time": "2018-09-27T15:25:27.004Z"
    }
   },
   "outputs": [],
   "source": [
    "G_top = forum_projection_to_file(G, top_nodes, bottom_nodes, \"atari_edges_flat_top\")"
   ]
  },
  {
   "cell_type": "code",
   "execution_count": 26,
   "metadata": {
    "ExecuteTime": {
     "end_time": "2018-09-27T09:06:02.736271Z",
     "start_time": "2018-09-27T08:22:24.545718Z"
    }
   },
   "outputs": [
    {
     "name": "stdout",
     "output_type": "stream",
     "text": [
      "starting...\n",
      "#node: 100\n",
      "#node: 200\n",
      "#node: 300\n",
      "#node: 400\n",
      "#node: 500\n",
      "#node: 600\n",
      "#node: 700\n",
      "#node: 800\n",
      "#node: 900\n",
      "#node: 1000\n",
      "#node: 1100\n",
      "#node: 1200\n",
      "#node: 1300\n",
      "#node: 1400\n",
      "#node: 1500\n",
      "#node: 1600\n",
      "#node: 1700\n",
      "#node: 1800\n",
      "#node: 1900\n",
      "#node: 2000\n",
      "#node: 2100\n",
      "#node: 2200\n",
      "#node: 2300\n",
      "#node: 2400\n",
      "#node: 2500\n",
      "#node: 2600\n",
      "#node: 2700\n",
      "#node: 2800\n",
      "#node: 2900\n",
      "#node: 3000\n",
      "#node: 3100\n",
      "#node: 3200\n",
      "#node: 3300\n",
      "#node: 3400\n",
      "#node: 3500\n",
      "#node: 3600\n",
      "#node: 3700\n",
      "#node: 3800\n",
      "#node: 3900\n",
      "#node: 4000\n",
      "#node: 4100\n",
      "#node: 4200\n",
      "#node: 4300\n",
      "#node: 4400\n",
      "#node: 4500\n",
      "#node: 4600\n",
      "#node: 4700\n",
      "#node: 4800\n",
      "#node: 4900\n",
      "#node: 5000\n",
      "#node: 5100\n",
      "#node: 5200\n",
      "#node: 5300\n",
      "#node: 5400\n",
      "#node: 5500\n",
      "#node: 5600\n",
      "#node: 5700\n",
      "#node: 5800\n",
      "#node: 5900\n",
      "#node: 6000\n",
      "#node: 6100\n",
      "#node: 6200\n",
      "#node: 6300\n",
      "#node: 6400\n",
      "#node: 6500\n",
      "#node: 6600\n",
      "#node: 6700\n",
      "#node: 6800\n",
      "#node: 6900\n",
      "#node: 7000\n",
      "#node: 7100\n",
      "#node: 7200\n",
      "#node: 7300\n",
      "#node: 7400\n",
      "#node: 7500\n",
      "#node: 7600\n",
      "#node: 7700\n",
      "#node: 7800\n",
      "#node: 7900\n",
      "#node: 8000\n",
      "#node: 8100\n",
      "#node: 8200\n",
      "#node: 8300\n",
      "#node: 8400\n",
      "#node: 8500\n",
      "#node: 8600\n",
      "#node: 8700\n",
      "#node: 8800\n",
      "#node: 8900\n",
      "#node: 9000\n",
      "#node: 9100\n",
      "#node: 9200\n",
      "#node: 9300\n",
      "#node: 9400\n",
      "#node: 9500\n",
      "#node: 9600\n",
      "#node: 9700\n",
      "#node: 9800\n",
      "#node: 9900\n",
      "#node: 10000\n",
      "#node: 10100\n",
      "#node: 10200\n",
      "#node: 10300\n",
      "#node: 10400\n",
      "#node: 10500\n",
      "#node: 10600\n",
      "#node: 10700\n",
      "#node: 10800\n",
      "#node: 10900\n",
      "#node: 11000\n",
      "#node: 11100\n",
      "#node: 11200\n",
      "#node: 11300\n",
      "#node: 11400\n",
      "#node: 11500\n",
      "#node: 11600\n",
      "#node: 11700\n",
      "#node: 11800\n",
      "#node: 11900\n",
      "#node: 12000\n",
      "#node: 12100\n",
      "#node: 12200\n",
      "#node: 12300\n",
      "#node: 12400\n",
      "#node: 12500\n",
      "#node: 12600\n",
      "#node: 12700\n",
      "#node: 12800\n",
      "#node: 12900\n",
      "#node: 13000\n",
      "#node: 13100\n",
      "#node: 13200\n",
      "#node: 13300\n",
      "#node: 13400\n",
      "#node: 13500\n",
      "#node: 13600\n",
      "#node: 13700\n",
      "#node: 13800\n",
      "#node: 13900\n",
      "#node: 14000\n",
      "#node: 14100\n",
      "#node: 14200\n",
      "#node: 14300\n",
      "#node: 14400\n",
      "#node: 14500\n",
      "#node: 14600\n",
      "#node: 14700\n",
      "#node: 14800\n",
      "#node: 14900\n",
      "#node: 15000\n",
      "#node: 15100\n",
      "#node: 15200\n",
      "#node: 15300\n",
      "#node: 15400\n",
      "#node: 15500\n",
      "#node: 15600\n",
      "#node: 15700\n",
      "#node: 15800\n",
      "#node: 15900\n",
      "#node: 16000\n",
      "#node: 16100\n",
      "#node: 16200\n",
      "#node: 16300\n",
      "#node: 16400\n",
      "#node: 16500\n",
      "#node: 16600\n",
      "#node: 16700\n",
      "#node: 16800\n",
      "#node: 16900\n",
      "#node: 17000\n",
      "#node: 17100\n",
      "#node: 17200\n",
      "done.\n"
     ]
    }
   ],
   "source": [
    "G_bottom = forum_projection_to_file(G, bottom_nodes, top_nodes, \"atari_edges_flat_bottom\")"
   ]
  },
  {
   "cell_type": "code",
   "execution_count": 27,
   "metadata": {
    "ExecuteTime": {
     "end_time": "2018-09-27T09:14:27.459363Z",
     "start_time": "2018-09-27T09:08:29.121820Z"
    }
   },
   "outputs": [
    {
     "ename": "KeyboardInterrupt",
     "evalue": "",
     "output_type": "error",
     "traceback": [
      "\u001b[1;31m---------------------------------------------------------------------------\u001b[0m",
      "\u001b[1;31mKeyboardInterrupt\u001b[0m                         Traceback (most recent call last)",
      "\u001b[1;32m<ipython-input-27-bd47ba4f4b58>\u001b[0m in \u001b[0;36m<module>\u001b[1;34m()\u001b[0m\n\u001b[1;32m----> 1\u001b[1;33m \u001b[0mH\u001b[0m \u001b[1;33m=\u001b[0m\u001b[0mnx\u001b[0m\u001b[1;33m.\u001b[0m\u001b[0mread_weighted_edgelist\u001b[0m\u001b[1;33m(\u001b[0m\u001b[1;34m\"atari_edges_flat_bottom.csv\"\u001b[0m\u001b[1;33m,\u001b[0m \u001b[0mdelimiter\u001b[0m \u001b[1;33m=\u001b[0m\u001b[1;34m\",\"\u001b[0m\u001b[1;33m)\u001b[0m\u001b[1;33m\u001b[0m\u001b[0m\n\u001b[0m",
      "\u001b[1;32mC:\\ProgramData\\Anaconda\\envs\\py36\\lib\\site-packages\\networkx\\readwrite\\edgelist.py\u001b[0m in \u001b[0;36mread_weighted_edgelist\u001b[1;34m(path, comments, delimiter, create_using, nodetype, encoding)\u001b[0m\n\u001b[0;32m    464\u001b[0m                          \u001b[0mnodetype\u001b[0m\u001b[1;33m=\u001b[0m\u001b[0mnodetype\u001b[0m\u001b[1;33m,\u001b[0m\u001b[1;33m\u001b[0m\u001b[0m\n\u001b[0;32m    465\u001b[0m                          \u001b[0mdata\u001b[0m\u001b[1;33m=\u001b[0m\u001b[1;33m(\u001b[0m\u001b[1;33m(\u001b[0m\u001b[1;34m'weight'\u001b[0m\u001b[1;33m,\u001b[0m \u001b[0mfloat\u001b[0m\u001b[1;33m)\u001b[0m\u001b[1;33m,\u001b[0m\u001b[1;33m)\u001b[0m\u001b[1;33m,\u001b[0m\u001b[1;33m\u001b[0m\u001b[0m\n\u001b[1;32m--> 466\u001b[1;33m                          \u001b[0mencoding\u001b[0m\u001b[1;33m=\u001b[0m\u001b[0mencoding\u001b[0m\u001b[1;33m\u001b[0m\u001b[0m\n\u001b[0m\u001b[0;32m    467\u001b[0m                          )\n\u001b[0;32m    468\u001b[0m \u001b[1;33m\u001b[0m\u001b[0m\n",
      "\u001b[1;32m<decorator-gen-525>\u001b[0m in \u001b[0;36mread_edgelist\u001b[1;34m(path, comments, delimiter, create_using, nodetype, data, edgetype, encoding)\u001b[0m\n",
      "\u001b[1;32mC:\\ProgramData\\Anaconda\\envs\\py36\\lib\\site-packages\\networkx\\utils\\decorators.py\u001b[0m in \u001b[0;36m_open_file\u001b[1;34m(func_to_be_decorated, *args, **kwargs)\u001b[0m\n\u001b[0;32m    225\u001b[0m         \u001b[1;31m# Finally, we call the original function, making sure to close the fobj\u001b[0m\u001b[1;33m\u001b[0m\u001b[1;33m\u001b[0m\u001b[0m\n\u001b[0;32m    226\u001b[0m         \u001b[1;32mtry\u001b[0m\u001b[1;33m:\u001b[0m\u001b[1;33m\u001b[0m\u001b[0m\n\u001b[1;32m--> 227\u001b[1;33m             \u001b[0mresult\u001b[0m \u001b[1;33m=\u001b[0m \u001b[0mfunc_to_be_decorated\u001b[0m\u001b[1;33m(\u001b[0m\u001b[1;33m*\u001b[0m\u001b[0mnew_args\u001b[0m\u001b[1;33m,\u001b[0m \u001b[1;33m**\u001b[0m\u001b[0mkwargs\u001b[0m\u001b[1;33m)\u001b[0m\u001b[1;33m\u001b[0m\u001b[0m\n\u001b[0m\u001b[0;32m    228\u001b[0m         \u001b[1;32mfinally\u001b[0m\u001b[1;33m:\u001b[0m\u001b[1;33m\u001b[0m\u001b[0m\n\u001b[0;32m    229\u001b[0m             \u001b[1;32mif\u001b[0m \u001b[0mclose_fobj\u001b[0m\u001b[1;33m:\u001b[0m\u001b[1;33m\u001b[0m\u001b[0m\n",
      "\u001b[1;32mC:\\ProgramData\\Anaconda\\envs\\py36\\lib\\site-packages\\networkx\\readwrite\\edgelist.py\u001b[0m in \u001b[0;36mread_edgelist\u001b[1;34m(path, comments, delimiter, create_using, nodetype, data, edgetype, encoding)\u001b[0m\n\u001b[0;32m    376\u001b[0m     return parse_edgelist(lines, comments=comments, delimiter=delimiter,\n\u001b[0;32m    377\u001b[0m                           \u001b[0mcreate_using\u001b[0m\u001b[1;33m=\u001b[0m\u001b[0mcreate_using\u001b[0m\u001b[1;33m,\u001b[0m \u001b[0mnodetype\u001b[0m\u001b[1;33m=\u001b[0m\u001b[0mnodetype\u001b[0m\u001b[1;33m,\u001b[0m\u001b[1;33m\u001b[0m\u001b[0m\n\u001b[1;32m--> 378\u001b[1;33m                           data=data)\n\u001b[0m\u001b[0;32m    379\u001b[0m \u001b[1;33m\u001b[0m\u001b[0m\n\u001b[0;32m    380\u001b[0m \u001b[1;33m\u001b[0m\u001b[0m\n",
      "\u001b[1;32mC:\\ProgramData\\Anaconda\\envs\\py36\\lib\\site-packages\\networkx\\readwrite\\edgelist.py\u001b[0m in \u001b[0;36mparse_edgelist\u001b[1;34m(lines, comments, delimiter, create_using, nodetype, data)\u001b[0m\n\u001b[0;32m    302\u001b[0m                         % (edge_key, edge_value, edge_type))\n\u001b[0;32m    303\u001b[0m                 \u001b[0medgedata\u001b[0m\u001b[1;33m.\u001b[0m\u001b[0mupdate\u001b[0m\u001b[1;33m(\u001b[0m\u001b[1;33m{\u001b[0m\u001b[0medge_key\u001b[0m\u001b[1;33m:\u001b[0m \u001b[0medge_value\u001b[0m\u001b[1;33m}\u001b[0m\u001b[1;33m)\u001b[0m\u001b[1;33m\u001b[0m\u001b[0m\n\u001b[1;32m--> 304\u001b[1;33m         \u001b[0mG\u001b[0m\u001b[1;33m.\u001b[0m\u001b[0madd_edge\u001b[0m\u001b[1;33m(\u001b[0m\u001b[0mu\u001b[0m\u001b[1;33m,\u001b[0m \u001b[0mv\u001b[0m\u001b[1;33m,\u001b[0m \u001b[1;33m**\u001b[0m\u001b[0medgedata\u001b[0m\u001b[1;33m)\u001b[0m\u001b[1;33m\u001b[0m\u001b[0m\n\u001b[0m\u001b[0;32m    305\u001b[0m     \u001b[1;32mreturn\u001b[0m \u001b[0mG\u001b[0m\u001b[1;33m\u001b[0m\u001b[0m\n\u001b[0;32m    306\u001b[0m \u001b[1;33m\u001b[0m\u001b[0m\n",
      "\u001b[1;32mC:\\ProgramData\\Anaconda\\envs\\py36\\lib\\site-packages\\networkx\\classes\\graph.py\u001b[0m in \u001b[0;36madd_edge\u001b[1;34m(self, u_of_edge, v_of_edge, **attr)\u001b[0m\n\u001b[0;32m    880\u001b[0m             \u001b[0mself\u001b[0m\u001b[1;33m.\u001b[0m\u001b[0m_node\u001b[0m\u001b[1;33m[\u001b[0m\u001b[0mv\u001b[0m\u001b[1;33m]\u001b[0m \u001b[1;33m=\u001b[0m \u001b[1;33m{\u001b[0m\u001b[1;33m}\u001b[0m\u001b[1;33m\u001b[0m\u001b[0m\n\u001b[0;32m    881\u001b[0m         \u001b[1;31m# add the edge\u001b[0m\u001b[1;33m\u001b[0m\u001b[1;33m\u001b[0m\u001b[0m\n\u001b[1;32m--> 882\u001b[1;33m         \u001b[0mdatadict\u001b[0m \u001b[1;33m=\u001b[0m \u001b[0mself\u001b[0m\u001b[1;33m.\u001b[0m\u001b[0m_adj\u001b[0m\u001b[1;33m[\u001b[0m\u001b[0mu\u001b[0m\u001b[1;33m]\u001b[0m\u001b[1;33m.\u001b[0m\u001b[0mget\u001b[0m\u001b[1;33m(\u001b[0m\u001b[0mv\u001b[0m\u001b[1;33m,\u001b[0m \u001b[0mself\u001b[0m\u001b[1;33m.\u001b[0m\u001b[0medge_attr_dict_factory\u001b[0m\u001b[1;33m(\u001b[0m\u001b[1;33m)\u001b[0m\u001b[1;33m)\u001b[0m\u001b[1;33m\u001b[0m\u001b[0m\n\u001b[0m\u001b[0;32m    883\u001b[0m         \u001b[0mdatadict\u001b[0m\u001b[1;33m.\u001b[0m\u001b[0mupdate\u001b[0m\u001b[1;33m(\u001b[0m\u001b[0mattr\u001b[0m\u001b[1;33m)\u001b[0m\u001b[1;33m\u001b[0m\u001b[0m\n\u001b[0;32m    884\u001b[0m         \u001b[0mself\u001b[0m\u001b[1;33m.\u001b[0m\u001b[0m_adj\u001b[0m\u001b[1;33m[\u001b[0m\u001b[0mu\u001b[0m\u001b[1;33m]\u001b[0m\u001b[1;33m[\u001b[0m\u001b[0mv\u001b[0m\u001b[1;33m]\u001b[0m \u001b[1;33m=\u001b[0m \u001b[0mdatadict\u001b[0m\u001b[1;33m\u001b[0m\u001b[0m\n",
      "\u001b[1;31mKeyboardInterrupt\u001b[0m: "
     ]
    }
   ],
   "source": [
    "H =nx.read_weighted_edgelist(\"atari_edges_flat_bottom.csv\", delimiter =\",\")"
   ]
  },
  {
   "cell_type": "code",
   "execution_count": 28,
   "metadata": {
    "ExecuteTime": {
     "end_time": "2018-09-27T14:24:48.391240Z",
     "start_time": "2018-09-27T14:11:15.847676Z"
    }
   },
   "outputs": [],
   "source": [
    "H = nx.read_weighted_edgelist(\"atari_edges_flat_bottom_filtered.csv\", delimiter =\",\")"
   ]
  },
  {
   "cell_type": "code",
   "execution_count": 32,
   "metadata": {
    "ExecuteTime": {
     "end_time": "2018-09-27T14:32:28.257626Z",
     "start_time": "2018-09-27T14:32:28.225644Z"
    }
   },
   "outputs": [
    {
     "data": {
      "text/plain": [
       "17258"
      ]
     },
     "execution_count": 32,
     "metadata": {},
     "output_type": "execute_result"
    }
   ],
   "source": [
    "len(list(H.nodes()))\n",
    "# Estaban DUPLICADAS en el fichero en ambas direcciones, aquí las pisa."
   ]
  },
  {
   "cell_type": "code",
   "execution_count": 31,
   "metadata": {
    "ExecuteTime": {
     "end_time": "2018-09-27T14:32:13.456367Z",
     "start_time": "2018-09-27T14:31:00.055639Z"
    }
   },
   "outputs": [
    {
     "ename": "KeyboardInterrupt",
     "evalue": "",
     "output_type": "error",
     "traceback": [
      "\u001b[1;31m---------------------------------------------------------------------------\u001b[0m",
      "\u001b[1;31mKeyboardInterrupt\u001b[0m                         Traceback (most recent call last)",
      "\u001b[1;32m<ipython-input-31-2e0d970e0354>\u001b[0m in \u001b[0;36m<module>\u001b[1;34m()\u001b[0m\n\u001b[0;32m      1\u001b[0m \u001b[1;32mimport\u001b[0m \u001b[0mcommunity\u001b[0m \u001b[1;31m# al igual hace falta instalar pip install python-louvain\u001b[0m\u001b[1;33m\u001b[0m\u001b[0m\n\u001b[1;32m----> 2\u001b[1;33m \u001b[0mpartition\u001b[0m \u001b[1;33m=\u001b[0m \u001b[0mcommunity\u001b[0m\u001b[1;33m.\u001b[0m\u001b[0mbest_partition\u001b[0m\u001b[1;33m(\u001b[0m\u001b[0mH\u001b[0m\u001b[1;33m)\u001b[0m\u001b[1;33m\u001b[0m\u001b[0m\n\u001b[0m",
      "\u001b[1;32mC:\\ProgramData\\Anaconda\\envs\\py36\\lib\\site-packages\\community\\community_louvain.py\u001b[0m in \u001b[0;36mbest_partition\u001b[1;34m(graph, partition, weight, resolution, randomize)\u001b[0m\n\u001b[0;32m    212\u001b[0m                                 \u001b[0mweight\u001b[0m\u001b[1;33m,\u001b[0m\u001b[1;33m\u001b[0m\u001b[0m\n\u001b[0;32m    213\u001b[0m                                 \u001b[0mresolution\u001b[0m\u001b[1;33m,\u001b[0m\u001b[1;33m\u001b[0m\u001b[0m\n\u001b[1;32m--> 214\u001b[1;33m                                 randomize)\n\u001b[0m\u001b[0;32m    215\u001b[0m     \u001b[1;32mreturn\u001b[0m \u001b[0mpartition_at_level\u001b[0m\u001b[1;33m(\u001b[0m\u001b[0mdendo\u001b[0m\u001b[1;33m,\u001b[0m \u001b[0mlen\u001b[0m\u001b[1;33m(\u001b[0m\u001b[0mdendo\u001b[0m\u001b[1;33m)\u001b[0m \u001b[1;33m-\u001b[0m \u001b[1;36m1\u001b[0m\u001b[1;33m)\u001b[0m\u001b[1;33m\u001b[0m\u001b[0m\n\u001b[0;32m    216\u001b[0m \u001b[1;33m\u001b[0m\u001b[0m\n",
      "\u001b[1;32mC:\\ProgramData\\Anaconda\\envs\\py36\\lib\\site-packages\\community\\community_louvain.py\u001b[0m in \u001b[0;36mgenerate_dendrogram\u001b[1;34m(graph, part_init, weight, resolution, randomize)\u001b[0m\n\u001b[0;32m    289\u001b[0m         \u001b[1;32mreturn\u001b[0m \u001b[1;33m[\u001b[0m\u001b[0mpart\u001b[0m\u001b[1;33m]\u001b[0m\u001b[1;33m\u001b[0m\u001b[0m\n\u001b[0;32m    290\u001b[0m \u001b[1;33m\u001b[0m\u001b[0m\n\u001b[1;32m--> 291\u001b[1;33m     \u001b[0mcurrent_graph\u001b[0m \u001b[1;33m=\u001b[0m \u001b[0mgraph\u001b[0m\u001b[1;33m.\u001b[0m\u001b[0mcopy\u001b[0m\u001b[1;33m(\u001b[0m\u001b[1;33m)\u001b[0m\u001b[1;33m\u001b[0m\u001b[0m\n\u001b[0m\u001b[0;32m    292\u001b[0m     \u001b[0mstatus\u001b[0m \u001b[1;33m=\u001b[0m \u001b[0mStatus\u001b[0m\u001b[1;33m(\u001b[0m\u001b[1;33m)\u001b[0m\u001b[1;33m\u001b[0m\u001b[0m\n\u001b[0;32m    293\u001b[0m     \u001b[0mstatus\u001b[0m\u001b[1;33m.\u001b[0m\u001b[0minit\u001b[0m\u001b[1;33m(\u001b[0m\u001b[0mcurrent_graph\u001b[0m\u001b[1;33m,\u001b[0m \u001b[0mweight\u001b[0m\u001b[1;33m,\u001b[0m \u001b[0mpart_init\u001b[0m\u001b[1;33m)\u001b[0m\u001b[1;33m\u001b[0m\u001b[0m\n",
      "\u001b[1;32mC:\\ProgramData\\Anaconda\\envs\\py36\\lib\\site-packages\\networkx\\classes\\graph.py\u001b[0m in \u001b[0;36mcopy\u001b[1;34m(self, as_view)\u001b[0m\n\u001b[0;32m   1420\u001b[0m         \u001b[0mG\u001b[0m\u001b[1;33m.\u001b[0m\u001b[0madd_nodes_from\u001b[0m\u001b[1;33m(\u001b[0m\u001b[1;33m(\u001b[0m\u001b[0mn\u001b[0m\u001b[1;33m,\u001b[0m \u001b[0md\u001b[0m\u001b[1;33m.\u001b[0m\u001b[0mcopy\u001b[0m\u001b[1;33m(\u001b[0m\u001b[1;33m)\u001b[0m\u001b[1;33m)\u001b[0m \u001b[1;32mfor\u001b[0m \u001b[0mn\u001b[0m\u001b[1;33m,\u001b[0m \u001b[0md\u001b[0m \u001b[1;32min\u001b[0m \u001b[0mself\u001b[0m\u001b[1;33m.\u001b[0m\u001b[0m_node\u001b[0m\u001b[1;33m.\u001b[0m\u001b[0mitems\u001b[0m\u001b[1;33m(\u001b[0m\u001b[1;33m)\u001b[0m\u001b[1;33m)\u001b[0m\u001b[1;33m\u001b[0m\u001b[0m\n\u001b[0;32m   1421\u001b[0m         G.add_edges_from((u, v, datadict.copy())\n\u001b[1;32m-> 1422\u001b[1;33m                          \u001b[1;32mfor\u001b[0m \u001b[0mu\u001b[0m\u001b[1;33m,\u001b[0m \u001b[0mnbrs\u001b[0m \u001b[1;32min\u001b[0m \u001b[0mself\u001b[0m\u001b[1;33m.\u001b[0m\u001b[0m_adj\u001b[0m\u001b[1;33m.\u001b[0m\u001b[0mitems\u001b[0m\u001b[1;33m(\u001b[0m\u001b[1;33m)\u001b[0m\u001b[1;33m\u001b[0m\u001b[0m\n\u001b[0m\u001b[0;32m   1423\u001b[0m                          for v, datadict in nbrs.items())\n\u001b[0;32m   1424\u001b[0m         \u001b[1;32mreturn\u001b[0m \u001b[0mG\u001b[0m\u001b[1;33m\u001b[0m\u001b[0m\n",
      "\u001b[1;32mC:\\ProgramData\\Anaconda\\envs\\py36\\lib\\site-packages\\networkx\\classes\\graph.py\u001b[0m in \u001b[0;36madd_edges_from\u001b[1;34m(self, ebunch_to_add, **attr)\u001b[0m\n\u001b[0;32m    923\u001b[0m         \u001b[1;33m>>\u001b[0m\u001b[1;33m>\u001b[0m \u001b[0mG\u001b[0m\u001b[1;33m.\u001b[0m\u001b[0madd_edges_from\u001b[0m\u001b[1;33m(\u001b[0m\u001b[1;33m[\u001b[0m\u001b[1;33m(\u001b[0m\u001b[1;36m3\u001b[0m\u001b[1;33m,\u001b[0m \u001b[1;36m4\u001b[0m\u001b[1;33m)\u001b[0m\u001b[1;33m,\u001b[0m \u001b[1;33m(\u001b[0m\u001b[1;36m1\u001b[0m\u001b[1;33m,\u001b[0m \u001b[1;36m4\u001b[0m\u001b[1;33m)\u001b[0m\u001b[1;33m]\u001b[0m\u001b[1;33m,\u001b[0m \u001b[0mlabel\u001b[0m\u001b[1;33m=\u001b[0m\u001b[1;34m'WN2898'\u001b[0m\u001b[1;33m)\u001b[0m\u001b[1;33m\u001b[0m\u001b[0m\n\u001b[0;32m    924\u001b[0m         \"\"\"\n\u001b[1;32m--> 925\u001b[1;33m         \u001b[1;32mfor\u001b[0m \u001b[0me\u001b[0m \u001b[1;32min\u001b[0m \u001b[0mebunch_to_add\u001b[0m\u001b[1;33m:\u001b[0m\u001b[1;33m\u001b[0m\u001b[0m\n\u001b[0m\u001b[0;32m    926\u001b[0m             \u001b[0mne\u001b[0m \u001b[1;33m=\u001b[0m \u001b[0mlen\u001b[0m\u001b[1;33m(\u001b[0m\u001b[0me\u001b[0m\u001b[1;33m)\u001b[0m\u001b[1;33m\u001b[0m\u001b[0m\n\u001b[0;32m    927\u001b[0m             \u001b[1;32mif\u001b[0m \u001b[0mne\u001b[0m \u001b[1;33m==\u001b[0m \u001b[1;36m3\u001b[0m\u001b[1;33m:\u001b[0m\u001b[1;33m\u001b[0m\u001b[0m\n",
      "\u001b[1;32mC:\\ProgramData\\Anaconda\\envs\\py36\\lib\\site-packages\\networkx\\classes\\graph.py\u001b[0m in \u001b[0;36m<genexpr>\u001b[1;34m(.0)\u001b[0m\n\u001b[0;32m   1421\u001b[0m         G.add_edges_from((u, v, datadict.copy())\n\u001b[0;32m   1422\u001b[0m                          \u001b[1;32mfor\u001b[0m \u001b[0mu\u001b[0m\u001b[1;33m,\u001b[0m \u001b[0mnbrs\u001b[0m \u001b[1;32min\u001b[0m \u001b[0mself\u001b[0m\u001b[1;33m.\u001b[0m\u001b[0m_adj\u001b[0m\u001b[1;33m.\u001b[0m\u001b[0mitems\u001b[0m\u001b[1;33m(\u001b[0m\u001b[1;33m)\u001b[0m\u001b[1;33m\u001b[0m\u001b[0m\n\u001b[1;32m-> 1423\u001b[1;33m                          for v, datadict in nbrs.items())\n\u001b[0m\u001b[0;32m   1424\u001b[0m         \u001b[1;32mreturn\u001b[0m \u001b[0mG\u001b[0m\u001b[1;33m\u001b[0m\u001b[0m\n\u001b[0;32m   1425\u001b[0m \u001b[1;33m\u001b[0m\u001b[0m\n",
      "\u001b[1;31mKeyboardInterrupt\u001b[0m: "
     ]
    }
   ],
   "source": [
    "import community # al igual hace falta instalar pip install python-louvain\n",
    "partition = community.best_partition(H)"
   ]
  },
  {
   "cell_type": "code",
   "execution_count": null,
   "metadata": {},
   "outputs": [],
   "source": [
    "df['community'] = df.apply(lambda row: partition[row.Source], axis=1)"
   ]
  },
  {
   "cell_type": "code",
   "execution_count": null,
   "metadata": {},
   "outputs": [],
   "source": [
    "df.to_csv('communities_AA_tab.csv', sep ='\\t')"
   ]
  },
  {
   "cell_type": "code",
   "execution_count": null,
   "metadata": {},
   "outputs": [],
   "source": [
    "df.groupby(['community']).agg({'weight': 'sum'}).apply(lambda x:\n",
    "                                                 100 * x / float(x.sum()))"
   ]
  },
  {
   "cell_type": "code",
   "execution_count": null,
   "metadata": {},
   "outputs": [],
   "source": [
    "pesos = df.groupby(['community', 'topic_id']).agg({'weight': 'sum'})\n",
    "pesos['percentage'] = pesos['weight']/pesos.groupby('community')['weight'].transform('sum')"
   ]
  },
  {
   "cell_type": "code",
   "execution_count": null,
   "metadata": {},
   "outputs": [],
   "source": [
    "pesos"
   ]
  }
 ],
 "metadata": {
  "kernelspec": {
   "display_name": "Python 3",
   "language": "python",
   "name": "python3"
  },
  "language_info": {
   "codemirror_mode": {
    "name": "ipython",
    "version": 3
   },
   "file_extension": ".py",
   "mimetype": "text/x-python",
   "name": "python",
   "nbconvert_exporter": "python",
   "pygments_lexer": "ipython3",
   "version": "3.6.3"
  }
 },
 "nbformat": 4,
 "nbformat_minor": 2
}
