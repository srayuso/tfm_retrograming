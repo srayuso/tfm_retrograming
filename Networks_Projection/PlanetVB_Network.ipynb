{
 "cells": [
  {
   "cell_type": "code",
   "execution_count": 2,
   "metadata": {
    "ExecuteTime": {
     "end_time": "2018-09-16T11:09:32.722467Z",
     "start_time": "2018-09-16T11:09:16.173458Z"
    }
   },
   "outputs": [],
   "source": [
    "import pandas as pd\n",
    "from pandas import DataFrame, read_csv\n",
    "import networkx as nx"
   ]
  },
  {
   "cell_type": "code",
   "execution_count": 87,
   "metadata": {
    "ExecuteTime": {
     "end_time": "2018-09-16T16:01:04.292274Z",
     "start_time": "2018-09-16T16:01:03.873326Z"
    }
   },
   "outputs": [
    {
     "data": {
      "text/html": [
       "<div>\n",
       "<style scoped>\n",
       "    .dataframe tbody tr th:only-of-type {\n",
       "        vertical-align: middle;\n",
       "    }\n",
       "\n",
       "    .dataframe tbody tr th {\n",
       "        vertical-align: top;\n",
       "    }\n",
       "\n",
       "    .dataframe thead th {\n",
       "        text-align: right;\n",
       "    }\n",
       "</style>\n",
       "<table border=\"1\" class=\"dataframe\">\n",
       "  <thead>\n",
       "    <tr style=\"text-align: right;\">\n",
       "      <th></th>\n",
       "      <th>Source</th>\n",
       "      <th>Target</th>\n",
       "      <th>topic_id</th>\n",
       "      <th>weight</th>\n",
       "      <th>relationship</th>\n",
       "    </tr>\n",
       "  </thead>\n",
       "  <tbody>\n",
       "    <tr>\n",
       "      <th>0</th>\n",
       "      <td>glaros</td>\n",
       "      <td>Benjamin Stevens</td>\n",
       "      <td>1</td>\n",
       "      <td>2</td>\n",
       "      <td>replies_to_author</td>\n",
       "    </tr>\n",
       "    <tr>\n",
       "      <th>1</th>\n",
       "      <td>RunnerPack</td>\n",
       "      <td>thunderstruck</td>\n",
       "      <td>0</td>\n",
       "      <td>22</td>\n",
       "      <td>replies_to_author</td>\n",
       "    </tr>\n",
       "    <tr>\n",
       "      <th>2</th>\n",
       "      <td>Seam</td>\n",
       "      <td>DogP</td>\n",
       "      <td>2</td>\n",
       "      <td>1</td>\n",
       "      <td>replies_to_author</td>\n",
       "    </tr>\n",
       "    <tr>\n",
       "      <th>3</th>\n",
       "      <td>RetroDan</td>\n",
       "      <td>KGRAMR</td>\n",
       "      <td>2</td>\n",
       "      <td>2</td>\n",
       "      <td>replies_to_author</td>\n",
       "    </tr>\n",
       "    <tr>\n",
       "      <th>4</th>\n",
       "      <td>ZueriHB</td>\n",
       "      <td>Atari26003</td>\n",
       "      <td>6</td>\n",
       "      <td>1</td>\n",
       "      <td>replies_to_author</td>\n",
       "    </tr>\n",
       "  </tbody>\n",
       "</table>\n",
       "</div>"
      ],
      "text/plain": [
       "       Source            Target  topic_id  weight       relationship\n",
       "0      glaros  Benjamin Stevens         1       2  replies_to_author\n",
       "1  RunnerPack     thunderstruck         0      22  replies_to_author\n",
       "2        Seam              DogP         2       1  replies_to_author\n",
       "3    RetroDan            KGRAMR         2       2  replies_to_author\n",
       "4     ZueriHB        Atari26003         6       1  replies_to_author"
      ]
     },
     "execution_count": 87,
     "metadata": {},
     "output_type": "execute_result"
    }
   ],
   "source": [
    "\n",
    "\n",
    "df = pd.read_csv('vb_1_edges_foro_completo.csv',sep=';')\n",
    "df.head()"
   ]
  },
  {
   "cell_type": "code",
   "execution_count": 88,
   "metadata": {
    "ExecuteTime": {
     "end_time": "2018-09-16T16:01:04.946996Z",
     "start_time": "2018-09-16T16:01:04.937002Z"
    }
   },
   "outputs": [
    {
     "data": {
      "text/plain": [
       "array([ 1,  0,  2,  6,  5,  4,  3,  7, 11,  9], dtype=int64)"
      ]
     },
     "execution_count": 88,
     "metadata": {},
     "output_type": "execute_result"
    }
   ],
   "source": [
    "df['topic_id'].unique()"
   ]
  },
  {
   "cell_type": "code",
   "execution_count": 89,
   "metadata": {
    "ExecuteTime": {
     "end_time": "2018-09-16T16:01:06.673583Z",
     "start_time": "2018-09-16T16:01:06.662578Z"
    }
   },
   "outputs": [],
   "source": [
    "df.loc[df['topic_id'] == 2, 'topic_id'] = 'Social'"
   ]
  },
  {
   "cell_type": "code",
   "execution_count": 90,
   "metadata": {
    "ExecuteTime": {
     "end_time": "2018-09-16T16:01:07.062374Z",
     "start_time": "2018-09-16T16:01:07.048662Z"
    }
   },
   "outputs": [
    {
     "data": {
      "text/html": [
       "<div>\n",
       "<style scoped>\n",
       "    .dataframe tbody tr th:only-of-type {\n",
       "        vertical-align: middle;\n",
       "    }\n",
       "\n",
       "    .dataframe tbody tr th {\n",
       "        vertical-align: top;\n",
       "    }\n",
       "\n",
       "    .dataframe thead th {\n",
       "        text-align: right;\n",
       "    }\n",
       "</style>\n",
       "<table border=\"1\" class=\"dataframe\">\n",
       "  <thead>\n",
       "    <tr style=\"text-align: right;\">\n",
       "      <th></th>\n",
       "      <th>Source</th>\n",
       "      <th>Target</th>\n",
       "      <th>topic_id</th>\n",
       "      <th>weight</th>\n",
       "      <th>relationship</th>\n",
       "    </tr>\n",
       "  </thead>\n",
       "  <tbody>\n",
       "    <tr>\n",
       "      <th>0</th>\n",
       "      <td>glaros</td>\n",
       "      <td>Benjamin Stevens</td>\n",
       "      <td>1</td>\n",
       "      <td>2</td>\n",
       "      <td>replies_to_author</td>\n",
       "    </tr>\n",
       "    <tr>\n",
       "      <th>1</th>\n",
       "      <td>RunnerPack</td>\n",
       "      <td>thunderstruck</td>\n",
       "      <td>0</td>\n",
       "      <td>22</td>\n",
       "      <td>replies_to_author</td>\n",
       "    </tr>\n",
       "    <tr>\n",
       "      <th>2</th>\n",
       "      <td>Seam</td>\n",
       "      <td>DogP</td>\n",
       "      <td>Social</td>\n",
       "      <td>1</td>\n",
       "      <td>replies_to_author</td>\n",
       "    </tr>\n",
       "    <tr>\n",
       "      <th>3</th>\n",
       "      <td>RetroDan</td>\n",
       "      <td>KGRAMR</td>\n",
       "      <td>Social</td>\n",
       "      <td>2</td>\n",
       "      <td>replies_to_author</td>\n",
       "    </tr>\n",
       "    <tr>\n",
       "      <th>4</th>\n",
       "      <td>ZueriHB</td>\n",
       "      <td>Atari26003</td>\n",
       "      <td>6</td>\n",
       "      <td>1</td>\n",
       "      <td>replies_to_author</td>\n",
       "    </tr>\n",
       "  </tbody>\n",
       "</table>\n",
       "</div>"
      ],
      "text/plain": [
       "       Source            Target topic_id  weight       relationship\n",
       "0      glaros  Benjamin Stevens        1       2  replies_to_author\n",
       "1  RunnerPack     thunderstruck        0      22  replies_to_author\n",
       "2        Seam              DogP   Social       1  replies_to_author\n",
       "3    RetroDan            KGRAMR   Social       2  replies_to_author\n",
       "4     ZueriHB        Atari26003        6       1  replies_to_author"
      ]
     },
     "execution_count": 90,
     "metadata": {},
     "output_type": "execute_result"
    }
   ],
   "source": [
    "df.head()"
   ]
  },
  {
   "cell_type": "code",
   "execution_count": 91,
   "metadata": {
    "ExecuteTime": {
     "end_time": "2018-09-16T16:01:07.881904Z",
     "start_time": "2018-09-16T16:01:07.764967Z"
    }
   },
   "outputs": [],
   "source": [
    "df.loc[df['topic_id'] == 5, 'topic_id'] = 'Marketplace'\n",
    "df.loc[df['topic_id'] == 0, 'topic_id'] = 'Dev'\n",
    "df.loc[df['topic_id'] == 4, 'topic_id'] = 'Hardware/Repairs'\n",
    "df.loc[df['topic_id'] == 7, 'topic_id'] = 'Non-English'\n",
    "\n",
    "df.loc[df['topic_id'] == 6, 'topic_id'] = 'Misc'\n",
    "df.loc[df['topic_id'] == 8, 'topic_id'] = 'Misc'\n",
    "df.loc[df['topic_id'] == 9, 'topic_id'] = 'Misc'\n",
    "df.loc[df['topic_id'] == 10, 'topic_id'] = 'Misc'\n",
    "\n",
    "df.loc[df['topic_id'] == 1, 'topic_id'] = 'Information/Scans'\n",
    "df.loc[df['topic_id'] == 3, 'topic_id'] = 'Information/Scans'\n",
    "\n",
    "df.loc[df['topic_id'] == 11, 'topic_id'] = 'Information/Scans'"
   ]
  },
  {
   "cell_type": "code",
   "execution_count": 92,
   "metadata": {
    "ExecuteTime": {
     "end_time": "2018-09-16T16:01:09.204901Z",
     "start_time": "2018-09-16T16:01:09.198885Z"
    }
   },
   "outputs": [
    {
     "data": {
      "text/plain": [
       "array(['Information/Scans', 'Dev', 'Social', 'Misc', 'Marketplace',\n",
       "       'Hardware/Repairs', 'Non-English'], dtype=object)"
      ]
     },
     "execution_count": 92,
     "metadata": {},
     "output_type": "execute_result"
    }
   ],
   "source": [
    "df['topic_id'].unique()"
   ]
  },
  {
   "cell_type": "code",
   "execution_count": 93,
   "metadata": {
    "ExecuteTime": {
     "end_time": "2018-09-16T16:01:09.494323Z",
     "start_time": "2018-09-16T16:01:09.480331Z"
    }
   },
   "outputs": [],
   "source": [
    "df = df[df['relationship'] == 'replies_to_author']"
   ]
  },
  {
   "cell_type": "code",
   "execution_count": 94,
   "metadata": {
    "ExecuteTime": {
     "end_time": "2018-09-16T16:01:10.289407Z",
     "start_time": "2018-09-16T16:01:09.863313Z"
    }
   },
   "outputs": [
    {
     "data": {
      "text/html": [
       "<div>\n",
       "<style scoped>\n",
       "    .dataframe tbody tr th:only-of-type {\n",
       "        vertical-align: middle;\n",
       "    }\n",
       "\n",
       "    .dataframe tbody tr th {\n",
       "        vertical-align: top;\n",
       "    }\n",
       "\n",
       "    .dataframe thead th {\n",
       "        text-align: right;\n",
       "    }\n",
       "</style>\n",
       "<table border=\"1\" class=\"dataframe\">\n",
       "  <thead>\n",
       "    <tr style=\"text-align: right;\">\n",
       "      <th></th>\n",
       "      <th>weight</th>\n",
       "    </tr>\n",
       "    <tr>\n",
       "      <th>topic_id</th>\n",
       "      <th></th>\n",
       "    </tr>\n",
       "  </thead>\n",
       "  <tbody>\n",
       "    <tr>\n",
       "      <th>Dev</th>\n",
       "      <td>21.016130</td>\n",
       "    </tr>\n",
       "    <tr>\n",
       "      <th>Hardware/Repairs</th>\n",
       "      <td>11.437403</td>\n",
       "    </tr>\n",
       "    <tr>\n",
       "      <th>Information/Scans</th>\n",
       "      <td>2.817739</td>\n",
       "    </tr>\n",
       "    <tr>\n",
       "      <th>Marketplace</th>\n",
       "      <td>27.218325</td>\n",
       "    </tr>\n",
       "    <tr>\n",
       "      <th>Misc</th>\n",
       "      <td>5.183688</td>\n",
       "    </tr>\n",
       "    <tr>\n",
       "      <th>Non-English</th>\n",
       "      <td>2.215353</td>\n",
       "    </tr>\n",
       "    <tr>\n",
       "      <th>Social</th>\n",
       "      <td>30.111362</td>\n",
       "    </tr>\n",
       "  </tbody>\n",
       "</table>\n",
       "</div>"
      ],
      "text/plain": [
       "                      weight\n",
       "topic_id                    \n",
       "Dev                21.016130\n",
       "Hardware/Repairs   11.437403\n",
       "Information/Scans   2.817739\n",
       "Marketplace        27.218325\n",
       "Misc                5.183688\n",
       "Non-English         2.215353\n",
       "Social             30.111362"
      ]
     },
     "execution_count": 94,
     "metadata": {},
     "output_type": "execute_result"
    }
   ],
   "source": [
    "df.groupby(['topic_id']).agg({'weight': 'sum'}).apply(lambda x:\n",
    "                                                 100 * x / float(x.sum()))"
   ]
  },
  {
   "cell_type": "code",
   "execution_count": 79,
   "metadata": {
    "ExecuteTime": {
     "end_time": "2018-08-23T15:43:04.272292Z",
     "start_time": "2018-08-23T15:43:04.268295Z"
    }
   },
   "outputs": [],
   "source": [
    "import networkx as nx"
   ]
  },
  {
   "cell_type": "code",
   "execution_count": 80,
   "metadata": {
    "ExecuteTime": {
     "end_time": "2018-08-23T15:43:10.539593Z",
     "start_time": "2018-08-23T15:43:08.329672Z"
    }
   },
   "outputs": [],
   "source": [
    "G = nx.Graph()\n",
    "for index, row in df.iterrows():\n",
    "    \n",
    "    G.add_node(row['Source'], bipartite=0)\n",
    "    G.add_node(row['topic_id'], bipartite=1)\n",
    "    \n",
    "    if G.has_edge(row['Source'], row['topic_id']):\n",
    "                        G[row['Source']][row['topic_id']]['weight'] += row['weight']\n",
    "    else:\n",
    "        G.add_edge(row['Source'], row['topic_id'], weight = row['weight'])\n",
    "    "
   ]
  },
  {
   "cell_type": "code",
   "execution_count": 81,
   "metadata": {
    "ExecuteTime": {
     "end_time": "2018-08-23T15:43:11.410820Z",
     "start_time": "2018-08-23T15:43:11.400824Z"
    }
   },
   "outputs": [
    {
     "data": {
      "text/plain": [
       "True"
      ]
     },
     "execution_count": 81,
     "metadata": {},
     "output_type": "execute_result"
    }
   ],
   "source": [
    "nx.is_bipartite(G)"
   ]
  },
  {
   "cell_type": "code",
   "execution_count": 82,
   "metadata": {
    "ExecuteTime": {
     "end_time": "2018-08-23T15:43:14.163742Z",
     "start_time": "2018-08-23T15:43:14.153748Z"
    }
   },
   "outputs": [
    {
     "data": {
      "text/plain": [
       "2542"
      ]
     },
     "execution_count": 82,
     "metadata": {},
     "output_type": "execute_result"
    }
   ],
   "source": [
    "len(list(G.edges()))"
   ]
  },
  {
   "cell_type": "code",
   "execution_count": 83,
   "metadata": {
    "ExecuteTime": {
     "end_time": "2018-08-23T15:43:42.761006Z",
     "start_time": "2018-08-23T15:43:42.641078Z"
    }
   },
   "outputs": [],
   "source": [
    "nx.write_graphml_lxml(G, \"user_topics_VB.graphml\")"
   ]
  },
  {
   "cell_type": "code",
   "execution_count": 79,
   "metadata": {
    "ExecuteTime": {
     "end_time": "2018-09-16T15:55:20.422456Z",
     "start_time": "2018-09-16T15:55:20.295511Z"
    }
   },
   "outputs": [],
   "source": [
    "G = nx.read_graphml(\"user_topics_VB.graphml\")"
   ]
  },
  {
   "cell_type": "code",
   "execution_count": 80,
   "metadata": {
    "ExecuteTime": {
     "end_time": "2018-09-16T15:55:20.950573Z",
     "start_time": "2018-09-16T15:55:20.944594Z"
    }
   },
   "outputs": [],
   "source": [
    "top_nodes = {n for n, d in G.nodes(data=True) if d['bipartite']==1}\n",
    "bottom_nodes = set(G) - top_nodes"
   ]
  },
  {
   "cell_type": "code",
   "execution_count": 85,
   "metadata": {
    "ExecuteTime": {
     "end_time": "2018-08-23T15:43:52.714461Z",
     "start_time": "2018-08-23T15:43:45.179719Z"
    }
   },
   "outputs": [],
   "source": [
    "from networkx.algorithms import bipartite\n",
    "\n",
    "G_top = bipartite.collaboration_weighted_projected_graph(G, top_nodes)\n",
    "G_bottom = bipartite.collaboration_weighted_projected_graph(G, bottom_nodes)"
   ]
  },
  {
   "cell_type": "code",
   "execution_count": 86,
   "metadata": {
    "ExecuteTime": {
     "end_time": "2018-08-23T15:43:52.726398Z",
     "start_time": "2018-08-23T15:43:52.716407Z"
    }
   },
   "outputs": [
    {
     "data": {
      "text/plain": [
       "1162"
      ]
     },
     "execution_count": 86,
     "metadata": {},
     "output_type": "execute_result"
    }
   ],
   "source": [
    "len(list(G_bottom.nodes()))"
   ]
  },
  {
   "cell_type": "code",
   "execution_count": 87,
   "metadata": {
    "ExecuteTime": {
     "end_time": "2018-08-23T15:44:05.700879Z",
     "start_time": "2018-08-23T15:43:57.505571Z"
    }
   },
   "outputs": [],
   "source": [
    "nx.write_graphml_lxml(G_top, \"user_topics_VB_top.graphml\")\n",
    "nx.write_graphml_lxml(G_bottom, \"user_topics_VB_bottom.graphml\")"
   ]
  },
  {
   "cell_type": "code",
   "execution_count": 83,
   "metadata": {
    "ExecuteTime": {
     "end_time": "2018-09-16T16:00:22.383088Z",
     "start_time": "2018-09-16T16:00:14.080422Z"
    }
   },
   "outputs": [],
   "source": [
    "import community\n",
    "partition = community.best_partition(G_bottom)"
   ]
  },
  {
   "cell_type": "code",
   "execution_count": 84,
   "metadata": {
    "ExecuteTime": {
     "end_time": "2018-09-16T16:00:22.392067Z",
     "start_time": "2018-09-16T16:00:22.386070Z"
    }
   },
   "outputs": [],
   "source": [
    "size = float(len(set(partition.values())))"
   ]
  },
  {
   "cell_type": "code",
   "execution_count": 85,
   "metadata": {
    "ExecuteTime": {
     "end_time": "2018-09-16T16:00:22.487012Z",
     "start_time": "2018-09-16T16:00:22.395063Z"
    }
   },
   "outputs": [
    {
     "data": {
      "text/plain": [
       "5.0"
      ]
     },
     "execution_count": 85,
     "metadata": {},
     "output_type": "execute_result"
    }
   ],
   "source": [
    "size"
   ]
  },
  {
   "cell_type": "code",
   "execution_count": 95,
   "metadata": {
    "ExecuteTime": {
     "end_time": "2018-09-16T16:01:19.622415Z",
     "start_time": "2018-09-16T16:01:19.070733Z"
    }
   },
   "outputs": [],
   "source": [
    "df['community'] = df.apply(lambda row: partition[row.Source], axis=1)"
   ]
  },
  {
   "cell_type": "code",
   "execution_count": 96,
   "metadata": {
    "ExecuteTime": {
     "end_time": "2018-09-16T16:01:20.829908Z",
     "start_time": "2018-09-16T16:01:20.811916Z"
    }
   },
   "outputs": [
    {
     "data": {
      "text/html": [
       "<div>\n",
       "<style scoped>\n",
       "    .dataframe tbody tr th:only-of-type {\n",
       "        vertical-align: middle;\n",
       "    }\n",
       "\n",
       "    .dataframe tbody tr th {\n",
       "        vertical-align: top;\n",
       "    }\n",
       "\n",
       "    .dataframe thead th {\n",
       "        text-align: right;\n",
       "    }\n",
       "</style>\n",
       "<table border=\"1\" class=\"dataframe\">\n",
       "  <thead>\n",
       "    <tr style=\"text-align: right;\">\n",
       "      <th></th>\n",
       "      <th>Source</th>\n",
       "      <th>Target</th>\n",
       "      <th>topic_id</th>\n",
       "      <th>weight</th>\n",
       "      <th>relationship</th>\n",
       "      <th>community</th>\n",
       "    </tr>\n",
       "  </thead>\n",
       "  <tbody>\n",
       "    <tr>\n",
       "      <th>0</th>\n",
       "      <td>glaros</td>\n",
       "      <td>Benjamin Stevens</td>\n",
       "      <td>Information/Scans</td>\n",
       "      <td>2</td>\n",
       "      <td>replies_to_author</td>\n",
       "      <td>3</td>\n",
       "    </tr>\n",
       "    <tr>\n",
       "      <th>1</th>\n",
       "      <td>RunnerPack</td>\n",
       "      <td>thunderstruck</td>\n",
       "      <td>Dev</td>\n",
       "      <td>22</td>\n",
       "      <td>replies_to_author</td>\n",
       "      <td>0</td>\n",
       "    </tr>\n",
       "    <tr>\n",
       "      <th>2</th>\n",
       "      <td>Seam</td>\n",
       "      <td>DogP</td>\n",
       "      <td>Social</td>\n",
       "      <td>1</td>\n",
       "      <td>replies_to_author</td>\n",
       "      <td>0</td>\n",
       "    </tr>\n",
       "    <tr>\n",
       "      <th>3</th>\n",
       "      <td>RetroDan</td>\n",
       "      <td>KGRAMR</td>\n",
       "      <td>Social</td>\n",
       "      <td>2</td>\n",
       "      <td>replies_to_author</td>\n",
       "      <td>3</td>\n",
       "    </tr>\n",
       "    <tr>\n",
       "      <th>4</th>\n",
       "      <td>ZueriHB</td>\n",
       "      <td>Atari26003</td>\n",
       "      <td>Misc</td>\n",
       "      <td>1</td>\n",
       "      <td>replies_to_author</td>\n",
       "      <td>0</td>\n",
       "    </tr>\n",
       "  </tbody>\n",
       "</table>\n",
       "</div>"
      ],
      "text/plain": [
       "       Source            Target           topic_id  weight       relationship  \\\n",
       "0      glaros  Benjamin Stevens  Information/Scans       2  replies_to_author   \n",
       "1  RunnerPack     thunderstruck                Dev      22  replies_to_author   \n",
       "2        Seam              DogP             Social       1  replies_to_author   \n",
       "3    RetroDan            KGRAMR             Social       2  replies_to_author   \n",
       "4     ZueriHB        Atari26003               Misc       1  replies_to_author   \n",
       "\n",
       "   community  \n",
       "0          3  \n",
       "1          0  \n",
       "2          0  \n",
       "3          3  \n",
       "4          0  "
      ]
     },
     "execution_count": 96,
     "metadata": {},
     "output_type": "execute_result"
    }
   ],
   "source": [
    "df.head()"
   ]
  },
  {
   "cell_type": "code",
   "execution_count": 103,
   "metadata": {
    "ExecuteTime": {
     "end_time": "2018-09-17T07:19:46.375334Z",
     "start_time": "2018-09-17T07:19:46.292386Z"
    }
   },
   "outputs": [],
   "source": [
    "df.to_csv('communities_VB_tab.csv', sep ='\\t')"
   ]
  },
  {
   "cell_type": "code",
   "execution_count": 97,
   "metadata": {
    "ExecuteTime": {
     "end_time": "2018-09-16T16:01:26.659623Z",
     "start_time": "2018-09-16T16:01:26.641635Z"
    }
   },
   "outputs": [
    {
     "data": {
      "text/html": [
       "<div>\n",
       "<style scoped>\n",
       "    .dataframe tbody tr th:only-of-type {\n",
       "        vertical-align: middle;\n",
       "    }\n",
       "\n",
       "    .dataframe tbody tr th {\n",
       "        vertical-align: top;\n",
       "    }\n",
       "\n",
       "    .dataframe thead th {\n",
       "        text-align: right;\n",
       "    }\n",
       "</style>\n",
       "<table border=\"1\" class=\"dataframe\">\n",
       "  <thead>\n",
       "    <tr style=\"text-align: right;\">\n",
       "      <th></th>\n",
       "      <th>weight</th>\n",
       "    </tr>\n",
       "    <tr>\n",
       "      <th>community</th>\n",
       "      <th></th>\n",
       "    </tr>\n",
       "  </thead>\n",
       "  <tbody>\n",
       "    <tr>\n",
       "      <th>0</th>\n",
       "      <td>33.690009</td>\n",
       "    </tr>\n",
       "    <tr>\n",
       "      <th>1</th>\n",
       "      <td>3.404272</td>\n",
       "    </tr>\n",
       "    <tr>\n",
       "      <th>2</th>\n",
       "      <td>34.149725</td>\n",
       "    </tr>\n",
       "    <tr>\n",
       "      <th>3</th>\n",
       "      <td>17.401815</td>\n",
       "    </tr>\n",
       "    <tr>\n",
       "      <th>4</th>\n",
       "      <td>11.354179</td>\n",
       "    </tr>\n",
       "  </tbody>\n",
       "</table>\n",
       "</div>"
      ],
      "text/plain": [
       "              weight\n",
       "community           \n",
       "0          33.690009\n",
       "1           3.404272\n",
       "2          34.149725\n",
       "3          17.401815\n",
       "4          11.354179"
      ]
     },
     "execution_count": 97,
     "metadata": {},
     "output_type": "execute_result"
    }
   ],
   "source": [
    "df.groupby(['community']).agg({'weight': 'sum'}).apply(lambda x:\n",
    "                                                 100 * x / float(x.sum()))"
   ]
  },
  {
   "cell_type": "code",
   "execution_count": 98,
   "metadata": {
    "ExecuteTime": {
     "end_time": "2018-09-16T16:01:31.227526Z",
     "start_time": "2018-09-16T16:01:31.215515Z"
    }
   },
   "outputs": [],
   "source": [
    "pesos = df.groupby(['community', 'topic_id']).agg({'weight': 'sum'})"
   ]
  },
  {
   "cell_type": "code",
   "execution_count": 99,
   "metadata": {
    "ExecuteTime": {
     "end_time": "2018-09-16T16:01:31.737696Z",
     "start_time": "2018-09-16T16:01:31.727702Z"
    }
   },
   "outputs": [],
   "source": [
    "pesos['percentage'] = pesos['weight']/pesos.groupby('community')['weight'].transform('sum')"
   ]
  },
  {
   "cell_type": "code",
   "execution_count": 100,
   "metadata": {
    "ExecuteTime": {
     "end_time": "2018-09-16T16:01:33.682303Z",
     "start_time": "2018-09-16T16:01:33.665313Z"
    }
   },
   "outputs": [
    {
     "data": {
      "text/html": [
       "<div>\n",
       "<style scoped>\n",
       "    .dataframe tbody tr th:only-of-type {\n",
       "        vertical-align: middle;\n",
       "    }\n",
       "\n",
       "    .dataframe tbody tr th {\n",
       "        vertical-align: top;\n",
       "    }\n",
       "\n",
       "    .dataframe thead th {\n",
       "        text-align: right;\n",
       "    }\n",
       "</style>\n",
       "<table border=\"1\" class=\"dataframe\">\n",
       "  <thead>\n",
       "    <tr style=\"text-align: right;\">\n",
       "      <th></th>\n",
       "      <th></th>\n",
       "      <th>weight</th>\n",
       "      <th>percentage</th>\n",
       "    </tr>\n",
       "    <tr>\n",
       "      <th>community</th>\n",
       "      <th>topic_id</th>\n",
       "      <th></th>\n",
       "      <th></th>\n",
       "    </tr>\n",
       "  </thead>\n",
       "  <tbody>\n",
       "    <tr>\n",
       "      <th rowspan=\"7\" valign=\"top\">0</th>\n",
       "      <th>Dev</th>\n",
       "      <td>3419</td>\n",
       "      <td>0.402188</td>\n",
       "    </tr>\n",
       "    <tr>\n",
       "      <th>Hardware/Repairs</th>\n",
       "      <td>895</td>\n",
       "      <td>0.105282</td>\n",
       "    </tr>\n",
       "    <tr>\n",
       "      <th>Information/Scans</th>\n",
       "      <td>245</td>\n",
       "      <td>0.028820</td>\n",
       "    </tr>\n",
       "    <tr>\n",
       "      <th>Marketplace</th>\n",
       "      <td>1185</td>\n",
       "      <td>0.139395</td>\n",
       "    </tr>\n",
       "    <tr>\n",
       "      <th>Misc</th>\n",
       "      <td>423</td>\n",
       "      <td>0.049759</td>\n",
       "    </tr>\n",
       "    <tr>\n",
       "      <th>Non-English</th>\n",
       "      <td>110</td>\n",
       "      <td>0.012940</td>\n",
       "    </tr>\n",
       "    <tr>\n",
       "      <th>Social</th>\n",
       "      <td>2224</td>\n",
       "      <td>0.261616</td>\n",
       "    </tr>\n",
       "    <tr>\n",
       "      <th rowspan=\"7\" valign=\"top\">1</th>\n",
       "      <th>Dev</th>\n",
       "      <td>49</td>\n",
       "      <td>0.057043</td>\n",
       "    </tr>\n",
       "    <tr>\n",
       "      <th>Hardware/Repairs</th>\n",
       "      <td>43</td>\n",
       "      <td>0.050058</td>\n",
       "    </tr>\n",
       "    <tr>\n",
       "      <th>Information/Scans</th>\n",
       "      <td>4</td>\n",
       "      <td>0.004657</td>\n",
       "    </tr>\n",
       "    <tr>\n",
       "      <th>Marketplace</th>\n",
       "      <td>131</td>\n",
       "      <td>0.152503</td>\n",
       "    </tr>\n",
       "    <tr>\n",
       "      <th>Misc</th>\n",
       "      <td>57</td>\n",
       "      <td>0.066356</td>\n",
       "    </tr>\n",
       "    <tr>\n",
       "      <th>Non-English</th>\n",
       "      <td>341</td>\n",
       "      <td>0.396973</td>\n",
       "    </tr>\n",
       "    <tr>\n",
       "      <th>Social</th>\n",
       "      <td>234</td>\n",
       "      <td>0.272410</td>\n",
       "    </tr>\n",
       "    <tr>\n",
       "      <th rowspan=\"7\" valign=\"top\">2</th>\n",
       "      <th>Dev</th>\n",
       "      <td>848</td>\n",
       "      <td>0.098410</td>\n",
       "    </tr>\n",
       "    <tr>\n",
       "      <th>Hardware/Repairs</th>\n",
       "      <td>518</td>\n",
       "      <td>0.060114</td>\n",
       "    </tr>\n",
       "    <tr>\n",
       "      <th>Information/Scans</th>\n",
       "      <td>274</td>\n",
       "      <td>0.031798</td>\n",
       "    </tr>\n",
       "    <tr>\n",
       "      <th>Marketplace</th>\n",
       "      <td>4162</td>\n",
       "      <td>0.482999</td>\n",
       "    </tr>\n",
       "    <tr>\n",
       "      <th>Misc</th>\n",
       "      <td>496</td>\n",
       "      <td>0.057561</td>\n",
       "    </tr>\n",
       "    <tr>\n",
       "      <th>Non-English</th>\n",
       "      <td>68</td>\n",
       "      <td>0.007891</td>\n",
       "    </tr>\n",
       "    <tr>\n",
       "      <th>Social</th>\n",
       "      <td>2251</td>\n",
       "      <td>0.261228</td>\n",
       "    </tr>\n",
       "    <tr>\n",
       "      <th rowspan=\"7\" valign=\"top\">3</th>\n",
       "      <th>Dev</th>\n",
       "      <td>488</td>\n",
       "      <td>0.111136</td>\n",
       "    </tr>\n",
       "    <tr>\n",
       "      <th>Hardware/Repairs</th>\n",
       "      <td>510</td>\n",
       "      <td>0.116147</td>\n",
       "    </tr>\n",
       "    <tr>\n",
       "      <th>Information/Scans</th>\n",
       "      <td>123</td>\n",
       "      <td>0.028012</td>\n",
       "    </tr>\n",
       "    <tr>\n",
       "      <th>Marketplace</th>\n",
       "      <td>886</td>\n",
       "      <td>0.201776</td>\n",
       "    </tr>\n",
       "    <tr>\n",
       "      <th>Misc</th>\n",
       "      <td>205</td>\n",
       "      <td>0.046686</td>\n",
       "    </tr>\n",
       "    <tr>\n",
       "      <th>Non-English</th>\n",
       "      <td>27</td>\n",
       "      <td>0.006149</td>\n",
       "    </tr>\n",
       "    <tr>\n",
       "      <th>Social</th>\n",
       "      <td>2152</td>\n",
       "      <td>0.490093</td>\n",
       "    </tr>\n",
       "    <tr>\n",
       "      <th rowspan=\"7\" valign=\"top\">4</th>\n",
       "      <th>Dev</th>\n",
       "      <td>499</td>\n",
       "      <td>0.174171</td>\n",
       "    </tr>\n",
       "    <tr>\n",
       "      <th>Hardware/Repairs</th>\n",
       "      <td>920</td>\n",
       "      <td>0.321117</td>\n",
       "    </tr>\n",
       "    <tr>\n",
       "      <th>Information/Scans</th>\n",
       "      <td>65</td>\n",
       "      <td>0.022688</td>\n",
       "    </tr>\n",
       "    <tr>\n",
       "      <th>Marketplace</th>\n",
       "      <td>504</td>\n",
       "      <td>0.175916</td>\n",
       "    </tr>\n",
       "    <tr>\n",
       "      <th>Misc</th>\n",
       "      <td>127</td>\n",
       "      <td>0.044328</td>\n",
       "    </tr>\n",
       "    <tr>\n",
       "      <th>Non-English</th>\n",
       "      <td>13</td>\n",
       "      <td>0.004538</td>\n",
       "    </tr>\n",
       "    <tr>\n",
       "      <th>Social</th>\n",
       "      <td>737</td>\n",
       "      <td>0.257243</td>\n",
       "    </tr>\n",
       "  </tbody>\n",
       "</table>\n",
       "</div>"
      ],
      "text/plain": [
       "                             weight  percentage\n",
       "community topic_id                             \n",
       "0         Dev                  3419    0.402188\n",
       "          Hardware/Repairs      895    0.105282\n",
       "          Information/Scans     245    0.028820\n",
       "          Marketplace          1185    0.139395\n",
       "          Misc                  423    0.049759\n",
       "          Non-English           110    0.012940\n",
       "          Social               2224    0.261616\n",
       "1         Dev                    49    0.057043\n",
       "          Hardware/Repairs       43    0.050058\n",
       "          Information/Scans       4    0.004657\n",
       "          Marketplace           131    0.152503\n",
       "          Misc                   57    0.066356\n",
       "          Non-English           341    0.396973\n",
       "          Social                234    0.272410\n",
       "2         Dev                   848    0.098410\n",
       "          Hardware/Repairs      518    0.060114\n",
       "          Information/Scans     274    0.031798\n",
       "          Marketplace          4162    0.482999\n",
       "          Misc                  496    0.057561\n",
       "          Non-English            68    0.007891\n",
       "          Social               2251    0.261228\n",
       "3         Dev                   488    0.111136\n",
       "          Hardware/Repairs      510    0.116147\n",
       "          Information/Scans     123    0.028012\n",
       "          Marketplace           886    0.201776\n",
       "          Misc                  205    0.046686\n",
       "          Non-English            27    0.006149\n",
       "          Social               2152    0.490093\n",
       "4         Dev                   499    0.174171\n",
       "          Hardware/Repairs      920    0.321117\n",
       "          Information/Scans      65    0.022688\n",
       "          Marketplace           504    0.175916\n",
       "          Misc                  127    0.044328\n",
       "          Non-English            13    0.004538\n",
       "          Social                737    0.257243"
      ]
     },
     "execution_count": 100,
     "metadata": {},
     "output_type": "execute_result"
    }
   ],
   "source": [
    "pesos"
   ]
  },
  {
   "cell_type": "code",
   "execution_count": null,
   "metadata": {},
   "outputs": [],
   "source": []
  },
  {
   "cell_type": "code",
   "execution_count": null,
   "metadata": {},
   "outputs": [],
   "source": []
  },
  {
   "cell_type": "code",
   "execution_count": null,
   "metadata": {},
   "outputs": [],
   "source": []
  },
  {
   "cell_type": "code",
   "execution_count": 97,
   "metadata": {
    "ExecuteTime": {
     "end_time": "2018-08-23T15:46:41.247908Z",
     "start_time": "2018-08-23T15:46:41.225918Z"
    }
   },
   "outputs": [
    {
     "data": {
      "text/html": [
       "<div>\n",
       "<style scoped>\n",
       "    .dataframe tbody tr th:only-of-type {\n",
       "        vertical-align: middle;\n",
       "    }\n",
       "\n",
       "    .dataframe tbody tr th {\n",
       "        vertical-align: top;\n",
       "    }\n",
       "\n",
       "    .dataframe thead th {\n",
       "        text-align: right;\n",
       "    }\n",
       "</style>\n",
       "<table border=\"1\" class=\"dataframe\">\n",
       "  <thead>\n",
       "    <tr style=\"text-align: right;\">\n",
       "      <th></th>\n",
       "      <th>Id</th>\n",
       "      <th>Label</th>\n",
       "      <th>timeset</th>\n",
       "      <th>d0</th>\n",
       "      <th>modularity_class</th>\n",
       "    </tr>\n",
       "  </thead>\n",
       "  <tbody>\n",
       "    <tr>\n",
       "      <th>0</th>\n",
       "      <td>Rocksteady</td>\n",
       "      <td>Rocksteady</td>\n",
       "      <td>NaN</td>\n",
       "      <td>0</td>\n",
       "      <td>5</td>\n",
       "    </tr>\n",
       "    <tr>\n",
       "      <th>1</th>\n",
       "      <td>vb zach</td>\n",
       "      <td>vb zach</td>\n",
       "      <td>NaN</td>\n",
       "      <td>0</td>\n",
       "      <td>3</td>\n",
       "    </tr>\n",
       "    <tr>\n",
       "      <th>2</th>\n",
       "      <td>M.K.</td>\n",
       "      <td>M.K.</td>\n",
       "      <td>NaN</td>\n",
       "      <td>0</td>\n",
       "      <td>0</td>\n",
       "    </tr>\n",
       "    <tr>\n",
       "      <th>3</th>\n",
       "      <td>Marc</td>\n",
       "      <td>Marc</td>\n",
       "      <td>NaN</td>\n",
       "      <td>0</td>\n",
       "      <td>3</td>\n",
       "    </tr>\n",
       "    <tr>\n",
       "      <th>4</th>\n",
       "      <td>trippstatic</td>\n",
       "      <td>trippstatic</td>\n",
       "      <td>NaN</td>\n",
       "      <td>0</td>\n",
       "      <td>0</td>\n",
       "    </tr>\n",
       "  </tbody>\n",
       "</table>\n",
       "</div>"
      ],
      "text/plain": [
       "            Id        Label  timeset  d0  modularity_class\n",
       "0   Rocksteady   Rocksteady      NaN   0                 5\n",
       "1      vb zach      vb zach      NaN   0                 3\n",
       "2         M.K.         M.K.      NaN   0                 0\n",
       "3         Marc         Marc      NaN   0                 3\n",
       "4  trippstatic  trippstatic      NaN   0                 0"
      ]
     },
     "execution_count": 97,
     "metadata": {},
     "output_type": "execute_result"
    }
   ],
   "source": [
    "df_gephi = pd.read_csv('modularity_gephi.csv')\n",
    "df_gephi.head()"
   ]
  },
  {
   "cell_type": "code",
   "execution_count": 98,
   "metadata": {
    "ExecuteTime": {
     "end_time": "2018-08-23T15:46:45.292978Z",
     "start_time": "2018-08-23T15:46:45.287999Z"
    }
   },
   "outputs": [],
   "source": [
    "dict_gephi = dict(zip(df_gephi['Id'], df_gephi['modularity_class']))"
   ]
  },
  {
   "cell_type": "code",
   "execution_count": 99,
   "metadata": {
    "ExecuteTime": {
     "end_time": "2018-08-23T15:46:45.930168Z",
     "start_time": "2018-08-23T15:46:45.905164Z"
    }
   },
   "outputs": [
    {
     "data": {
      "text/plain": [
       "{'Rocksteady': 5,\n",
       " 'vb zach': 3,\n",
       " 'M.K.': 0,\n",
       " 'Marc': 3,\n",
       " 'trippstatic': 0,\n",
       " 'El Borto': 3,\n",
       " 'Alfissta': 0,\n",
       " 'boom': 1,\n",
       " 'introvert': 5,\n",
       " 'ryucheese': 1,\n",
       " 'rdk123': 1,\n",
       " 'Nessie': 0,\n",
       " 'Hiro': 1,\n",
       " 'Virtual Jim': 5,\n",
       " 'Dr. Jeckidy': 2,\n",
       " 'D.R MARIO': 5,\n",
       " 'zeromous': 2,\n",
       " 'jaku': 3,\n",
       " 'decayedmatter': 0,\n",
       " 'dragz': 2,\n",
       " 'Florian': 5,\n",
       " 'GabrielHanson2000': 0,\n",
       " 'Tokimemofan': 2,\n",
       " 'ThatOtherDan': 2,\n",
       " 'Pierce': 4,\n",
       " 'Raijin Z': 1,\n",
       " 'alesi80': 4,\n",
       " 'Rogueleader1101': 2,\n",
       " 'InactiveX': 0,\n",
       " 'Vitual Jim': 2,\n",
       " 'Pre10der': 1,\n",
       " 'Sega_gw': 3,\n",
       " 'Virtual_Link': 0,\n",
       " 'David': 3,\n",
       " 'Xinorok': 3,\n",
       " 'Nitrosoxide': 4,\n",
       " 'oldskoolmodderguy': 1,\n",
       " 'Ferris Bueller': 3,\n",
       " 'Hungry Mech': 5,\n",
       " 'CZroe': 3,\n",
       " 'shenmueso': 0,\n",
       " 'Samuel': 4,\n",
       " 'MAXLEFOU': 5,\n",
       " 'coleco': 2,\n",
       " 'PsychedelicShaman': 2,\n",
       " 'megax9': 2,\n",
       " 'Wario': 3,\n",
       " 'JKouf23': 1,\n",
       " 'Nightowljrm': 0,\n",
       " 'DocDoak': 5,\n",
       " 'TheCamel': 2,\n",
       " 'cualquiercosa327': 4,\n",
       " 'Supa~Squrriel': 5,\n",
       " 'jmo': 4,\n",
       " '8bitmatt': 0,\n",
       " 'Russcular': 3,\n",
       " 'CyberAkuma': 1,\n",
       " 'Dead Head': 4,\n",
       " 'thunderstruck': 0,\n",
       " 'Magnus Johansson': 5,\n",
       " '*****': 0,\n",
       " 'eric': 5,\n",
       " 'tetrisgrammaton': 1,\n",
       " 'cr1901': 4,\n",
       " 'Fazered': 2,\n",
       " 'gdfgdf': 3,\n",
       " 'Angry_Sun': 4,\n",
       " 'Marioguy': 4,\n",
       " 'Beta': 2,\n",
       " 'VBmills': 0,\n",
       " 'jumpman': 4,\n",
       " 'DaNDeE': 4,\n",
       " 'makeinu': 2,\n",
       " 'Stomp9': 2,\n",
       " 'ElmerPCFX': 4,\n",
       " 'taoworm23': 4,\n",
       " 'boons': 2,\n",
       " 'Tighe': 4,\n",
       " 'Hadhod': 5,\n",
       " '3Dhardcore': 4,\n",
       " 'pogo': 3,\n",
       " 'Hebbe_84': 3,\n",
       " 'Johnny Phantom': 4,\n",
       " 'secnine': 3,\n",
       " 'Mednafen': 4,\n",
       " 'Chrisf': 2,\n",
       " 'TheGrandPubaa': 3,\n",
       " 'rcantor77': 3,\n",
       " 'akumie': 0,\n",
       " 'frAme666': 5,\n",
       " 'dogeymon': 3,\n",
       " 'SoBS': 5,\n",
       " 'The virtual boy': 5,\n",
       " '3DSJunkie': 1,\n",
       " 'alchemy': 3,\n",
       " 'justice': 2,\n",
       " 'Jason': 5,\n",
       " 'fixedgerald': 3,\n",
       " 'Jay666': 1,\n",
       " 'VRJZ': 4,\n",
       " 'ziggaboogi': 1,\n",
       " 'Guest': 5,\n",
       " 'funderos': 3,\n",
       " 'flashbang_23': 4,\n",
       " 'Michael H.': 5,\n",
       " 'mik': 3,\n",
       " 'TerryJ': 4,\n",
       " 'marle': 5,\n",
       " 'Sega CD': 2,\n",
       " 'blah': 2,\n",
       " 'desert_fan_club': 1,\n",
       " 'hildenbraugh': 0,\n",
       " 'CodeFish': 5,\n",
       " 'minkkari': 2,\n",
       " 'colb': 1,\n",
       " 'Cruz40': 2,\n",
       " 'shiro_akechi': 1,\n",
       " 'Ekitz': 2,\n",
       " 'JoePassive': 4,\n",
       " 'doesbenfoldfive': 0,\n",
       " 'wcmiker': 3,\n",
       " 'Juan Solano': 3,\n",
       " 'Kira': 4,\n",
       " 'DrWho198': 4,\n",
       " 'CAKE': 2,\n",
       " 'manicfoot': 0,\n",
       " 'SublimeJhn': 2,\n",
       " 'VirtualDude': 1,\n",
       " 'Chris Evans': 5,\n",
       " 'eebuckeye': 2,\n",
       " 'VirtualLuigi': 1,\n",
       " 'Carsten': 5,\n",
       " 'guruguy': 3,\n",
       " 'Fr0st': 1,\n",
       " 'vuefinder83': 0,\n",
       " 'danny': 3,\n",
       " 'Pawel': 1,\n",
       " 'syncophono': 4,\n",
       " 'dotnfo': 2,\n",
       " 'VirtualRolf': 5,\n",
       " 'Buck Russell': 0,\n",
       " 'TheGameFan': 1,\n",
       " 'johnme': 4,\n",
       " 'gast': 5,\n",
       " 'j mo': 2,\n",
       " 'modeltfordman': 4,\n",
       " \"I h8t you're message\": 2,\n",
       " 'sunuv': 4,\n",
       " 'Dr.Crackers': 5,\n",
       " 'Thunder Fist': 2,\n",
       " 'zcore101': 5,\n",
       " 'ste': 3,\n",
       " 'Baptist': 4,\n",
       " 'Justin Hayabusa': 4,\n",
       " 'arthur': 2,\n",
       " 'SPACE HARRIER': 3,\n",
       " 'Brandon Tabassi': 5,\n",
       " 'bieze': 2,\n",
       " 'DCFreak': 2,\n",
       " 'bbutl001': 1,\n",
       " '_shameless_': 4,\n",
       " 'shadowy_but_immortal': 4,\n",
       " 'ArcadeAddict': 3,\n",
       " 'SuperRetroBrosBlog': 4,\n",
       " 'Sampler': 3,\n",
       " 'daniel': 2,\n",
       " 'kcsims': 2,\n",
       " 'HandsomeDan': 1,\n",
       " 'Michael Bernard': 0,\n",
       " 'Nox': 3,\n",
       " 'frenchievb': 0,\n",
       " 'mobster011': 3,\n",
       " 'duey2k': 3,\n",
       " 'Andy B': 1,\n",
       " 'Zimbabwe': 4,\n",
       " 'Maraakate': 4,\n",
       " 'dremcast': 2,\n",
       " 'Nesmaster75': 2,\n",
       " 'badboybubby': 0,\n",
       " 'czar_h': 5,\n",
       " 'Yeti3D': 4,\n",
       " 'Dirkster': 5,\n",
       " 'bigmak': 0,\n",
       " 'virtuetovice': 1,\n",
       " 'Masterxilo': 4,\n",
       " 'Ferry Groenendijk': 5,\n",
       " 'fups': 5,\n",
       " 'DrEvil': 5,\n",
       " 'Morintari': 0,\n",
       " 'Domingo696': 1,\n",
       " 'Memnock': 2,\n",
       " 'Brian Hodges': 4,\n",
       " 'tomaitheous': 2,\n",
       " 'dj898': 3,\n",
       " 'Revival Studios': 3,\n",
       " 'dantebk': 1,\n",
       " 'LouSalome': 0,\n",
       " 'jacuk': 4,\n",
       " 'Peter': 5,\n",
       " 'Metkid91': 4,\n",
       " 'Fury': 1,\n",
       " 'SNK': 4,\n",
       " 'towersmaster': 5,\n",
       " 'C4l^in': 1,\n",
       " 'Da_GPer': 4,\n",
       " 'carlo3do': 1,\n",
       " 'seffers007': 1,\n",
       " 'SkullAndXBones': 1,\n",
       " 'Shou': 3,\n",
       " 'DrafT_PunK': 2,\n",
       " 'glaros': 0,\n",
       " 'gladders': 0,\n",
       " 'BrandoN GothiK': 5,\n",
       " 'StereoBoy': 4,\n",
       " 'Minggus': 3,\n",
       " 'VirtualChris': 0,\n",
       " 'Craby': 0,\n",
       " 'pandepandu': 1,\n",
       " 'Viper0hr': 4,\n",
       " 'Koohiisan': 4,\n",
       " 'RCAstudioII': 4,\n",
       " 'vbman': 4,\n",
       " 'dolphin-maniac': 5,\n",
       " \"soul'd out\": 3,\n",
       " 'konsolenfan': 5,\n",
       " 'VRZone': 5,\n",
       " 'Nanis': 0,\n",
       " 'Yackom': 4,\n",
       " 'GeoAnas': 4,\n",
       " 'Black&Red': 4,\n",
       " 'kim293': 0,\n",
       " 'Virtual_Ben': 0,\n",
       " 'Jagman67': 4,\n",
       " 'Master Chief 2363': 0,\n",
       " 'Bonehead Braixen': 0,\n",
       " 'Shabadoo': 3,\n",
       " 'Metal Man': 2,\n",
       " 'Murfo': 3,\n",
       " 'mattcutt': 2,\n",
       " 'PBX': 3,\n",
       " 'Guido Anchovy': 1,\n",
       " 'Specialt1212': 2,\n",
       " 'Lynx': 2,\n",
       " 'lisalover1': 2,\n",
       " 'WoLfMaN': 0,\n",
       " 'Yodakiller3000': 4,\n",
       " 'Damian Borth': 5,\n",
       " 'BigHead': 2,\n",
       " 'Jochen': 5,\n",
       " 'OzzySan': 3,\n",
       " 'zenintrude': 1,\n",
       " 'procyon': 2,\n",
       " 'Jacob': 3,\n",
       " 'crono7': 0,\n",
       " 'Mack': 2,\n",
       " 'J4K3R': 4,\n",
       " 'marky242': 3,\n",
       " 'Cheats?': 2,\n",
       " 'DerSchatten': 3,\n",
       " 'SpiralPegasus': 2,\n",
       " '3L_S4N70': 1,\n",
       " 'nintendodork': 4,\n",
       " 'Taute': 5,\n",
       " 'andy': 5,\n",
       " 'fergo23': 2,\n",
       " 'Kk-Man': 4,\n",
       " 'nensondubois': 4,\n",
       " 'Hoov3r': 2,\n",
       " 'ZeldaFan042': 2,\n",
       " 'retronintendonerd': 0,\n",
       " 'One Punch Man': 4,\n",
       " 'uzumaki': 0,\n",
       " 'Mintor': 3,\n",
       " 'Der Lordkanzler': 5,\n",
       " 'ilarri': 2,\n",
       " 'MrX': 5,\n",
       " 'dentaku': 3,\n",
       " 'Andyfell': 1,\n",
       " 'Combes': 5,\n",
       " 'injection18': 2,\n",
       " 'fxyjenna89': 3,\n",
       " 'Andi': 5,\n",
       " 'Virtual': 2,\n",
       " 'madone': 3,\n",
       " 'george': 2,\n",
       " 'michaelxoc': 3,\n",
       " 'ciderman': 2,\n",
       " 'Tjb123': 3,\n",
       " 'Algoon': 4,\n",
       " 'maicoalvim': 2,\n",
       " 'robneal81': 2,\n",
       " 'Chaz': 4,\n",
       " 'RunnerPack': 0,\n",
       " 'the_importer': 0,\n",
       " 'skeg64': 3,\n",
       " 'D.T.': 5,\n",
       " 'MockyLock': 4,\n",
       " 'roelvdm3': 4,\n",
       " 'speedyink': 0,\n",
       " 'pimp72': 2,\n",
       " 'thaddius': 4,\n",
       " 'helloimLAMEBOYandimfat': 5,\n",
       " 'AtariBorn': 2,\n",
       " 'colesonwilson': 0,\n",
       " 'Bufko': 5,\n",
       " 'Virtual_Bembo': 3,\n",
       " 'vbsteffel': 3,\n",
       " 'oldschoolnesgamer': 2,\n",
       " 'Bruno': 4,\n",
       " 'Camera': 0,\n",
       " 'norty': 4,\n",
       " 'virtualboyfan': 4,\n",
       " 'Breedlove': 3,\n",
       " 'husan93': 3,\n",
       " 'VBK2889': 4,\n",
       " 'GeekNFreak': 1,\n",
       " 'Lumi': 2,\n",
       " 'chrisyunger': 2,\n",
       " 'LotsaSpaghetti': 2,\n",
       " 'hELLrIPPER': 2,\n",
       " 'LeusteanVB': 4,\n",
       " 'btm79': 5,\n",
       " 'Burkel': 3,\n",
       " 'footwo': 2,\n",
       " 'Techni': 4,\n",
       " 'mips5000': 4,\n",
       " 'samus': 1,\n",
       " 'kitaro': 2,\n",
       " 'Junio': 5,\n",
       " 'Allen': 0,\n",
       " 'Silicon': 5,\n",
       " 'masematte': 2,\n",
       " 'Wyndcrosser': 0,\n",
       " 'Blue0524': 3,\n",
       " 'Akuma-Sama': 5,\n",
       " 'Issa': 2,\n",
       " 'Arvester': 0,\n",
       " 'DENNIS': 4,\n",
       " 'Phed': 4,\n",
       " 'mathew': 0,\n",
       " 'BigScheaf': 4,\n",
       " 'Vrfan': 1,\n",
       " 'pocket': 4,\n",
       " 'plankton': 5,\n",
       " 'geoflcl': 1,\n",
       " 'Espiox': 2,\n",
       " 'madgolfertom': 5,\n",
       " 'Mr. G': 4,\n",
       " 'Twila': 4,\n",
       " 'XJaPaN': 5,\n",
       " 'KGRAMR': 0,\n",
       " 'DanB': 0,\n",
       " 'Seppatoni': 5,\n",
       " 'vb-fan': 0,\n",
       " 'DeAthWaGer': 4,\n",
       " 'gamesbloke': 5,\n",
       " 'kwk': 1,\n",
       " 'HonkeyKong': 4,\n",
       " 'ManaSmack': 3,\n",
       " 'good evening': 0,\n",
       " 'nopantsx': 1,\n",
       " 'Locobox': 2,\n",
       " 'realyst': 0,\n",
       " 'Lance Barret': 3,\n",
       " 'elreins': 0,\n",
       " 'mic_': 4,\n",
       " 'Billy': 1,\n",
       " 'KM': 5,\n",
       " 'Manwe': 4,\n",
       " 'victorboy': 1,\n",
       " 'VBlover': 0,\n",
       " 'atari24': 4,\n",
       " 'TrJ22487': 1,\n",
       " 'someone': 1,\n",
       " 'FragHeadFred': 2,\n",
       " 'Protoman85': 0,\n",
       " 'slicerd': 1,\n",
       " 'bodkinz': 4,\n",
       " 'Greg Stevens': 4,\n",
       " 'HoMenace': 4,\n",
       " 'belinoreis': 2,\n",
       " 'Salure': 4,\n",
       " 'wiidata.net': 5,\n",
       " 'Jack.': 1,\n",
       " 'renardqueenston': 0,\n",
       " 'raeshao': 3,\n",
       " 'Elrinth': 4,\n",
       " 'Andreas J.': 5,\n",
       " 'knocturne': 3,\n",
       " 'rklok': 3,\n",
       " 'JavOLeeN': 1,\n",
       " 'Joshtheleo': 3,\n",
       " 'Kemakill': 2,\n",
       " 'tydyedsyko': 0,\n",
       " 'joker1000': 5,\n",
       " 'kkabalka': 1,\n",
       " 'mouser': 1,\n",
       " 'djense1': 3,\n",
       " 'GreDe85': 3,\n",
       " 'GrimBeaver': 3,\n",
       " 'idsblake': 0,\n",
       " 'DevilsAvocado': 0,\n",
       " 'clonecman': 4,\n",
       " 'virtualman1995': 2,\n",
       " 'VisualBoy Advance': 2,\n",
       " 'Karnalg': 4,\n",
       " 'Friend of Sonic': 3,\n",
       " 'Johnny365': 4,\n",
       " 'mitssu75': 2,\n",
       " 'TheForce81': 0,\n",
       " 'bubbletopsebas': 1,\n",
       " 'MoFaJo': 4,\n",
       " 'Nedelbach': 2,\n",
       " 'jumpsteady': 3,\n",
       " 'Fitty': 2,\n",
       " 'Robotbling': 3,\n",
       " 'Dagmar': 1,\n",
       " 'starfoxi': 5,\n",
       " 'Sam Murdock': 5,\n",
       " 'DaytonaUSA': 4,\n",
       " 'element6': 2,\n",
       " 'blackeyedgamer': 4,\n",
       " 'Shokwav': 4,\n",
       " 'Vincenzo': 2,\n",
       " 'Propane13': 3,\n",
       " 'HtheB': 2,\n",
       " 'fallenzephir': 1,\n",
       " 'jimid2': 3,\n",
       " 'Chris2': 3,\n",
       " 'Drouch22': 1,\n",
       " 'CaptGinyu89': 2,\n",
       " 'Garrison': 0,\n",
       " 'eljulinspace': 2,\n",
       " 'KR155E': 0,\n",
       " 'nmalinoski': 0,\n",
       " 'SuToCorp': 3,\n",
       " 'Feel': 5,\n",
       " 'Alucard': 2,\n",
       " 'Autofaker': 4,\n",
       " 'Sbeehive': 1,\n",
       " 'TheTeaGuy': 3,\n",
       " 'lwizardl': 1,\n",
       " 'Red Eyed Madness': 3,\n",
       " 'svenk91': 0,\n",
       " 'Tuna': 1,\n",
       " 'lostwithin': 2,\n",
       " 'sirhcman': 3,\n",
       " 'Fwow13': 4,\n",
       " 'BGE': 5,\n",
       " 'Arseen': 3,\n",
       " 'KAOS': 4,\n",
       " 'd.r mario': 5,\n",
       " 'PizzaGeorge': 2,\n",
       " 'robski': 3,\n",
       " 'Brandon': 5,\n",
       " 'james103': 4,\n",
       " 'Kompressor': 0,\n",
       " 'Dreammary': 0,\n",
       " 'VRMike': 4,\n",
       " 'sillyzombie666': 0,\n",
       " 'CaptainK': 3,\n",
       " 'andresfc': 2,\n",
       " 'kile': 2,\n",
       " 'Streex': 2,\n",
       " 'matt': 5,\n",
       " 'koifish': 2,\n",
       " 'Virtual Fiend': 3,\n",
       " 'mbuchman': 0,\n",
       " 'StinkerB06': 4,\n",
       " 'racerx': 3,\n",
       " 'mooshue': 1,\n",
       " 'Richard LP': 0,\n",
       " 'jasonbar': 3,\n",
       " 'Chris': 5,\n",
       " 'saim jutt': 1,\n",
       " 'moog': 5,\n",
       " 'CrazyMaster': 5,\n",
       " 'Sprachpoet': 5,\n",
       " 'bd974': 4,\n",
       " 'Gabriel': 5,\n",
       " 'njkauto1': 1,\n",
       " 'Ryosaebaa': 2,\n",
       " 'Virtualboy [Swe]': 4,\n",
       " 'Elisha': 2,\n",
       " 'Sir_Ronny_2000': 5,\n",
       " 'gymstar': 0,\n",
       " 'chicgamer': 1,\n",
       " 'PeepingSnipa': 2,\n",
       " 'Black Chaos': 2,\n",
       " 'Klax': 0,\n",
       " 'trumpy': 1,\n",
       " 'VirtualJockey': 0,\n",
       " 'thitherton': 1,\n",
       " 'Shiggsy': 3,\n",
       " 'ShinigamiPR': 3,\n",
       " 'CrU553': 5,\n",
       " 'homer_81': 5,\n",
       " 'Komris': 3,\n",
       " 'Alex': 1,\n",
       " 'XIX': 2,\n",
       " 'Sir William': 5,\n",
       " 'goomboy': 2,\n",
       " 'virtualboyfreak': 0,\n",
       " 'Hawl Tygar': 4,\n",
       " 'UncleBob': 2,\n",
       " 'VirtualBoyX': 1,\n",
       " 'darthsteve333': 3,\n",
       " 'nitrosport2000': 0,\n",
       " 'Raptor2569': 4,\n",
       " 'UHATEIT': 0,\n",
       " 'Heliowalton': 1,\n",
       " 'RetroGmr': 2,\n",
       " 'LarsHudec': 2,\n",
       " 'VBAddict': 2,\n",
       " 'Travis': 3,\n",
       " 'IOwnMyWiiULEGIT': 4,\n",
       " 'olle': 2,\n",
       " 'Reel Big Fish': 0,\n",
       " 'jojobean': 0,\n",
       " 'gunpeiyokoifan': 0,\n",
       " 'danielps': 2,\n",
       " 'Supergeon': 1,\n",
       " 'NR20': 5,\n",
       " 'Nerd': 1,\n",
       " 'Ayce': 0,\n",
       " 'ROGER GRONER ANWALT': 5,\n",
       " 'Steve Solen': 3,\n",
       " 'Bomberman94': 0,\n",
       " 'Marulu': 3,\n",
       " 'Mr. Halloween': 3,\n",
       " 'Geo12': 3,\n",
       " 'quequotion': 5,\n",
       " 'DBloke': 1,\n",
       " 'Steve': 4,\n",
       " 'ttc817': 2,\n",
       " '0dd': 3,\n",
       " 'haaze707': 0,\n",
       " 'Bob Backland': 1,\n",
       " 'nvchad2': 1,\n",
       " 'AtariWizard': 1,\n",
       " 'Bernhard Müller': 5,\n",
       " 'josephmalenkov': 3,\n",
       " 'Alexander': 2,\n",
       " 'Panzerblitz': 1,\n",
       " 'Mathieu': 2,\n",
       " 'Strangler': 1,\n",
       " 'Mackin2010': 3,\n",
       " 'CMills': 1,\n",
       " 'Paulygon': 4,\n",
       " 'Deadly-D': 4,\n",
       " 'Virtual Girl': 5,\n",
       " 'stuey': 3,\n",
       " 'MineStorm': 0,\n",
       " 'Undead': 5,\n",
       " 'focusrs': 2,\n",
       " 'famiac': 1,\n",
       " 'Marcus': 4,\n",
       " 'Heraclio': 3,\n",
       " 'Spinal': 4,\n",
       " 'FearTheDodo': 3,\n",
       " 'Koteshi': 5,\n",
       " 'DEEJAYZAQ': 2,\n",
       " 'gwyndion': 3,\n",
       " 'Mistanelsin': 4,\n",
       " 'maccallan': 4,\n",
       " 'xenon': 4,\n",
       " 'mutchop': 3,\n",
       " 'HollowedEmpire': 0,\n",
       " 'RadioClash': 5,\n",
       " 'Propster': 3,\n",
       " 'blitter': 0,\n",
       " 'sf_fan': 2,\n",
       " 'SuperCorey': 2,\n",
       " 'Ryu Cheese': 3,\n",
       " 'pseudonym anonym': 5,\n",
       " 'e5frog': 0,\n",
       " 'Michael Austin': 2,\n",
       " 'Vectrexer': 4,\n",
       " 'Red Metal': 4,\n",
       " 'Torchic': 2,\n",
       " 'Cosmoterran': 3,\n",
       " 'Microtic': 3,\n",
       " 'POLIWOG': 4,\n",
       " 'Raverrevolution': 4,\n",
       " 'bmo': 4,\n",
       " 'Rom': 5,\n",
       " 'MOLINASON': 5,\n",
       " 'J': 3,\n",
       " 'RayXambeR': 3,\n",
       " 'dumdedum': 0,\n",
       " 'Charrass69': 5,\n",
       " 'Diego': 5,\n",
       " 'the_red_one': 4,\n",
       " 'nabz32': 2,\n",
       " 'Dunkelheit': 4,\n",
       " '3DBoyColor': 0,\n",
       " 'Dreth': 2,\n",
       " 'Alex uwu': 0,\n",
       " 'WireA2': 1,\n",
       " 'Canucktim': 3,\n",
       " 'fryster': 3,\n",
       " 'huhWhat': 1,\n",
       " 'NintendoMB': 1,\n",
       " 'Blombi': 5,\n",
       " 'Kuhnaydeein': 5,\n",
       " 'SoNick_RND': 1,\n",
       " 'Jeth': 5,\n",
       " 'DaG': 1,\n",
       " 'RpgCollector': 4,\n",
       " 'nothing': 5,\n",
       " 'ectoglow': 4,\n",
       " 'Paul': 5,\n",
       " 'VirtualMoose': 5,\n",
       " 'raistlin77it': 4,\n",
       " 'turqoisehex': 1,\n",
       " 'Sceptre_JLRB': 2,\n",
       " 'Shizbah': 3,\n",
       " 'virtualn00b': 1,\n",
       " 'albersan': 5,\n",
       " 'kit23': 2,\n",
       " 'Scooblee': 0,\n",
       " 'Marco': 5,\n",
       " 'MindChild': 2,\n",
       " 'MetroidHatchling': 2,\n",
       " 'Billy Ensign': 4,\n",
       " 'loktar': 2,\n",
       " 'Atari26003': 3,\n",
       " 'P3n0r': 1,\n",
       " 'HP Lovethrash': 0,\n",
       " 'RareGameCollector': 4,\n",
       " 'tjsynkral': 2,\n",
       " 'VBoy': 3,\n",
       " 'Mobius': 1,\n",
       " 'juggaloman09': 1,\n",
       " 'KRIS': 4,\n",
       " 'Amarao': 2,\n",
       " 'Freeze': 5,\n",
       " 'bennybtl': 1,\n",
       " 'Alexwilkins': 3,\n",
       " 'tomkong97': 1,\n",
       " 'darkknight109': 2,\n",
       " 'amado1977': 2,\n",
       " 'enfilade': 0,\n",
       " 'Fwirt': 5,\n",
       " 'botted05': 2,\n",
       " 'Mandy': 2,\n",
       " 'Martyg': 1,\n",
       " 'madmax': 5,\n",
       " 'guest': 2,\n",
       " 'Legendary_Zero': 3,\n",
       " 'willi': 5,\n",
       " 'Nutmeister': 3,\n",
       " 'VBabe86': 5,\n",
       " 'sandwich': 1,\n",
       " 'DMC': 2,\n",
       " 'LS650': 0,\n",
       " 'DJMARCO': 2,\n",
       " 'Vague Rant': 2,\n",
       " 'capcomfan83': 2,\n",
       " '-~=Hello=~-': 0,\n",
       " 'Poohie53': 2,\n",
       " 'pollo20x6': 3,\n",
       " 'Fire-WSP': 0,\n",
       " 'GasMasksOfThePast': 2,\n",
       " 'Knightcrawler': 4,\n",
       " 'VirtualMan!': 1,\n",
       " 'S7AYONTARGE7': 0,\n",
       " 'suzushu': 0,\n",
       " 'andy b': 1,\n",
       " 'Acer': 5,\n",
       " 'Ray': 5,\n",
       " 'retrocute': 5,\n",
       " 'FaZyCrUcK': 3,\n",
       " 'keneda': 4,\n",
       " 'Virtualboyblows': 5,\n",
       " 'FlareFolf': 4,\n",
       " 'VirtualGirl': 5,\n",
       " 'Anonymous': 2,\n",
       " 'erictiernan': 5,\n",
       " 'Splurge': 2,\n",
       " 'bazilbourgeois': 5,\n",
       " 'KJ4860': 4,\n",
       " 'EdwardianAge': 3,\n",
       " 'Squeegor': 0,\n",
       " 'Boneriver': 1,\n",
       " 'thatguyinjapan': 3,\n",
       " '133MHz': 3,\n",
       " 'andy[w]': 1,\n",
       " 'HorvatM': 0,\n",
       " 'Syxe66': 0,\n",
       " 'rancidskater': 2,\n",
       " 'Vidjagamecollector': 1,\n",
       " 'jets28cm': 3,\n",
       " 'Kyrushi': 0,\n",
       " 'muskabulldog': 2,\n",
       " 'StealthNinjaScyther': 4,\n",
       " 'Climax Together': 2,\n",
       " 'mmora': 0,\n",
       " 'drunkencat': 1,\n",
       " 'cause415': 2,\n",
       " 'RandomNumbersGuy': 3,\n",
       " 'drsreym': 3,\n",
       " 'bitxero': 4,\n",
       " 'Benny': 3,\n",
       " 'ManBeard': 2,\n",
       " 'John E Bravo': 1,\n",
       " 'VirtualLife': 2,\n",
       " 'bahooney': 1,\n",
       " 'RobotTypePerson3D': 2,\n",
       " 'adlena': 2,\n",
       " 'ExSlyder': 2,\n",
       " 'Makaimura': 2,\n",
       " 'DogP': 0,\n",
       " 'VBForever': 2,\n",
       " 'brizio': 3,\n",
       " 'LordRayken': 0,\n",
       " 'Tanuki': 3,\n",
       " 'WeirdoZ': 2,\n",
       " 'Thomas Rode': 5,\n",
       " 'Soma': 2,\n",
       " 'vbeol': 3,\n",
       " 'fogamersix': 1,\n",
       " 'Gameboygeek': 1,\n",
       " 'mark': 4,\n",
       " 'Key': 3,\n",
       " 'Virual Jim': 5,\n",
       " 'gameboy': 3,\n",
       " 'Dietmar': 5,\n",
       " 'skaman': 2,\n",
       " 'james tolson': 2,\n",
       " 'ZKB': 4,\n",
       " 'ohioratrodder': 3,\n",
       " 'jaytee81': 3,\n",
       " 'CrazyDean': 2,\n",
       " 'Antonio': 3,\n",
       " 'PeckGoesVirtual': 1,\n",
       " 'Nes Freak': 1,\n",
       " 'EVIL NOD': 2,\n",
       " 'Trev': 1,\n",
       " 'Chavaflyfree': 1,\n",
       " 'Mr Tom Ato': 2,\n",
       " 'TheretroGameboy': 3,\n",
       " 'Splain': 1,\n",
       " 'brunorog': 4,\n",
       " 'wazzal': 0,\n",
       " 'Duane': 2,\n",
       " 'juanignacioriesco2': 2,\n",
       " 'StrayFelisCatus': 4,\n",
       " 'VivaLaVirtualBoy': 5,\n",
       " 'admeister': 3,\n",
       " 'NamelessFPG': 4,\n",
       " 'Foxx': 2,\n",
       " 'Hector': 0,\n",
       " 'jzagal': 4,\n",
       " 'Virtual Boy Freak': 5,\n",
       " 'Cymatic': 0,\n",
       " 'Eric': 2,\n",
       " 'nusilver': 3,\n",
       " 'Magus': 4,\n",
       " 'Dale': 1,\n",
       " 'dimiris': 5,\n",
       " 'UncleGramps': 1,\n",
       " 'Starfox': 1,\n",
       " 'RetroDan': 0,\n",
       " 'Mike8redcoins': 0,\n",
       " 'sonictonic': 3,\n",
       " 'Axs': 0,\n",
       " 'matthew rafalko': 0,\n",
       " 'Planlos1988': 1,\n",
       " 'Tonya': 3,\n",
       " 'brian schulman': 5,\n",
       " 'Qen': 2,\n",
       " 'dave': 3,\n",
       " 'Captain_kelly': 1,\n",
       " 'Virtuanatic': 2,\n",
       " 'Speedle': 4,\n",
       " '10YLL': 3,\n",
       " 'Syder': 0,\n",
       " 'DarkusMarkus': 4,\n",
       " 'Robert Molander': 5,\n",
       " 'Guy Perfect': 0,\n",
       " 'Xanamander': 2,\n",
       " 'Glover': 0,\n",
       " 'VBA HELP PLEASE!': 2,\n",
       " 'Prodigy': 3,\n",
       " 'VirtualZoa': 1,\n",
       " 'Gato': 2,\n",
       " 'Protons': 4,\n",
       " 'goo3r': 1,\n",
       " 'ccanfield1': 3,\n",
       " 'darkmath': 2,\n",
       " 'travis': 3,\n",
       " 'Megatron': 2,\n",
       " 'Virtually_Obsessed': 2,\n",
       " 'robbievgb': 3,\n",
       " 'lordkevin': 0,\n",
       " 'super mario': 5,\n",
       " 'WhiteSpyder': 2,\n",
       " 'Tints': 2,\n",
       " 'edwingamino': 2,\n",
       " 'sw201444': 0,\n",
       " 'Jadepicnic': 4,\n",
       " 'goat84': 2,\n",
       " 'octopus': 3,\n",
       " 'Had0ken': 3,\n",
       " 'krebalo': 2,\n",
       " 'irving': 4,\n",
       " 'wizard': 3,\n",
       " \"Your Bill Gate's bitch!\": 2,\n",
       " 'Akuma632': 1,\n",
       " 'kevster': 2,\n",
       " 'Vender': 0,\n",
       " 'TheMetalBeast': 1,\n",
       " 'Madmax': 5,\n",
       " 'SMVB64': 0,\n",
       " 'L___E___T': 0,\n",
       " 'Phil': 5,\n",
       " 'vappy': 2,\n",
       " 'usch': 4,\n",
       " 'terrisus': 3,\n",
       " 'FeistyGirl': 1,\n",
       " 'astro187': 0,\n",
       " 'sjp2': 4,\n",
       " 'mister x': 5,\n",
       " 'Twingatz': 1,\n",
       " 'lucifershalo': 5,\n",
       " 'Babblu3': 1,\n",
       " 'MeatAndPotatoes': 2,\n",
       " 'Cyberdyne': 4,\n",
       " 'VirtuousRage': 4,\n",
       " 'willsg1977': 0,\n",
       " 'blizzardjesus': 2,\n",
       " 'KingDedede': 3,\n",
       " 'jpkiller69': 3,\n",
       " 'fernando vba master': 2,\n",
       " 'OoZic': 3,\n",
       " 'scopevanilla': 4,\n",
       " 'Fez': 5,\n",
       " 'Cornholio': 1,\n",
       " 'Opeth': 0,\n",
       " 'TheClash603': 3,\n",
       " 'tarsius4': 4,\n",
       " 'bart711': 3,\n",
       " 'rimsky82': 2,\n",
       " 'duqtito': 1,\n",
       " 'ryanfullerton91': 1,\n",
       " 'pablo': 3,\n",
       " 'Fender119': 0,\n",
       " 'Lee Chapman': 1,\n",
       " 'Virtual JIM': 1,\n",
       " '3D in red': 5,\n",
       " 'Shkunk': 3,\n",
       " 'ranger_lennier': 2,\n",
       " 'Schwanck': 3,\n",
       " 'dasjamma': 2,\n",
       " 'Neskid': 1,\n",
       " 'Vaughanabe13': 0,\n",
       " 'Virtualman': 3,\n",
       " 'Dimentia': 2,\n",
       " 'Supa Hot Fire': 4,\n",
       " 'RileyVB': 2,\n",
       " 'FAHQALL': 2,\n",
       " 'isolomon6': 1,\n",
       " 'Daniel': 5,\n",
       " 'Kolt': 3,\n",
       " 'in3D': 5,\n",
       " 'John': 5,\n",
       " 'ALLeyeCisRED': 1,\n",
       " 'Rob': 1,\n",
       " 'fAx': 5,\n",
       " 'virtualboyke': 5,\n",
       " 'Superkamiguru72': 2,\n",
       " 'Ares': 1,\n",
       " 'Gerrhod': 3,\n",
       " 'jaycee900': 2,\n",
       " 'mellott124': 0,\n",
       " 'Willy105': 0,\n",
       " 'megazoid': 2,\n",
       " 'kingbrandus111': 5,\n",
       " 'Pmintz85': 1,\n",
       " 'virtual boy 2k': 3,\n",
       " 'NathanBarnatt': 2,\n",
       " 'Princess': 3,\n",
       " 'Games Galaxy': 5,\n",
       " 'donhonk': 4,\n",
       " 'icomage': 2,\n",
       " 'ghibben': 3,\n",
       " 'Sunkan': 2,\n",
       " 'Italian Boy': 4,\n",
       " 'Marish V. Card': 2,\n",
       " 'FamicomFreak': 5,\n",
       " 'Ironhell': 1,\n",
       " 'virmonk': 1,\n",
       " 'Kirbendo': 3,\n",
       " 'McHuffin': 3,\n",
       " 'sho-sa': 5,\n",
       " 'Slainte': 3,\n",
       " 'MortoffGames': 2,\n",
       " 'JackFost': 5,\n",
       " 'BenRPG': 5,\n",
       " 'Parasyte': 4,\n",
       " 'David Pimentel': 4,\n",
       " '(_) u a k e': 2,\n",
       " 'virtualpal': 3,\n",
       " 'Oni': 0,\n",
       " 'DocAetzn': 5,\n",
       " '83skillz': 4,\n",
       " 'lastkill3r': 2,\n",
       " 'Japon.se': 2,\n",
       " 'TheHandsomeDan': 4,\n",
       " 'Brooklyn': 3,\n",
       " 'skeptik82': 3,\n",
       " 'Zubari95': 1,\n",
       " 'louloubeber': 3,\n",
       " 'mariaud': 3,\n",
       " 'RyuCheese': 4,\n",
       " 'Chalvo': 3,\n",
       " 'Arius Geist': 0,\n",
       " 'blowback': 4,\n",
       " 'Eugen Schlauch': 5,\n",
       " 'benzin': 0,\n",
       " 'Mysticmaus': 0,\n",
       " 'SteveFlash': 4,\n",
       " '\\\\Person\\\\\"\"': 5,\n",
       " 'Yeti_dude': 4,\n",
       " 'Heppner': 0,\n",
       " 'Vulpes': 0,\n",
       " 'Matthew Callis': 2,\n",
       " 'ramgarden': 2,\n",
       " 'Benjamin Stevens': 0,\n",
       " 'r05sco': 2,\n",
       " 'VBRetroGamer': 3,\n",
       " 'kurtori': 2,\n",
       " 'Steril707': 4,\n",
       " 'pinmagic': 0,\n",
       " 'Seam': 0,\n",
       " '1Up': 5,\n",
       " 'doc_jim': 4,\n",
       " 'Fred brown': 5,\n",
       " 'UncleTusker': 4,\n",
       " 'ACiD': 2,\n",
       " 'SuperMew98': 4,\n",
       " 'ProtonX': 2,\n",
       " 'PerfectlyNoah': 2,\n",
       " 'coyo5050': 2,\n",
       " 'Scottj10': 3,\n",
       " 'Ebisumaru': 1,\n",
       " 'RocketMagnet': 3,\n",
       " 'Person': 5,\n",
       " 'manic23': 4,\n",
       " 'kynrek': 5,\n",
       " 'Bauer Florian': 5,\n",
       " 'Mycah': 2,\n",
       " 'Artie': 4,\n",
       " 'Levine91': 4,\n",
       " 'marioweezer': 2,\n",
       " 'hawk1010': 4,\n",
       " 'RAD': 4,\n",
       " 'Fabrizo': 2,\n",
       " 'Quaze': 0,\n",
       " 'Noirtheater': 2,\n",
       " 'hkdio': 2,\n",
       " 'bballctr50': 3,\n",
       " 'basscadet': 2,\n",
       " 'LucasWeatherby': 3,\n",
       " 'Go lay down and die!!!!': 2,\n",
       " 'Christian Hedemann': 5,\n",
       " 'Gaunab': 3,\n",
       " 'Gabor': 5,\n",
       " 'AdamDud': 4,\n",
       " 'person': 5,\n",
       " 'Ryan Hoss': 3,\n",
       " 'Samus2008': 3,\n",
       " 'Randy': 3,\n",
       " 'blubb': 5,\n",
       " 'Virtual Pat': 3,\n",
       " 'Plankton': 5,\n",
       " 'knightrider666': 3,\n",
       " 'NMC1': 5,\n",
       " 'reality_boy': 4,\n",
       " 'Nasum': 2,\n",
       " 'mxpxrobbie': 1,\n",
       " 'XSF04': 4,\n",
       " 'Spiderbite2002': 2,\n",
       " 'KoNeko': 3,\n",
       " 'skcin7': 3,\n",
       " 'Ack': 2,\n",
       " 'Viertual Jim': 2,\n",
       " 'MasterOfPuppets': 0,\n",
       " 'DragonmasterDan': 0,\n",
       " 'calpirro': 2,\n",
       " 'Zach the Xtra Guy': 5,\n",
       " 'edracon': 4,\n",
       " 'vassallo': 2,\n",
       " 'Jim': 4,\n",
       " 'Octaedre': 4,\n",
       " 'blcklblskt': 0,\n",
       " 'Vallie': 2,\n",
       " 'cmoliveira': 2,\n",
       " 'el_cut': 2,\n",
       " ...}"
      ]
     },
     "execution_count": 99,
     "metadata": {},
     "output_type": "execute_result"
    }
   ],
   "source": [
    "dict_gephi"
   ]
  },
  {
   "cell_type": "code",
   "execution_count": 100,
   "metadata": {
    "ExecuteTime": {
     "end_time": "2018-08-23T15:46:49.897196Z",
     "start_time": "2018-08-23T15:46:49.601363Z"
    }
   },
   "outputs": [],
   "source": [
    "df['community_gephi'] = df.apply(lambda row: dict_gephi[row.Source], axis=1)"
   ]
  },
  {
   "cell_type": "code",
   "execution_count": 101,
   "metadata": {
    "ExecuteTime": {
     "end_time": "2018-08-23T15:46:49.918181Z",
     "start_time": "2018-08-23T15:46:49.899192Z"
    }
   },
   "outputs": [
    {
     "data": {
      "text/html": [
       "<div>\n",
       "<style scoped>\n",
       "    .dataframe tbody tr th:only-of-type {\n",
       "        vertical-align: middle;\n",
       "    }\n",
       "\n",
       "    .dataframe tbody tr th {\n",
       "        vertical-align: top;\n",
       "    }\n",
       "\n",
       "    .dataframe thead th {\n",
       "        text-align: right;\n",
       "    }\n",
       "</style>\n",
       "<table border=\"1\" class=\"dataframe\">\n",
       "  <thead>\n",
       "    <tr style=\"text-align: right;\">\n",
       "      <th></th>\n",
       "      <th>Source</th>\n",
       "      <th>Target</th>\n",
       "      <th>topic_id</th>\n",
       "      <th>weight</th>\n",
       "      <th>relationship</th>\n",
       "      <th>community</th>\n",
       "      <th>community_gephi</th>\n",
       "    </tr>\n",
       "  </thead>\n",
       "  <tbody>\n",
       "    <tr>\n",
       "      <th>0</th>\n",
       "      <td>glaros</td>\n",
       "      <td>Benjamin Stevens</td>\n",
       "      <td>Information/Scans</td>\n",
       "      <td>2</td>\n",
       "      <td>replies_to_author</td>\n",
       "      <td>2</td>\n",
       "      <td>0</td>\n",
       "    </tr>\n",
       "    <tr>\n",
       "      <th>1</th>\n",
       "      <td>RunnerPack</td>\n",
       "      <td>thunderstruck</td>\n",
       "      <td>Dev</td>\n",
       "      <td>22</td>\n",
       "      <td>replies_to_author</td>\n",
       "      <td>2</td>\n",
       "      <td>0</td>\n",
       "    </tr>\n",
       "    <tr>\n",
       "      <th>2</th>\n",
       "      <td>Seam</td>\n",
       "      <td>DogP</td>\n",
       "      <td>Social</td>\n",
       "      <td>1</td>\n",
       "      <td>replies_to_author</td>\n",
       "      <td>2</td>\n",
       "      <td>0</td>\n",
       "    </tr>\n",
       "    <tr>\n",
       "      <th>3</th>\n",
       "      <td>RetroDan</td>\n",
       "      <td>KGRAMR</td>\n",
       "      <td>Social</td>\n",
       "      <td>2</td>\n",
       "      <td>replies_to_author</td>\n",
       "      <td>2</td>\n",
       "      <td>0</td>\n",
       "    </tr>\n",
       "    <tr>\n",
       "      <th>4</th>\n",
       "      <td>ZueriHB</td>\n",
       "      <td>Atari26003</td>\n",
       "      <td>Misc</td>\n",
       "      <td>1</td>\n",
       "      <td>replies_to_author</td>\n",
       "      <td>2</td>\n",
       "      <td>0</td>\n",
       "    </tr>\n",
       "  </tbody>\n",
       "</table>\n",
       "</div>"
      ],
      "text/plain": [
       "       Source            Target           topic_id  weight       relationship  \\\n",
       "0      glaros  Benjamin Stevens  Information/Scans       2  replies_to_author   \n",
       "1  RunnerPack     thunderstruck                Dev      22  replies_to_author   \n",
       "2        Seam              DogP             Social       1  replies_to_author   \n",
       "3    RetroDan            KGRAMR             Social       2  replies_to_author   \n",
       "4     ZueriHB        Atari26003               Misc       1  replies_to_author   \n",
       "\n",
       "   community  community_gephi  \n",
       "0          2                0  \n",
       "1          2                0  \n",
       "2          2                0  \n",
       "3          2                0  \n",
       "4          2                0  "
      ]
     },
     "execution_count": 101,
     "metadata": {},
     "output_type": "execute_result"
    }
   ],
   "source": [
    "df.head()"
   ]
  },
  {
   "cell_type": "code",
   "execution_count": 102,
   "metadata": {
    "ExecuteTime": {
     "end_time": "2018-08-23T15:46:52.674375Z",
     "start_time": "2018-08-23T15:46:52.646392Z"
    }
   },
   "outputs": [
    {
     "data": {
      "text/html": [
       "<div>\n",
       "<style scoped>\n",
       "    .dataframe tbody tr th:only-of-type {\n",
       "        vertical-align: middle;\n",
       "    }\n",
       "\n",
       "    .dataframe tbody tr th {\n",
       "        vertical-align: top;\n",
       "    }\n",
       "\n",
       "    .dataframe thead th {\n",
       "        text-align: right;\n",
       "    }\n",
       "</style>\n",
       "<table border=\"1\" class=\"dataframe\">\n",
       "  <thead>\n",
       "    <tr style=\"text-align: right;\">\n",
       "      <th></th>\n",
       "      <th></th>\n",
       "      <th>weight</th>\n",
       "      <th>percentage</th>\n",
       "    </tr>\n",
       "    <tr>\n",
       "      <th>community_gephi</th>\n",
       "      <th>topic_id</th>\n",
       "      <th></th>\n",
       "      <th></th>\n",
       "    </tr>\n",
       "  </thead>\n",
       "  <tbody>\n",
       "    <tr>\n",
       "      <th rowspan=\"7\" valign=\"top\">0</th>\n",
       "      <th>Dev</th>\n",
       "      <td>4375</td>\n",
       "      <td>0.226966</td>\n",
       "    </tr>\n",
       "    <tr>\n",
       "      <th>Hardware/Repairs</th>\n",
       "      <td>2211</td>\n",
       "      <td>0.114702</td>\n",
       "    </tr>\n",
       "    <tr>\n",
       "      <th>Information/Scans</th>\n",
       "      <td>709</td>\n",
       "      <td>0.036781</td>\n",
       "    </tr>\n",
       "    <tr>\n",
       "      <th>Marketplace</th>\n",
       "      <td>5199</td>\n",
       "      <td>0.269714</td>\n",
       "    </tr>\n",
       "    <tr>\n",
       "      <th>Misc</th>\n",
       "      <td>983</td>\n",
       "      <td>0.050996</td>\n",
       "    </tr>\n",
       "    <tr>\n",
       "      <th>Non-English</th>\n",
       "      <td>194</td>\n",
       "      <td>0.010064</td>\n",
       "    </tr>\n",
       "    <tr>\n",
       "      <th>Social</th>\n",
       "      <td>5605</td>\n",
       "      <td>0.290776</td>\n",
       "    </tr>\n",
       "    <tr>\n",
       "      <th rowspan=\"4\" valign=\"top\">1</th>\n",
       "      <th>Hardware/Repairs</th>\n",
       "      <td>264</td>\n",
       "      <td>0.423756</td>\n",
       "    </tr>\n",
       "    <tr>\n",
       "      <th>Marketplace</th>\n",
       "      <td>165</td>\n",
       "      <td>0.264848</td>\n",
       "    </tr>\n",
       "    <tr>\n",
       "      <th>Misc</th>\n",
       "      <td>32</td>\n",
       "      <td>0.051364</td>\n",
       "    </tr>\n",
       "    <tr>\n",
       "      <th>Social</th>\n",
       "      <td>162</td>\n",
       "      <td>0.260032</td>\n",
       "    </tr>\n",
       "    <tr>\n",
       "      <th rowspan=\"2\" valign=\"top\">2</th>\n",
       "      <th>Misc</th>\n",
       "      <td>28</td>\n",
       "      <td>0.074271</td>\n",
       "    </tr>\n",
       "    <tr>\n",
       "      <th>Social</th>\n",
       "      <td>349</td>\n",
       "      <td>0.925729</td>\n",
       "    </tr>\n",
       "    <tr>\n",
       "      <th rowspan=\"3\" valign=\"top\">3</th>\n",
       "      <th>Marketplace</th>\n",
       "      <td>574</td>\n",
       "      <td>0.648588</td>\n",
       "    </tr>\n",
       "    <tr>\n",
       "      <th>Misc</th>\n",
       "      <td>50</td>\n",
       "      <td>0.056497</td>\n",
       "    </tr>\n",
       "    <tr>\n",
       "      <th>Social</th>\n",
       "      <td>261</td>\n",
       "      <td>0.294915</td>\n",
       "    </tr>\n",
       "    <tr>\n",
       "      <th rowspan=\"5\" valign=\"top\">4</th>\n",
       "      <th>Dev</th>\n",
       "      <td>795</td>\n",
       "      <td>0.284335</td>\n",
       "    </tr>\n",
       "    <tr>\n",
       "      <th>Hardware/Repairs</th>\n",
       "      <td>332</td>\n",
       "      <td>0.118741</td>\n",
       "    </tr>\n",
       "    <tr>\n",
       "      <th>Marketplace</th>\n",
       "      <td>647</td>\n",
       "      <td>0.231402</td>\n",
       "    </tr>\n",
       "    <tr>\n",
       "      <th>Misc</th>\n",
       "      <td>135</td>\n",
       "      <td>0.048283</td>\n",
       "    </tr>\n",
       "    <tr>\n",
       "      <th>Social</th>\n",
       "      <td>887</td>\n",
       "      <td>0.317239</td>\n",
       "    </tr>\n",
       "    <tr>\n",
       "      <th rowspan=\"7\" valign=\"top\">5</th>\n",
       "      <th>Dev</th>\n",
       "      <td>133</td>\n",
       "      <td>0.104232</td>\n",
       "    </tr>\n",
       "    <tr>\n",
       "      <th>Hardware/Repairs</th>\n",
       "      <td>79</td>\n",
       "      <td>0.061912</td>\n",
       "    </tr>\n",
       "    <tr>\n",
       "      <th>Information/Scans</th>\n",
       "      <td>2</td>\n",
       "      <td>0.001567</td>\n",
       "    </tr>\n",
       "    <tr>\n",
       "      <th>Marketplace</th>\n",
       "      <td>283</td>\n",
       "      <td>0.221787</td>\n",
       "    </tr>\n",
       "    <tr>\n",
       "      <th>Misc</th>\n",
       "      <td>80</td>\n",
       "      <td>0.062696</td>\n",
       "    </tr>\n",
       "    <tr>\n",
       "      <th>Non-English</th>\n",
       "      <td>365</td>\n",
       "      <td>0.286050</td>\n",
       "    </tr>\n",
       "    <tr>\n",
       "      <th>Social</th>\n",
       "      <td>334</td>\n",
       "      <td>0.261755</td>\n",
       "    </tr>\n",
       "  </tbody>\n",
       "</table>\n",
       "</div>"
      ],
      "text/plain": [
       "                                   weight  percentage\n",
       "community_gephi topic_id                             \n",
       "0               Dev                  4375    0.226966\n",
       "                Hardware/Repairs     2211    0.114702\n",
       "                Information/Scans     709    0.036781\n",
       "                Marketplace          5199    0.269714\n",
       "                Misc                  983    0.050996\n",
       "                Non-English           194    0.010064\n",
       "                Social               5605    0.290776\n",
       "1               Hardware/Repairs      264    0.423756\n",
       "                Marketplace           165    0.264848\n",
       "                Misc                   32    0.051364\n",
       "                Social                162    0.260032\n",
       "2               Misc                   28    0.074271\n",
       "                Social                349    0.925729\n",
       "3               Marketplace           574    0.648588\n",
       "                Misc                   50    0.056497\n",
       "                Social                261    0.294915\n",
       "4               Dev                   795    0.284335\n",
       "                Hardware/Repairs      332    0.118741\n",
       "                Marketplace           647    0.231402\n",
       "                Misc                  135    0.048283\n",
       "                Social                887    0.317239\n",
       "5               Dev                   133    0.104232\n",
       "                Hardware/Repairs       79    0.061912\n",
       "                Information/Scans       2    0.001567\n",
       "                Marketplace           283    0.221787\n",
       "                Misc                   80    0.062696\n",
       "                Non-English           365    0.286050\n",
       "                Social                334    0.261755"
      ]
     },
     "execution_count": 102,
     "metadata": {},
     "output_type": "execute_result"
    }
   ],
   "source": [
    "pesos_gephi = df.groupby(['community_gephi', 'topic_id']).agg({'weight': 'sum'})\n",
    "pesos_gephi['percentage'] = pesos_gephi['weight']/pesos_gephi.groupby('community_gephi')['weight'].transform('sum')\n",
    "pesos_gephi"
   ]
  },
  {
   "cell_type": "code",
   "execution_count": null,
   "metadata": {},
   "outputs": [],
   "source": []
  },
  {
   "cell_type": "markdown",
   "metadata": {},
   "source": [
    "# NEWMAN CON PESOS"
   ]
  },
  {
   "cell_type": "code",
   "execution_count": 8,
   "metadata": {
    "ExecuteTime": {
     "end_time": "2018-09-16T14:43:47.244160Z",
     "start_time": "2018-09-16T14:43:47.235164Z"
    }
   },
   "outputs": [],
   "source": [
    "def my_weight(G, u, v, weight='weight'):\n",
    "    w = 0\n",
    "    for nbr in set(G[u]) & set(G[v]):\n",
    "        w += G[u][nbr].get(weight, 1) + G[v][nbr].get(weight, 1)\n",
    "    return w"
   ]
  },
  {
   "cell_type": "code",
   "execution_count": 9,
   "metadata": {
    "ExecuteTime": {
     "end_time": "2018-09-16T14:45:15.748058Z",
     "start_time": "2018-09-16T14:45:15.740064Z"
    }
   },
   "outputs": [],
   "source": [
    "edges = [('A1','B1',3),\n",
    "         ('A1','B2',7),\n",
    "         ('A2','B1',2),\n",
    "         ('A2','B2',4),\n",
    "          ('A3','B1',3),\n",
    "          ('A3','B3',2),\n",
    "         ('A1','B3',2)\n",
    "         ]\n",
    "\n",
    "B = nx.Graph()\n",
    "B.add_weighted_edges_from(edges)"
   ]
  },
  {
   "cell_type": "code",
   "execution_count": 12,
   "metadata": {
    "ExecuteTime": {
     "end_time": "2018-09-16T14:45:49.987222Z",
     "start_time": "2018-09-16T14:45:49.966233Z"
    }
   },
   "outputs": [
    {
     "name": "stdout",
     "output_type": "stream",
     "text": [
      "[('A1', 'A2', {'weight': 16}), ('A1', 'A3', {'weight': 10}), ('A2', 'A3', {'weight': 5})]\n"
     ]
    }
   ],
   "source": [
    "from networkx.algorithms import bipartite\n",
    "G = bipartite.generic_weighted_projected_graph(B, ['A1', 'A2'], weight_function=my_weight)\n",
    "\n",
    "\n",
    "print(list(G.edges(data=True)))"
   ]
  },
  {
   "cell_type": "code",
   "execution_count": 77,
   "metadata": {
    "ExecuteTime": {
     "end_time": "2018-09-16T15:51:28.860836Z",
     "start_time": "2018-09-16T15:51:28.831853Z"
    }
   },
   "outputs": [],
   "source": [
    "def forum_projection(B, nodes):\n",
    "    if B.is_directed():\n",
    "        pred = B.pred\n",
    "        G = nx.DiGraph()\n",
    "    else:\n",
    "        pred = B.adj\n",
    "        G = nx.Graph()\n",
    "    G.graph.update(B.graph)\n",
    "    G.add_nodes_from((n, B.nodes[n]) for n in nodes)\n",
    "    for u in nodes:\n",
    "        unbrs = set(B[u]) #nodos a los que conecta del otro nivel\n",
    "        nbrs2 = set(n for nbr in unbrs for n in B[nbr] if n != u) #nodos con los que coincide\n",
    "        for v in nbrs2:\n",
    "            vnbrs = set(pred[v])\n",
    "            common_degree = ((len(B[n]), B[u][n]['weight'] + B[v][n]['weight']) for n in unbrs & vnbrs)\n",
    "            weight = sum(wt / (deg - 1) for deg, wt in common_degree if deg > 1)\n",
    "            G.add_edge(u, v, weight=weight)\n",
    "    return G"
   ]
  },
  {
   "cell_type": "code",
   "execution_count": 78,
   "metadata": {
    "ExecuteTime": {
     "end_time": "2018-09-16T15:51:29.643161Z",
     "start_time": "2018-09-16T15:51:29.635166Z"
    }
   },
   "outputs": [
    {
     "name": "stdout",
     "output_type": "stream",
     "text": [
      "[('A1', 'A2', {'weight': 13.5}), ('A1', 'A3', {'weight': 7.0}), ('A2', 'A3', {'weight': 2.5})]\n"
     ]
    }
   ],
   "source": [
    "G = forum_projection(B, ['A1', 'A2'])\n",
    "\n",
    "\n",
    "print(list(G.edges(data=True)))"
   ]
  },
  {
   "cell_type": "code",
   "execution_count": 19,
   "metadata": {
    "ExecuteTime": {
     "end_time": "2018-09-16T15:10:21.988507Z",
     "start_time": "2018-09-16T15:10:21.984512Z"
    }
   },
   "outputs": [],
   "source": [
    "unbrs = set(B['A1'])"
   ]
  },
  {
   "cell_type": "code",
   "execution_count": 21,
   "metadata": {
    "ExecuteTime": {
     "end_time": "2018-09-16T15:10:36.936399Z",
     "start_time": "2018-09-16T15:10:36.930384Z"
    }
   },
   "outputs": [
    {
     "data": {
      "text/plain": [
       "{'A2', 'A3'}"
      ]
     },
     "execution_count": 21,
     "metadata": {},
     "output_type": "execute_result"
    }
   ],
   "source": [
    "set(n for nbr in unbrs for n in B[nbr] if n != 'A1')"
   ]
  },
  {
   "cell_type": "code",
   "execution_count": 24,
   "metadata": {
    "ExecuteTime": {
     "end_time": "2018-09-16T15:12:03.579987Z",
     "start_time": "2018-09-16T15:12:03.574990Z"
    }
   },
   "outputs": [],
   "source": [
    "pred = B.adj\n",
    "\n",
    "vnbrs = set(pred['A2'])"
   ]
  },
  {
   "cell_type": "code",
   "execution_count": 73,
   "metadata": {
    "ExecuteTime": {
     "end_time": "2018-09-16T15:50:20.173225Z",
     "start_time": "2018-09-16T15:50:20.168229Z"
    }
   },
   "outputs": [],
   "source": [
    "common_degree = ((len(B[n]), B['A1'][n]['weight']) for n in unbrs & vnbrs)"
   ]
  },
  {
   "cell_type": "code",
   "execution_count": 69,
   "metadata": {
    "ExecuteTime": {
     "end_time": "2018-09-16T15:48:32.966672Z",
     "start_time": "2018-09-16T15:48:32.961676Z"
    }
   },
   "outputs": [],
   "source": [
    "common_degree = (B['A1'][n] for n in unbrs & vnbrs)"
   ]
  },
  {
   "cell_type": "code",
   "execution_count": 74,
   "metadata": {
    "ExecuteTime": {
     "end_time": "2018-09-16T15:50:21.417106Z",
     "start_time": "2018-09-16T15:50:21.410109Z"
    }
   },
   "outputs": [
    {
     "data": {
      "text/plain": [
       "[(2, 7), (3, 3)]"
      ]
     },
     "execution_count": 74,
     "metadata": {},
     "output_type": "execute_result"
    }
   ],
   "source": [
    "list(common_degree)"
   ]
  },
  {
   "cell_type": "code",
   "execution_count": 58,
   "metadata": {
    "ExecuteTime": {
     "end_time": "2018-09-16T15:15:37.870561Z",
     "start_time": "2018-09-16T15:15:37.864546Z"
    }
   },
   "outputs": [
    {
     "data": {
      "text/plain": [
       "3"
      ]
     },
     "execution_count": 58,
     "metadata": {},
     "output_type": "execute_result"
    }
   ],
   "source": [
    "sum((deg - 1) for deg in common_degree if deg > 1)"
   ]
  },
  {
   "cell_type": "code",
   "execution_count": 59,
   "metadata": {
    "ExecuteTime": {
     "end_time": "2018-09-16T15:20:47.944892Z",
     "start_time": "2018-09-16T15:20:47.937896Z"
    }
   },
   "outputs": [
    {
     "data": {
      "text/plain": [
       "{'B1', 'B2', 'B3'}"
      ]
     },
     "execution_count": 59,
     "metadata": {},
     "output_type": "execute_result"
    }
   ],
   "source": [
    "unbrs"
   ]
  },
  {
   "cell_type": "code",
   "execution_count": 60,
   "metadata": {
    "ExecuteTime": {
     "end_time": "2018-09-16T15:20:53.493197Z",
     "start_time": "2018-09-16T15:20:53.487202Z"
    }
   },
   "outputs": [
    {
     "data": {
      "text/plain": [
       "{'B1', 'B2'}"
      ]
     },
     "execution_count": 60,
     "metadata": {},
     "output_type": "execute_result"
    }
   ],
   "source": [
    "vnbrs"
   ]
  },
  {
   "cell_type": "code",
   "execution_count": 64,
   "metadata": {
    "ExecuteTime": {
     "end_time": "2018-09-16T15:46:55.390457Z",
     "start_time": "2018-09-16T15:46:55.383464Z"
    }
   },
   "outputs": [
    {
     "data": {
      "text/plain": [
       "3"
      ]
     },
     "execution_count": 64,
     "metadata": {},
     "output_type": "execute_result"
    }
   ],
   "source": [
    "B['A1']['B1']['weight']"
   ]
  },
  {
   "cell_type": "code",
   "execution_count": null,
   "metadata": {},
   "outputs": [],
   "source": []
  },
  {
   "cell_type": "code",
   "execution_count": null,
   "metadata": {},
   "outputs": [],
   "source": []
  },
  {
   "cell_type": "code",
   "execution_count": null,
   "metadata": {},
   "outputs": [],
   "source": []
  },
  {
   "cell_type": "code",
   "execution_count": 81,
   "metadata": {
    "ExecuteTime": {
     "end_time": "2018-09-16T15:55:37.535477Z",
     "start_time": "2018-09-16T15:55:27.703573Z"
    }
   },
   "outputs": [],
   "source": [
    "G_top = forum_projection(G, top_nodes)\n",
    "G_bottom = forum_projection(G, bottom_nodes)"
   ]
  },
  {
   "cell_type": "code",
   "execution_count": 82,
   "metadata": {
    "ExecuteTime": {
     "end_time": "2018-09-16T15:55:47.570087Z",
     "start_time": "2018-09-16T15:55:39.527554Z"
    }
   },
   "outputs": [],
   "source": [
    "nx.write_graphml_lxml(G_top, \"user_topics_VB_top_newman.graphml\")\n",
    "nx.write_graphml_lxml(G_bottom, \"user_topics_VB_bottom_newman.graphml\")"
   ]
  },
  {
   "cell_type": "code",
   "execution_count": null,
   "metadata": {},
   "outputs": [],
   "source": []
  }
 ],
 "metadata": {
  "kernelspec": {
   "display_name": "Python 3",
   "language": "python",
   "name": "python3"
  },
  "language_info": {
   "codemirror_mode": {
    "name": "ipython",
    "version": 3
   },
   "file_extension": ".py",
   "mimetype": "text/x-python",
   "name": "python",
   "nbconvert_exporter": "python",
   "pygments_lexer": "ipython3",
   "version": "3.6.3"
  }
 },
 "nbformat": 4,
 "nbformat_minor": 2
}
