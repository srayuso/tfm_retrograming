{
 "cells": [
  {
   "cell_type": "code",
   "execution_count": 1,
   "metadata": {
    "ExecuteTime": {
     "end_time": "2018-09-17T14:14:08.944129Z",
     "start_time": "2018-09-17T14:13:58.758027Z"
    }
   },
   "outputs": [],
   "source": [
    "import pandas as pd\n",
    "from pandas import DataFrame, read_csv\n",
    "import networkx as nx"
   ]
  },
  {
   "cell_type": "code",
   "execution_count": null,
   "metadata": {},
   "outputs": [],
   "source": [
    "with open('atari_edges_fixed.csv', 'a', encoding=\"utf8\") as file_1, open('atari_edges.csv', \"r\", encoding=\"utf8\") as file_2:\n",
    "    for line in file_2:\n",
    "        if ',quotes' not in line:\n",
    "            file_1.write(line)"
   ]
  },
  {
   "cell_type": "code",
   "execution_count": 9,
   "metadata": {
    "ExecuteTime": {
     "end_time": "2018-09-17T14:47:19.085947Z",
     "start_time": "2018-09-17T14:47:17.276948Z"
    }
   },
   "outputs": [
    {
     "data": {
      "text/html": [
       "<div>\n",
       "<style scoped>\n",
       "    .dataframe tbody tr th:only-of-type {\n",
       "        vertical-align: middle;\n",
       "    }\n",
       "\n",
       "    .dataframe tbody tr th {\n",
       "        vertical-align: top;\n",
       "    }\n",
       "\n",
       "    .dataframe thead th {\n",
       "        text-align: right;\n",
       "    }\n",
       "</style>\n",
       "<table border=\"1\" class=\"dataframe\">\n",
       "  <thead>\n",
       "    <tr style=\"text-align: right;\">\n",
       "      <th></th>\n",
       "      <th>src</th>\n",
       "      <th>dst</th>\n",
       "      <th>tema</th>\n",
       "      <th>type</th>\n",
       "    </tr>\n",
       "  </thead>\n",
       "  <tbody>\n",
       "    <tr>\n",
       "      <th>0</th>\n",
       "      <td>supercat</td>\n",
       "      <td>Trench</td>\n",
       "      <td>Market</td>\n",
       "      <td>replies_to_author</td>\n",
       "    </tr>\n",
       "    <tr>\n",
       "      <th>1</th>\n",
       "      <td>Clint Thompson</td>\n",
       "      <td>Trench</td>\n",
       "      <td>Market</td>\n",
       "      <td>replies_to_author</td>\n",
       "    </tr>\n",
       "    <tr>\n",
       "      <th>2</th>\n",
       "      <td>holygrailvideogames.com</td>\n",
       "      <td>Trench</td>\n",
       "      <td>Market</td>\n",
       "      <td>replies_to_author</td>\n",
       "    </tr>\n",
       "    <tr>\n",
       "      <th>3</th>\n",
       "      <td>Mister-VCS</td>\n",
       "      <td>alex_79</td>\n",
       "      <td>Console Systems</td>\n",
       "      <td>replies_to_author</td>\n",
       "    </tr>\n",
       "    <tr>\n",
       "      <th>4</th>\n",
       "      <td>PressureCooker2600</td>\n",
       "      <td>Red 5</td>\n",
       "      <td>HW</td>\n",
       "      <td>replies_to_author</td>\n",
       "    </tr>\n",
       "  </tbody>\n",
       "</table>\n",
       "</div>"
      ],
      "text/plain": [
       "                       src      dst             tema               type\n",
       "0                 supercat   Trench           Market  replies_to_author\n",
       "1           Clint Thompson   Trench           Market  replies_to_author\n",
       "2  holygrailvideogames.com   Trench           Market  replies_to_author\n",
       "3               Mister-VCS  alex_79  Console Systems  replies_to_author\n",
       "4       PressureCooker2600    Red 5               HW  replies_to_author"
      ]
     },
     "execution_count": 9,
     "metadata": {},
     "output_type": "execute_result"
    }
   ],
   "source": [
    "df = pd.read_csv('atari_edges_fixed.csv', header = None)\n",
    "df.columns = ['src', 'dst', 'tema', 'type']\n",
    "df.head()"
   ]
  },
  {
   "cell_type": "code",
   "execution_count": 15,
   "metadata": {
    "ExecuteTime": {
     "end_time": "2018-09-17T14:51:02.628206Z",
     "start_time": "2018-09-17T14:51:02.548251Z"
    }
   },
   "outputs": [],
   "source": [
    "df_simple = df[['src', 'tema']]"
   ]
  },
  {
   "cell_type": "code",
   "execution_count": 17,
   "metadata": {
    "ExecuteTime": {
     "end_time": "2018-09-17T14:52:36.273671Z",
     "start_time": "2018-09-17T14:52:35.609034Z"
    }
   },
   "outputs": [],
   "source": [
    "df = df_simple.groupby(df_simple.columns.tolist()).size().reset_index().rename(columns={0:'weight'})\n"
   ]
  },
  {
   "cell_type": "code",
   "execution_count": 18,
   "metadata": {
    "ExecuteTime": {
     "end_time": "2018-09-17T14:52:43.071484Z",
     "start_time": "2018-09-17T14:52:43.058491Z"
    }
   },
   "outputs": [
    {
     "data": {
      "text/html": [
       "<div>\n",
       "<style scoped>\n",
       "    .dataframe tbody tr th:only-of-type {\n",
       "        vertical-align: middle;\n",
       "    }\n",
       "\n",
       "    .dataframe tbody tr th {\n",
       "        vertical-align: top;\n",
       "    }\n",
       "\n",
       "    .dataframe thead th {\n",
       "        text-align: right;\n",
       "    }\n",
       "</style>\n",
       "<table border=\"1\" class=\"dataframe\">\n",
       "  <thead>\n",
       "    <tr style=\"text-align: right;\">\n",
       "      <th></th>\n",
       "      <th>src</th>\n",
       "      <th>tema</th>\n",
       "      <th>weight</th>\n",
       "    </tr>\n",
       "  </thead>\n",
       "  <tbody>\n",
       "    <tr>\n",
       "      <th>0</th>\n",
       "      <td>(BK)</td>\n",
       "      <td>HW</td>\n",
       "      <td>1</td>\n",
       "    </tr>\n",
       "    <tr>\n",
       "      <th>1</th>\n",
       "      <td>(J)</td>\n",
       "      <td>Social</td>\n",
       "      <td>3</td>\n",
       "    </tr>\n",
       "    <tr>\n",
       "      <th>2</th>\n",
       "      <td>* Alternative Reality *</td>\n",
       "      <td>Games</td>\n",
       "      <td>2</td>\n",
       "    </tr>\n",
       "    <tr>\n",
       "      <th>3</th>\n",
       "      <td>* Alternative Reality *</td>\n",
       "      <td>HW</td>\n",
       "      <td>3</td>\n",
       "    </tr>\n",
       "    <tr>\n",
       "      <th>4</th>\n",
       "      <td>* Alternative Reality *</td>\n",
       "      <td>Social</td>\n",
       "      <td>1</td>\n",
       "    </tr>\n",
       "  </tbody>\n",
       "</table>\n",
       "</div>"
      ],
      "text/plain": [
       "                       src    tema  weight\n",
       "0                     (BK)      HW       1\n",
       "1                      (J)  Social       3\n",
       "2  * Alternative Reality *   Games       2\n",
       "3  * Alternative Reality *      HW       3\n",
       "4  * Alternative Reality *  Social       1"
      ]
     },
     "execution_count": 18,
     "metadata": {},
     "output_type": "execute_result"
    }
   ],
   "source": [
    "df.head()"
   ]
  },
  {
   "cell_type": "code",
   "execution_count": 19,
   "metadata": {
    "ExecuteTime": {
     "end_time": "2018-09-17T14:52:53.568147Z",
     "start_time": "2018-09-17T14:52:53.545161Z"
    }
   },
   "outputs": [
    {
     "data": {
      "text/html": [
       "<div>\n",
       "<style scoped>\n",
       "    .dataframe tbody tr th:only-of-type {\n",
       "        vertical-align: middle;\n",
       "    }\n",
       "\n",
       "    .dataframe tbody tr th {\n",
       "        vertical-align: top;\n",
       "    }\n",
       "\n",
       "    .dataframe thead th {\n",
       "        text-align: right;\n",
       "    }\n",
       "</style>\n",
       "<table border=\"1\" class=\"dataframe\">\n",
       "  <thead>\n",
       "    <tr style=\"text-align: right;\">\n",
       "      <th></th>\n",
       "      <th>src</th>\n",
       "      <th>tema</th>\n",
       "      <th>weight</th>\n",
       "    </tr>\n",
       "  </thead>\n",
       "  <tbody>\n",
       "    <tr>\n",
       "      <th>0</th>\n",
       "      <td>(BK)</td>\n",
       "      <td>HW</td>\n",
       "      <td>1</td>\n",
       "    </tr>\n",
       "    <tr>\n",
       "      <th>1</th>\n",
       "      <td>(J)</td>\n",
       "      <td>Social</td>\n",
       "      <td>3</td>\n",
       "    </tr>\n",
       "    <tr>\n",
       "      <th>2</th>\n",
       "      <td>* Alternative Reality *</td>\n",
       "      <td>Games</td>\n",
       "      <td>2</td>\n",
       "    </tr>\n",
       "    <tr>\n",
       "      <th>3</th>\n",
       "      <td>* Alternative Reality *</td>\n",
       "      <td>HW</td>\n",
       "      <td>3</td>\n",
       "    </tr>\n",
       "    <tr>\n",
       "      <th>4</th>\n",
       "      <td>* Alternative Reality *</td>\n",
       "      <td>Social</td>\n",
       "      <td>1</td>\n",
       "    </tr>\n",
       "    <tr>\n",
       "      <th>5</th>\n",
       "      <td>***astro_boy***</td>\n",
       "      <td>Console Systems</td>\n",
       "      <td>9</td>\n",
       "    </tr>\n",
       "    <tr>\n",
       "      <th>6</th>\n",
       "      <td>***astro_boy***</td>\n",
       "      <td>Dev</td>\n",
       "      <td>2</td>\n",
       "    </tr>\n",
       "    <tr>\n",
       "      <th>7</th>\n",
       "      <td>***astro_boy***</td>\n",
       "      <td>Games</td>\n",
       "      <td>2</td>\n",
       "    </tr>\n",
       "    <tr>\n",
       "      <th>8</th>\n",
       "      <td>***astro_boy***</td>\n",
       "      <td>HW</td>\n",
       "      <td>1</td>\n",
       "    </tr>\n",
       "    <tr>\n",
       "      <th>9</th>\n",
       "      <td>***astro_boy***</td>\n",
       "      <td>Market</td>\n",
       "      <td>13</td>\n",
       "    </tr>\n",
       "    <tr>\n",
       "      <th>10</th>\n",
       "      <td>***astro_boy***</td>\n",
       "      <td>Non-English</td>\n",
       "      <td>3</td>\n",
       "    </tr>\n",
       "    <tr>\n",
       "      <th>11</th>\n",
       "      <td>***astro_boy***</td>\n",
       "      <td>Social</td>\n",
       "      <td>10</td>\n",
       "    </tr>\n",
       "    <tr>\n",
       "      <th>12</th>\n",
       "      <td>*Sniper*</td>\n",
       "      <td>Console Systems</td>\n",
       "      <td>1</td>\n",
       "    </tr>\n",
       "    <tr>\n",
       "      <th>13</th>\n",
       "      <td>+Adam+</td>\n",
       "      <td>Console Systems</td>\n",
       "      <td>88</td>\n",
       "    </tr>\n",
       "    <tr>\n",
       "      <th>14</th>\n",
       "      <td>+Adam+</td>\n",
       "      <td>Dev</td>\n",
       "      <td>16</td>\n",
       "    </tr>\n",
       "    <tr>\n",
       "      <th>15</th>\n",
       "      <td>+Adam+</td>\n",
       "      <td>Games</td>\n",
       "      <td>156</td>\n",
       "    </tr>\n",
       "    <tr>\n",
       "      <th>16</th>\n",
       "      <td>+Adam+</td>\n",
       "      <td>HSC</td>\n",
       "      <td>2</td>\n",
       "    </tr>\n",
       "    <tr>\n",
       "      <th>17</th>\n",
       "      <td>+Adam+</td>\n",
       "      <td>HW</td>\n",
       "      <td>11</td>\n",
       "    </tr>\n",
       "    <tr>\n",
       "      <th>18</th>\n",
       "      <td>+Adam+</td>\n",
       "      <td>Market</td>\n",
       "      <td>1</td>\n",
       "    </tr>\n",
       "    <tr>\n",
       "      <th>19</th>\n",
       "      <td>+Adam+</td>\n",
       "      <td>Music</td>\n",
       "      <td>17</td>\n",
       "    </tr>\n",
       "    <tr>\n",
       "      <th>20</th>\n",
       "      <td>+Adam+</td>\n",
       "      <td>Social</td>\n",
       "      <td>39</td>\n",
       "    </tr>\n",
       "    <tr>\n",
       "      <th>21</th>\n",
       "      <td>--- Ω ---</td>\n",
       "      <td>Console Systems</td>\n",
       "      <td>376</td>\n",
       "    </tr>\n",
       "    <tr>\n",
       "      <th>22</th>\n",
       "      <td>--- Ω ---</td>\n",
       "      <td>Dev</td>\n",
       "      <td>1715</td>\n",
       "    </tr>\n",
       "    <tr>\n",
       "      <th>23</th>\n",
       "      <td>--- Ω ---</td>\n",
       "      <td>Games</td>\n",
       "      <td>470</td>\n",
       "    </tr>\n",
       "    <tr>\n",
       "      <th>24</th>\n",
       "      <td>--- Ω ---</td>\n",
       "      <td>HSC</td>\n",
       "      <td>4</td>\n",
       "    </tr>\n",
       "    <tr>\n",
       "      <th>25</th>\n",
       "      <td>--- Ω ---</td>\n",
       "      <td>HW</td>\n",
       "      <td>1805</td>\n",
       "    </tr>\n",
       "    <tr>\n",
       "      <th>26</th>\n",
       "      <td>--- Ω ---</td>\n",
       "      <td>Market</td>\n",
       "      <td>152</td>\n",
       "    </tr>\n",
       "    <tr>\n",
       "      <th>27</th>\n",
       "      <td>--- Ω ---</td>\n",
       "      <td>Music</td>\n",
       "      <td>18</td>\n",
       "    </tr>\n",
       "    <tr>\n",
       "      <th>28</th>\n",
       "      <td>--- Ω ---</td>\n",
       "      <td>Non-English</td>\n",
       "      <td>1</td>\n",
       "    </tr>\n",
       "    <tr>\n",
       "      <th>29</th>\n",
       "      <td>--- Ω ---</td>\n",
       "      <td>Social</td>\n",
       "      <td>479</td>\n",
       "    </tr>\n",
       "    <tr>\n",
       "      <th>...</th>\n",
       "      <td>...</td>\n",
       "      <td>...</td>\n",
       "      <td>...</td>\n",
       "    </tr>\n",
       "    <tr>\n",
       "      <th>51825</th>\n",
       "      <td>zyros</td>\n",
       "      <td>HW</td>\n",
       "      <td>1</td>\n",
       "    </tr>\n",
       "    <tr>\n",
       "      <th>51826</th>\n",
       "      <td>zyzzle</td>\n",
       "      <td>Dev</td>\n",
       "      <td>2</td>\n",
       "    </tr>\n",
       "    <tr>\n",
       "      <th>51827</th>\n",
       "      <td>zyzzle</td>\n",
       "      <td>Games</td>\n",
       "      <td>5</td>\n",
       "    </tr>\n",
       "    <tr>\n",
       "      <th>51828</th>\n",
       "      <td>zyzzle</td>\n",
       "      <td>HW</td>\n",
       "      <td>5</td>\n",
       "    </tr>\n",
       "    <tr>\n",
       "      <th>51829</th>\n",
       "      <td>zyzzle</td>\n",
       "      <td>Market</td>\n",
       "      <td>2</td>\n",
       "    </tr>\n",
       "    <tr>\n",
       "      <th>51830</th>\n",
       "      <td>zyzzle</td>\n",
       "      <td>Social</td>\n",
       "      <td>1</td>\n",
       "    </tr>\n",
       "    <tr>\n",
       "      <th>51831</th>\n",
       "      <td>zzap64</td>\n",
       "      <td>Console Systems</td>\n",
       "      <td>1</td>\n",
       "    </tr>\n",
       "    <tr>\n",
       "      <th>51832</th>\n",
       "      <td>zzap64</td>\n",
       "      <td>HW</td>\n",
       "      <td>1</td>\n",
       "    </tr>\n",
       "    <tr>\n",
       "      <th>51833</th>\n",
       "      <td>zzap64</td>\n",
       "      <td>Social</td>\n",
       "      <td>2</td>\n",
       "    </tr>\n",
       "    <tr>\n",
       "      <th>51834</th>\n",
       "      <td>zzip</td>\n",
       "      <td>Console Systems</td>\n",
       "      <td>373</td>\n",
       "    </tr>\n",
       "    <tr>\n",
       "      <th>51835</th>\n",
       "      <td>zzip</td>\n",
       "      <td>Dev</td>\n",
       "      <td>78</td>\n",
       "    </tr>\n",
       "    <tr>\n",
       "      <th>51836</th>\n",
       "      <td>zzip</td>\n",
       "      <td>Games</td>\n",
       "      <td>173</td>\n",
       "    </tr>\n",
       "    <tr>\n",
       "      <th>51837</th>\n",
       "      <td>zzip</td>\n",
       "      <td>HW</td>\n",
       "      <td>161</td>\n",
       "    </tr>\n",
       "    <tr>\n",
       "      <th>51838</th>\n",
       "      <td>zzip</td>\n",
       "      <td>Market</td>\n",
       "      <td>42</td>\n",
       "    </tr>\n",
       "    <tr>\n",
       "      <th>51839</th>\n",
       "      <td>zzip</td>\n",
       "      <td>Music</td>\n",
       "      <td>13</td>\n",
       "    </tr>\n",
       "    <tr>\n",
       "      <th>51840</th>\n",
       "      <td>zzip</td>\n",
       "      <td>Social</td>\n",
       "      <td>870</td>\n",
       "    </tr>\n",
       "    <tr>\n",
       "      <th>51841</th>\n",
       "      <td>zzonkmiles</td>\n",
       "      <td>HSC</td>\n",
       "      <td>4</td>\n",
       "    </tr>\n",
       "    <tr>\n",
       "      <th>51842</th>\n",
       "      <td>|*BILLY$CLINT*|</td>\n",
       "      <td>Dev</td>\n",
       "      <td>5</td>\n",
       "    </tr>\n",
       "    <tr>\n",
       "      <th>51843</th>\n",
       "      <td>~cQ</td>\n",
       "      <td>Games</td>\n",
       "      <td>1</td>\n",
       "    </tr>\n",
       "    <tr>\n",
       "      <th>51844</th>\n",
       "      <td>~llama</td>\n",
       "      <td>Console Systems</td>\n",
       "      <td>17</td>\n",
       "    </tr>\n",
       "    <tr>\n",
       "      <th>51845</th>\n",
       "      <td>~llama</td>\n",
       "      <td>Dev</td>\n",
       "      <td>24</td>\n",
       "    </tr>\n",
       "    <tr>\n",
       "      <th>51846</th>\n",
       "      <td>~llama</td>\n",
       "      <td>Games</td>\n",
       "      <td>29</td>\n",
       "    </tr>\n",
       "    <tr>\n",
       "      <th>51847</th>\n",
       "      <td>~llama</td>\n",
       "      <td>HW</td>\n",
       "      <td>14</td>\n",
       "    </tr>\n",
       "    <tr>\n",
       "      <th>51848</th>\n",
       "      <td>~llama</td>\n",
       "      <td>Market</td>\n",
       "      <td>26</td>\n",
       "    </tr>\n",
       "    <tr>\n",
       "      <th>51849</th>\n",
       "      <td>~llama</td>\n",
       "      <td>Social</td>\n",
       "      <td>73</td>\n",
       "    </tr>\n",
       "    <tr>\n",
       "      <th>51850</th>\n",
       "      <td>~~NationalGameDepot</td>\n",
       "      <td>Market</td>\n",
       "      <td>2</td>\n",
       "    </tr>\n",
       "    <tr>\n",
       "      <th>51851</th>\n",
       "      <td>~~NationalGameDepot</td>\n",
       "      <td>Social</td>\n",
       "      <td>1</td>\n",
       "    </tr>\n",
       "    <tr>\n",
       "      <th>51852</th>\n",
       "      <td>¿°¿</td>\n",
       "      <td>HW</td>\n",
       "      <td>2</td>\n",
       "    </tr>\n",
       "    <tr>\n",
       "      <th>51853</th>\n",
       "      <td>¿°¿</td>\n",
       "      <td>Market</td>\n",
       "      <td>2</td>\n",
       "    </tr>\n",
       "    <tr>\n",
       "      <th>51854</th>\n",
       "      <td>ΩMETROID</td>\n",
       "      <td>Console Systems</td>\n",
       "      <td>1</td>\n",
       "    </tr>\n",
       "  </tbody>\n",
       "</table>\n",
       "<p>51855 rows × 3 columns</p>\n",
       "</div>"
      ],
      "text/plain": [
       "                           src             tema  weight\n",
       "0                         (BK)               HW       1\n",
       "1                          (J)           Social       3\n",
       "2      * Alternative Reality *            Games       2\n",
       "3      * Alternative Reality *               HW       3\n",
       "4      * Alternative Reality *           Social       1\n",
       "5              ***astro_boy***  Console Systems       9\n",
       "6              ***astro_boy***              Dev       2\n",
       "7              ***astro_boy***            Games       2\n",
       "8              ***astro_boy***               HW       1\n",
       "9              ***astro_boy***           Market      13\n",
       "10             ***astro_boy***      Non-English       3\n",
       "11             ***astro_boy***           Social      10\n",
       "12                    *Sniper*  Console Systems       1\n",
       "13                      +Adam+  Console Systems      88\n",
       "14                      +Adam+              Dev      16\n",
       "15                      +Adam+            Games     156\n",
       "16                      +Adam+              HSC       2\n",
       "17                      +Adam+               HW      11\n",
       "18                      +Adam+           Market       1\n",
       "19                      +Adam+            Music      17\n",
       "20                      +Adam+           Social      39\n",
       "21                   --- Ω ---  Console Systems     376\n",
       "22                   --- Ω ---              Dev    1715\n",
       "23                   --- Ω ---            Games     470\n",
       "24                   --- Ω ---              HSC       4\n",
       "25                   --- Ω ---               HW    1805\n",
       "26                   --- Ω ---           Market     152\n",
       "27                   --- Ω ---            Music      18\n",
       "28                   --- Ω ---      Non-English       1\n",
       "29                   --- Ω ---           Social     479\n",
       "...                        ...              ...     ...\n",
       "51825                    zyros               HW       1\n",
       "51826                   zyzzle              Dev       2\n",
       "51827                   zyzzle            Games       5\n",
       "51828                   zyzzle               HW       5\n",
       "51829                   zyzzle           Market       2\n",
       "51830                   zyzzle           Social       1\n",
       "51831                   zzap64  Console Systems       1\n",
       "51832                   zzap64               HW       1\n",
       "51833                   zzap64           Social       2\n",
       "51834                     zzip  Console Systems     373\n",
       "51835                     zzip              Dev      78\n",
       "51836                     zzip            Games     173\n",
       "51837                     zzip               HW     161\n",
       "51838                     zzip           Market      42\n",
       "51839                     zzip            Music      13\n",
       "51840                     zzip           Social     870\n",
       "51841               zzonkmiles              HSC       4\n",
       "51842          |*BILLY$CLINT*|              Dev       5\n",
       "51843                      ~cQ            Games       1\n",
       "51844                   ~llama  Console Systems      17\n",
       "51845                   ~llama              Dev      24\n",
       "51846                   ~llama            Games      29\n",
       "51847                   ~llama               HW      14\n",
       "51848                   ~llama           Market      26\n",
       "51849                   ~llama           Social      73\n",
       "51850      ~~NationalGameDepot           Market       2\n",
       "51851      ~~NationalGameDepot           Social       1\n",
       "51852                      ¿°¿               HW       2\n",
       "51853                      ¿°¿           Market       2\n",
       "51854                 ΩMETROID  Console Systems       1\n",
       "\n",
       "[51855 rows x 3 columns]"
      ]
     },
     "execution_count": 19,
     "metadata": {},
     "output_type": "execute_result"
    }
   ],
   "source": [
    "df"
   ]
  },
  {
   "cell_type": "code",
   "execution_count": 20,
   "metadata": {
    "ExecuteTime": {
     "end_time": "2018-09-17T14:56:09.501073Z",
     "start_time": "2018-09-17T14:56:02.695651Z"
    }
   },
   "outputs": [],
   "source": [
    "G = nx.Graph()\n",
    "for index, row in df.iterrows():\n",
    "    \n",
    "    G.add_node(row['src'], bipartite=0)\n",
    "    G.add_node(row['tema'], bipartite=1)\n",
    "    \n",
    "    if G.has_edge(row['src'], row['tema']):\n",
    "                        G[row['src']][row['tema']]['weight'] += row['weight']\n",
    "    else:\n",
    "        G.add_edge(row['src'], row['tema'], weight = row['weight'])"
   ]
  },
  {
   "cell_type": "code",
   "execution_count": 21,
   "metadata": {
    "ExecuteTime": {
     "end_time": "2018-09-17T14:56:15.499417Z",
     "start_time": "2018-09-17T14:56:15.416455Z"
    }
   },
   "outputs": [
    {
     "data": {
      "text/plain": [
       "True"
      ]
     },
     "execution_count": 21,
     "metadata": {},
     "output_type": "execute_result"
    }
   ],
   "source": [
    "nx.is_bipartite(G)"
   ]
  },
  {
   "cell_type": "code",
   "execution_count": 22,
   "metadata": {
    "ExecuteTime": {
     "end_time": "2018-09-17T14:56:21.099594Z",
     "start_time": "2018-09-17T14:56:21.048605Z"
    }
   },
   "outputs": [
    {
     "data": {
      "text/plain": [
       "51855"
      ]
     },
     "execution_count": 22,
     "metadata": {},
     "output_type": "execute_result"
    }
   ],
   "source": [
    "len(list(G.edges()))"
   ]
  },
  {
   "cell_type": "code",
   "execution_count": 23,
   "metadata": {
    "ExecuteTime": {
     "end_time": "2018-09-17T14:56:41.143573Z",
     "start_time": "2018-09-17T14:56:39.747671Z"
    }
   },
   "outputs": [],
   "source": [
    "nx.write_graphml_lxml(G, \"user_topics_AA.graphml\")"
   ]
  },
  {
   "cell_type": "code",
   "execution_count": 24,
   "metadata": {
    "ExecuteTime": {
     "end_time": "2018-09-17T15:13:09.481416Z",
     "start_time": "2018-09-17T15:13:09.462424Z"
    }
   },
   "outputs": [],
   "source": [
    "top_nodes = {n for n, d in G.nodes(data=True) if d['bipartite']==1}\n",
    "bottom_nodes = set(G) - top_nodes"
   ]
  },
  {
   "cell_type": "code",
   "execution_count": 25,
   "metadata": {
    "ExecuteTime": {
     "end_time": "2018-09-17T15:13:53.003269Z",
     "start_time": "2018-09-17T15:13:52.976284Z"
    }
   },
   "outputs": [],
   "source": [
    "def forum_projection(B, nodes):\n",
    "    if B.is_directed():\n",
    "        pred = B.pred\n",
    "        G = nx.DiGraph()\n",
    "    else:\n",
    "        pred = B.adj\n",
    "        G = nx.Graph()\n",
    "    G.graph.update(B.graph)\n",
    "    G.add_nodes_from((n, B.nodes[n]) for n in nodes)\n",
    "    for u in nodes:\n",
    "        unbrs = set(B[u]) #nodos a los que conecta del otro nivel\n",
    "        nbrs2 = set(n for nbr in unbrs for n in B[nbr] if n != u) #nodos con los que coincide\n",
    "        for v in nbrs2:\n",
    "            vnbrs = set(pred[v])\n",
    "            common_degree = ((len(B[n]), B[u][n]['weight'] + B[v][n]['weight']) for n in unbrs & vnbrs)\n",
    "            weight = sum(wt / (deg - 1) for deg, wt in common_degree if deg > 1)\n",
    "            G.add_edge(u, v, weight=weight)\n",
    "    return G"
   ]
  },
  {
   "cell_type": "code",
   "execution_count": null,
   "metadata": {
    "ExecuteTime": {
     "start_time": "2018-09-17T15:14:52.879Z"
    }
   },
   "outputs": [],
   "source": [
    "G_top = forum_projection(G, top_nodes)\n",
    "G_bottom = forum_projection(G, bottom_nodes)"
   ]
  },
  {
   "cell_type": "code",
   "execution_count": null,
   "metadata": {},
   "outputs": [],
   "source": [
    "import community # al igual hace falta instalar pip install python-louvain\n",
    "partition = community.best_partition(G_bottom)"
   ]
  },
  {
   "cell_type": "code",
   "execution_count": null,
   "metadata": {},
   "outputs": [],
   "source": [
    "df['community'] = df.apply(lambda row: partition[row.Source], axis=1)"
   ]
  },
  {
   "cell_type": "code",
   "execution_count": null,
   "metadata": {},
   "outputs": [],
   "source": [
    "df.to_csv('communities_AA_tab.csv', sep ='\\t')"
   ]
  },
  {
   "cell_type": "code",
   "execution_count": null,
   "metadata": {},
   "outputs": [],
   "source": [
    "df.groupby(['community']).agg({'weight': 'sum'}).apply(lambda x:\n",
    "                                                 100 * x / float(x.sum()))"
   ]
  },
  {
   "cell_type": "code",
   "execution_count": null,
   "metadata": {},
   "outputs": [],
   "source": [
    "pesos = df.groupby(['community', 'topic_id']).agg({'weight': 'sum'})\n",
    "pesos['percentage'] = pesos['weight']/pesos.groupby('community')['weight'].transform('sum')"
   ]
  },
  {
   "cell_type": "code",
   "execution_count": null,
   "metadata": {},
   "outputs": [],
   "source": [
    "pesos"
   ]
  }
 ],
 "metadata": {
  "kernelspec": {
   "display_name": "Python 3",
   "language": "python",
   "name": "python3"
  },
  "language_info": {
   "codemirror_mode": {
    "name": "ipython",
    "version": 3
   },
   "file_extension": ".py",
   "mimetype": "text/x-python",
   "name": "python",
   "nbconvert_exporter": "python",
   "pygments_lexer": "ipython3",
   "version": "3.6.3"
  }
 },
 "nbformat": 4,
 "nbformat_minor": 2
}
