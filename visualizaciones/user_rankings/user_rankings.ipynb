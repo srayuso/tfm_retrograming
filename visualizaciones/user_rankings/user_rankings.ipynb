{
 "cells": [
  {
   "cell_type": "code",
   "execution_count": 1,
   "metadata": {},
   "outputs": [],
   "source": [
    "import pandas as pd"
   ]
  },
  {
   "cell_type": "code",
   "execution_count": 2,
   "metadata": {},
   "outputs": [],
   "source": [
    "df = pd.read_csv('user_rankings/planetVB_users_20012018.csv')"
   ]
  },
  {
   "cell_type": "code",
   "execution_count": 3,
   "metadata": {},
   "outputs": [
    {
     "data": {
      "text/plain": [
       "Index(['collector', 'country', 'gender', 'highscores', 'last_login',\n",
       "       'num_posts', 'occupation', 'profile_views', 'projects', 'rank',\n",
       "       'ratings', 'registered', 'submissions', 'username'],\n",
       "      dtype='object')"
      ]
     },
     "execution_count": 3,
     "metadata": {},
     "output_type": "execute_result"
    }
   ],
   "source": [
    "df.columns"
   ]
  },
  {
   "cell_type": "code",
   "execution_count": 4,
   "metadata": {},
   "outputs": [
    {
     "data": {
      "text/html": [
       "<div>\n",
       "<style scoped>\n",
       "    .dataframe tbody tr th:only-of-type {\n",
       "        vertical-align: middle;\n",
       "    }\n",
       "\n",
       "    .dataframe tbody tr th {\n",
       "        vertical-align: top;\n",
       "    }\n",
       "\n",
       "    .dataframe thead th {\n",
       "        text-align: right;\n",
       "    }\n",
       "</style>\n",
       "<table border=\"1\" class=\"dataframe\">\n",
       "  <thead>\n",
       "    <tr style=\"text-align: right;\">\n",
       "      <th></th>\n",
       "      <th>rank</th>\n",
       "      <th>username</th>\n",
       "      <th>num_posts</th>\n",
       "    </tr>\n",
       "  </thead>\n",
       "  <tbody>\n",
       "    <tr>\n",
       "      <th>0</th>\n",
       "      <td>Administrator</td>\n",
       "      <td>KR155E</td>\n",
       "      <td>2433</td>\n",
       "    </tr>\n",
       "    <tr>\n",
       "      <th>1</th>\n",
       "      <td>Newbie</td>\n",
       "      <td>RobotTypePerson3D</td>\n",
       "      <td>2</td>\n",
       "    </tr>\n",
       "    <tr>\n",
       "      <th>2</th>\n",
       "      <td>PVB Elite</td>\n",
       "      <td>DogP</td>\n",
       "      <td>1507</td>\n",
       "    </tr>\n",
       "    <tr>\n",
       "      <th>3</th>\n",
       "      <td>PVB Elite</td>\n",
       "      <td>RunnerPack</td>\n",
       "      <td>1413</td>\n",
       "    </tr>\n",
       "    <tr>\n",
       "      <th>4</th>\n",
       "      <td>VUE(xpert)</td>\n",
       "      <td>lameboyadvance</td>\n",
       "      <td>267</td>\n",
       "    </tr>\n",
       "  </tbody>\n",
       "</table>\n",
       "</div>"
      ],
      "text/plain": [
       "            rank           username  num_posts\n",
       "0  Administrator             KR155E       2433\n",
       "1         Newbie  RobotTypePerson3D          2\n",
       "2      PVB Elite               DogP       1507\n",
       "3      PVB Elite         RunnerPack       1413\n",
       "4     VUE(xpert)     lameboyadvance        267"
      ]
     },
     "execution_count": 4,
     "metadata": {},
     "output_type": "execute_result"
    }
   ],
   "source": [
    "df[['rank', 'username', 'num_posts']].head()"
   ]
  },
  {
   "cell_type": "code",
   "execution_count": 5,
   "metadata": {},
   "outputs": [],
   "source": [
    "df_users = df[['rank', 'username', 'num_posts']].copy(deep=True)"
   ]
  },
  {
   "cell_type": "code",
   "execution_count": 6,
   "metadata": {},
   "outputs": [
    {
     "data": {
      "text/plain": [
       "array(['Administrator', 'Newbie', 'PVB Elite', 'VUE(xpert)', 'VB Gamer',\n",
       "       'Nintendoid!', 'Virtual Freak', 'PVB Staff', nan], dtype=object)"
      ]
     },
     "execution_count": 6,
     "metadata": {},
     "output_type": "execute_result"
    }
   ],
   "source": [
    "pd.unique(df_users['rank'])"
   ]
  },
  {
   "cell_type": "code",
   "execution_count": 7,
   "metadata": {},
   "outputs": [],
   "source": [
    "df_users.fillna(axis=1, method=None, value='Newbie', inplace=True)"
   ]
  },
  {
   "cell_type": "code",
   "execution_count": 8,
   "metadata": {},
   "outputs": [
    {
     "data": {
      "text/plain": [
       "array(['Administrator', 'Newbie', 'PVB Elite', 'VUE(xpert)', 'VB Gamer',\n",
       "       'Nintendoid!', 'Virtual Freak', 'PVB Staff'], dtype=object)"
      ]
     },
     "execution_count": 8,
     "metadata": {},
     "output_type": "execute_result"
    }
   ],
   "source": [
    "pd.unique(df_users['rank'])"
   ]
  },
  {
   "cell_type": "code",
   "execution_count": null,
   "metadata": {},
   "outputs": [],
   "source": []
  },
  {
   "cell_type": "code",
   "execution_count": 9,
   "metadata": {},
   "outputs": [
    {
     "name": "stdout",
     "output_type": "stream",
     "text": [
      "[\"Newbie\", \"VB Gamer\", \"Virtual Freak\", \"Nintendoid!\", \"VUE(xpert)\", \"PVB Elite\", \"PVB Staff\", \"Administrator\"]\n"
     ]
    }
   ],
   "source": [
    "ranks = [\n",
    "    'Newbie',\n",
    "    'VB Gamer',\n",
    "    'Virtual Freak',\n",
    "    'Nintendoid!',\n",
    "    'VUE(xpert)',\n",
    "    'PVB Elite',\n",
    "    'PVB Staff',\n",
    "    'Administrator'\n",
    "]\n",
    "\"\"\"\n",
    "Newbie\n",
    "0 to 9 Posts\n",
    "\n",
    "VB Gamer\n",
    "10 to 49 Posts\n",
    "\n",
    "Virtual Freak\n",
    "50 to 99 Posts\n",
    "\n",
    "Nintendoid!\n",
    "100 to 249 Posts\n",
    "\n",
    "VUE(xpert)\n",
    "250 to 499 Posts\n",
    "\n",
    "PVB Elite\n",
    "500 to ???? Posts\n",
    "\n",
    "PVB Staff (Special)\n",
    "Administrator (Special)\n",
    "\"\"\"\n",
    "import json\n",
    "print(json.dumps(ranks))"
   ]
  },
  {
   "cell_type": "code",
   "execution_count": 10,
   "metadata": {},
   "outputs": [],
   "source": [
    "df_pr = pd.read_csv('user_rankings/planetvb_pr_ungrouped.csv')\n",
    "df_pr.rename(columns={'id': 'username'}, inplace=True)"
   ]
  },
  {
   "cell_type": "code",
   "execution_count": 11,
   "metadata": {},
   "outputs": [
    {
     "data": {
      "text/html": [
       "<div>\n",
       "<style scoped>\n",
       "    .dataframe tbody tr th:only-of-type {\n",
       "        vertical-align: middle;\n",
       "    }\n",
       "\n",
       "    .dataframe tbody tr th {\n",
       "        vertical-align: top;\n",
       "    }\n",
       "\n",
       "    .dataframe thead th {\n",
       "        text-align: right;\n",
       "    }\n",
       "</style>\n",
       "<table border=\"1\" class=\"dataframe\">\n",
       "  <thead>\n",
       "    <tr style=\"text-align: right;\">\n",
       "      <th></th>\n",
       "      <th>username</th>\n",
       "      <th>pagerank</th>\n",
       "      <th>inDegree</th>\n",
       "      <th>outDegree</th>\n",
       "    </tr>\n",
       "  </thead>\n",
       "  <tbody>\n",
       "    <tr>\n",
       "      <th>0</th>\n",
       "      <td>KR155E</td>\n",
       "      <td>33.717786</td>\n",
       "      <td>3718</td>\n",
       "      <td>1385</td>\n",
       "    </tr>\n",
       "    <tr>\n",
       "      <th>1</th>\n",
       "      <td>CrazyMaster</td>\n",
       "      <td>8.022711</td>\n",
       "      <td>137</td>\n",
       "      <td>2</td>\n",
       "    </tr>\n",
       "    <tr>\n",
       "      <th>2</th>\n",
       "      <td>DogP</td>\n",
       "      <td>6.854887</td>\n",
       "      <td>942</td>\n",
       "      <td>1382</td>\n",
       "    </tr>\n",
       "    <tr>\n",
       "      <th>3</th>\n",
       "      <td>MineStorm</td>\n",
       "      <td>6.293640</td>\n",
       "      <td>485</td>\n",
       "      <td>240</td>\n",
       "    </tr>\n",
       "    <tr>\n",
       "      <th>4</th>\n",
       "      <td>UncleTusker</td>\n",
       "      <td>4.626488</td>\n",
       "      <td>656</td>\n",
       "      <td>60</td>\n",
       "    </tr>\n",
       "  </tbody>\n",
       "</table>\n",
       "</div>"
      ],
      "text/plain": [
       "      username   pagerank  inDegree  outDegree\n",
       "0       KR155E  33.717786      3718       1385\n",
       "1  CrazyMaster   8.022711       137          2\n",
       "2         DogP   6.854887       942       1382\n",
       "3    MineStorm   6.293640       485        240\n",
       "4  UncleTusker   4.626488       656         60"
      ]
     },
     "execution_count": 11,
     "metadata": {},
     "output_type": "execute_result"
    }
   ],
   "source": [
    "df_pr.head()"
   ]
  },
  {
   "cell_type": "code",
   "execution_count": 12,
   "metadata": {},
   "outputs": [],
   "source": [
    "df_ranks = df_pr.join(df_users.set_index('username'), on='username', how='inner')"
   ]
  },
  {
   "cell_type": "code",
   "execution_count": 13,
   "metadata": {},
   "outputs": [
    {
     "data": {
      "text/html": [
       "<div>\n",
       "<style scoped>\n",
       "    .dataframe tbody tr th:only-of-type {\n",
       "        vertical-align: middle;\n",
       "    }\n",
       "\n",
       "    .dataframe tbody tr th {\n",
       "        vertical-align: top;\n",
       "    }\n",
       "\n",
       "    .dataframe thead th {\n",
       "        text-align: right;\n",
       "    }\n",
       "</style>\n",
       "<table border=\"1\" class=\"dataframe\">\n",
       "  <thead>\n",
       "    <tr style=\"text-align: right;\">\n",
       "      <th></th>\n",
       "      <th>username</th>\n",
       "      <th>pagerank</th>\n",
       "      <th>inDegree</th>\n",
       "      <th>outDegree</th>\n",
       "      <th>rank</th>\n",
       "      <th>num_posts</th>\n",
       "    </tr>\n",
       "  </thead>\n",
       "  <tbody>\n",
       "    <tr>\n",
       "      <th>0</th>\n",
       "      <td>KR155E</td>\n",
       "      <td>33.717786</td>\n",
       "      <td>3718</td>\n",
       "      <td>1385</td>\n",
       "      <td>Administrator</td>\n",
       "      <td>2433</td>\n",
       "    </tr>\n",
       "    <tr>\n",
       "      <th>2</th>\n",
       "      <td>DogP</td>\n",
       "      <td>6.854887</td>\n",
       "      <td>942</td>\n",
       "      <td>1382</td>\n",
       "      <td>PVB Elite</td>\n",
       "      <td>1507</td>\n",
       "    </tr>\n",
       "    <tr>\n",
       "      <th>3</th>\n",
       "      <td>MineStorm</td>\n",
       "      <td>6.293640</td>\n",
       "      <td>485</td>\n",
       "      <td>240</td>\n",
       "      <td>VUE(xpert)</td>\n",
       "      <td>312</td>\n",
       "    </tr>\n",
       "    <tr>\n",
       "      <th>4</th>\n",
       "      <td>UncleTusker</td>\n",
       "      <td>4.626488</td>\n",
       "      <td>656</td>\n",
       "      <td>60</td>\n",
       "      <td>Nintendoid!</td>\n",
       "      <td>139</td>\n",
       "    </tr>\n",
       "    <tr>\n",
       "      <th>5</th>\n",
       "      <td>VirtualChris</td>\n",
       "      <td>4.544041</td>\n",
       "      <td>1013</td>\n",
       "      <td>122</td>\n",
       "      <td>PVB Elite</td>\n",
       "      <td>872</td>\n",
       "    </tr>\n",
       "  </tbody>\n",
       "</table>\n",
       "</div>"
      ],
      "text/plain": [
       "       username   pagerank  inDegree  outDegree           rank  num_posts\n",
       "0        KR155E  33.717786      3718       1385  Administrator       2433\n",
       "2          DogP   6.854887       942       1382      PVB Elite       1507\n",
       "3     MineStorm   6.293640       485        240     VUE(xpert)        312\n",
       "4   UncleTusker   4.626488       656         60    Nintendoid!        139\n",
       "5  VirtualChris   4.544041      1013        122      PVB Elite        872"
      ]
     },
     "execution_count": 13,
     "metadata": {},
     "output_type": "execute_result"
    }
   ],
   "source": [
    "df_ranks.head()"
   ]
  },
  {
   "cell_type": "code",
   "execution_count": 14,
   "metadata": {},
   "outputs": [],
   "source": [
    "df_ranks.to_csv('user_rankings/planetvb_user_ranks.csv', sep=',', index=False)\n"
   ]
  },
  {
   "cell_type": "code",
   "execution_count": 15,
   "metadata": {},
   "outputs": [],
   "source": [
    "df_ranks.set_index('username').to_json('user_rankings/planetvb_user_ranks.json', orient='records')"
   ]
  },
  {
   "cell_type": "code",
   "execution_count": 16,
   "metadata": {},
   "outputs": [],
   "source": [
    "df_ranks.to_json('user_rankings/planetvb_user_ranks.json', orient='records')"
   ]
  },
  {
   "cell_type": "code",
   "execution_count": null,
   "metadata": {},
   "outputs": [],
   "source": []
  },
  {
   "cell_type": "markdown",
   "metadata": {},
   "source": [
    "## ATARI"
   ]
  },
  {
   "cell_type": "code",
   "execution_count": 68,
   "metadata": {},
   "outputs": [],
   "source": [
    "df_users = pd.read_csv('user_rankings/atariusers.csv')"
   ]
  },
  {
   "cell_type": "code",
   "execution_count": 69,
   "metadata": {},
   "outputs": [
    {
     "data": {
      "text/plain": [
       "Index(['age', 'birthday', 'gender', 'group', 'likes', 'likes_text', 'location',\n",
       "       'posts', 'rank', 'user_dates', 'user_link', 'username', 'views'],\n",
       "      dtype='object')"
      ]
     },
     "execution_count": 69,
     "metadata": {},
     "output_type": "execute_result"
    }
   ],
   "source": [
    "df_users.columns"
   ]
  },
  {
   "cell_type": "code",
   "execution_count": 70,
   "metadata": {},
   "outputs": [
    {
     "data": {
      "text/html": [
       "<div>\n",
       "<style scoped>\n",
       "    .dataframe tbody tr th:only-of-type {\n",
       "        vertical-align: middle;\n",
       "    }\n",
       "\n",
       "    .dataframe tbody tr th {\n",
       "        vertical-align: top;\n",
       "    }\n",
       "\n",
       "    .dataframe thead th {\n",
       "        text-align: right;\n",
       "    }\n",
       "</style>\n",
       "<table border=\"1\" class=\"dataframe\">\n",
       "  <thead>\n",
       "    <tr style=\"text-align: right;\">\n",
       "      <th></th>\n",
       "      <th>age</th>\n",
       "      <th>birthday</th>\n",
       "      <th>gender</th>\n",
       "      <th>group</th>\n",
       "      <th>likes</th>\n",
       "      <th>likes_text</th>\n",
       "      <th>location</th>\n",
       "      <th>posts</th>\n",
       "      <th>rank</th>\n",
       "      <th>user_dates</th>\n",
       "      <th>user_link</th>\n",
       "      <th>username</th>\n",
       "      <th>views</th>\n",
       "    </tr>\n",
       "  </thead>\n",
       "  <tbody>\n",
       "    <tr>\n",
       "      <th>0</th>\n",
       "      <td>NaN</td>\n",
       "      <td>NaN</td>\n",
       "      <td>Not Telling</td>\n",
       "      <td>New Members</td>\n",
       "      <td>2</td>\n",
       "      <td>Neutral</td>\n",
       "      <td>NaN</td>\n",
       "      <td>10</td>\n",
       "      <td>Space Invader</td>\n",
       "      <td>['sergei277 Member Since 20 Dec 2017 Offline L...</td>\n",
       "      <td>http://atariage.com/forums/user/62944-sergei277/</td>\n",
       "      <td>sergei277</td>\n",
       "      <td>108</td>\n",
       "    </tr>\n",
       "    <tr>\n",
       "      <th>1</th>\n",
       "      <td>39 years old</td>\n",
       "      <td>April 4, 1978</td>\n",
       "      <td>Male</td>\n",
       "      <td>Members</td>\n",
       "      <td>60</td>\n",
       "      <td>Excellent</td>\n",
       "      <td>Missouri</td>\n",
       "      <td>156</td>\n",
       "      <td>Chopper Commander</td>\n",
       "      <td>['low_budget Member Since 14 Jan 2012 Offline ...</td>\n",
       "      <td>http://atariage.com/forums/user/31751-low-budget/</td>\n",
       "      <td>low_budget</td>\n",
       "      <td>9,660</td>\n",
       "    </tr>\n",
       "    <tr>\n",
       "      <th>2</th>\n",
       "      <td>NaN</td>\n",
       "      <td>NaN</td>\n",
       "      <td>Male</td>\n",
       "      <td>AtariAge Subscriber</td>\n",
       "      <td>4388</td>\n",
       "      <td>Excellent</td>\n",
       "      <td>NaN</td>\n",
       "      <td>8,877</td>\n",
       "      <td>Jason S. - Lead Developer &amp; CEO</td>\n",
       "      <td>['Gemintronic Member Since 23 May 2007 Offline...</td>\n",
       "      <td>http://atariage.com/forums/user/13304-gemintro...</td>\n",
       "      <td>Gemintronic</td>\n",
       "      <td>36,255</td>\n",
       "    </tr>\n",
       "    <tr>\n",
       "      <th>3</th>\n",
       "      <td>37 years old</td>\n",
       "      <td>February 4, 1981</td>\n",
       "      <td>Male</td>\n",
       "      <td>Members</td>\n",
       "      <td>634</td>\n",
       "      <td>Excellent</td>\n",
       "      <td>new orleans</td>\n",
       "      <td>2,269</td>\n",
       "      <td>River Patroller</td>\n",
       "      <td>['bomberpunk Member Since 10 Sep 2003 Offline ...</td>\n",
       "      <td>http://atariage.com/forums/user/4026-bomberpunk/</td>\n",
       "      <td>bomberpunk</td>\n",
       "      <td>23,363</td>\n",
       "    </tr>\n",
       "    <tr>\n",
       "      <th>4</th>\n",
       "      <td>50 years old</td>\n",
       "      <td>February 11, 1968</td>\n",
       "      <td>Male</td>\n",
       "      <td>Members</td>\n",
       "      <td>3435</td>\n",
       "      <td>Excellent</td>\n",
       "      <td>Kelowna, B.C. CANADA</td>\n",
       "      <td>5,207</td>\n",
       "      <td>Quadrunner</td>\n",
       "      <td>['OldSchoolRetroGamer Member Since 12 Aug 2006...</td>\n",
       "      <td>http://atariage.com/forums/user/10336-oldschoo...</td>\n",
       "      <td>OldSchoolRetroGamer</td>\n",
       "      <td>35,879</td>\n",
       "    </tr>\n",
       "  </tbody>\n",
       "</table>\n",
       "</div>"
      ],
      "text/plain": [
       "            age           birthday       gender                group  likes  \\\n",
       "0           NaN                NaN  Not Telling          New Members      2   \n",
       "1  39 years old      April 4, 1978         Male              Members     60   \n",
       "2           NaN                NaN         Male  AtariAge Subscriber   4388   \n",
       "3  37 years old   February 4, 1981         Male              Members    634   \n",
       "4  50 years old  February 11, 1968         Male              Members   3435   \n",
       "\n",
       "  likes_text              location  posts                             rank  \\\n",
       "0    Neutral                   NaN     10                    Space Invader   \n",
       "1  Excellent              Missouri    156                Chopper Commander   \n",
       "2  Excellent                   NaN  8,877  Jason S. - Lead Developer & CEO   \n",
       "3  Excellent           new orleans  2,269                  River Patroller   \n",
       "4  Excellent  Kelowna, B.C. CANADA  5,207                       Quadrunner   \n",
       "\n",
       "                                          user_dates  \\\n",
       "0  ['sergei277 Member Since 20 Dec 2017 Offline L...   \n",
       "1  ['low_budget Member Since 14 Jan 2012 Offline ...   \n",
       "2  ['Gemintronic Member Since 23 May 2007 Offline...   \n",
       "3  ['bomberpunk Member Since 10 Sep 2003 Offline ...   \n",
       "4  ['OldSchoolRetroGamer Member Since 12 Aug 2006...   \n",
       "\n",
       "                                           user_link             username  \\\n",
       "0   http://atariage.com/forums/user/62944-sergei277/            sergei277   \n",
       "1  http://atariage.com/forums/user/31751-low-budget/           low_budget   \n",
       "2  http://atariage.com/forums/user/13304-gemintro...          Gemintronic   \n",
       "3   http://atariage.com/forums/user/4026-bomberpunk/           bomberpunk   \n",
       "4  http://atariage.com/forums/user/10336-oldschoo...  OldSchoolRetroGamer   \n",
       "\n",
       "    views  \n",
       "0     108  \n",
       "1   9,660  \n",
       "2  36,255  \n",
       "3  23,363  \n",
       "4  35,879  "
      ]
     },
     "execution_count": 70,
     "metadata": {},
     "output_type": "execute_result"
    }
   ],
   "source": [
    "df_users.head()"
   ]
  },
  {
   "cell_type": "code",
   "execution_count": 71,
   "metadata": {},
   "outputs": [
    {
     "data": {
      "text/plain": [
       "array(['Space Invader', 'Chopper Commander',\n",
       "       'Jason S. - Lead Developer & CEO', 'River Patroller', 'Quadrunner',\n",
       "       'Dragonstomper', 'Star Raider', 'Moonsweeper', 'Stargunner',\n",
       "       'Go Sleep In the Cold', 'Missile Commander', 'Solar Striker',\n",
       "       'Combat Commando', 'Commodore Chaos Knight',\n",
       "       'I say boom boom boom', 'Dumbass Atari Fan', 'VCS Games Archivist',\n",
       "       'Just a regular dude.', 'Draconian', 'Visual batari Basic User',\n",
       "       'Phanto of the Opera', 'Princess Rescuer', 'Gunstar', 'Preppie!',\n",
       "       'Games Developer', 'Nodus Tollens', 'Fight like a robot!',\n",
       "       'Channel F Viewer', 'Crazy Climberer', \"D'oh level\", 'VideoLifer',\n",
       "       'Commander', 'Jonboi Waltune Groupie', 'NNID: MrMegaManFan',\n",
       "       'Thrust, Jammed, SWOOPS!, Boulder Dash, THREE·S, Star Castle ',\n",
       "       \")66]U('=I;B$*\", 'Champion of Mites', 'Kwisatz Haderach',\n",
       "       'Maker of Origami & Mazes!', 'Breakpack for the new millenium :D',\n",
       "       'Sheik Yerbouti', 'Launch Edition', 'Web-slinger',\n",
       "       'Super Amazing Guy', 'Epic Godlike Canadian', 'Gunslinger',\n",
       "       'Red Sea Crosser', 'Not-so-secretly Trolling', 'Q*bert Champion',\n",
       "       'Intellivision Hoarder',\n",
       "       'I am the Black Knight. Give me your money!',\n",
       "       'A.K.A. Revolutionika', 'Metagalactic Mule', 'Innocent',\n",
       "       'TAT IS BACK!',\n",
       "       '***Moon Patrol 5200***     ***Moon Master***  *Blue Max:Class 4*',\n",
       "       'The hottest thing from the North to come out of the South',\n",
       "       \"Don't forget your helmet!\", 'Progressive Pornobär',\n",
       "       'Nurgle, The Pestilent One', 'made of fire and pop rocks',\n",
       "       'Boldly Going Nowhere', 'Quadrunner (yeah, right)',\n",
       "       'LICK MY RED ROCKET LIKE A CANDY CAIN !!!', 'HMBL 2600 coder',\n",
       "       'Pencil wrangler', 'Bryan G.', 'Born To Be Insane',\n",
       "       'Skeet Shooter', 'Taters', 'how do i shot cop/', 'Tunnel Runner',\n",
       "       'Cookie Meister', '(Fabrizio Zavagli)',\n",
       "       'Facebook.com/Collectorvision', 'God of Thunder', 'Vicar of Fonz',\n",
       "       'Star Raiders', 'Scammer', 'Non-Responder'], dtype=object)"
      ]
     },
     "execution_count": 71,
     "metadata": {},
     "output_type": "execute_result"
    }
   ],
   "source": [
    "pd.unique(df_users['rank'])"
   ]
  },
  {
   "cell_type": "code",
   "execution_count": 72,
   "metadata": {},
   "outputs": [
    {
     "data": {
      "text/plain": [
       "22467"
      ]
     },
     "execution_count": 72,
     "metadata": {},
     "output_type": "execute_result"
    }
   ],
   "source": [
    "df_users['rank'].count()"
   ]
  },
  {
   "cell_type": "code",
   "execution_count": 73,
   "metadata": {},
   "outputs": [],
   "source": [
    "ranks_count = df_users.groupby('rank')['username'].count()"
   ]
  },
  {
   "cell_type": "code",
   "execution_count": 74,
   "metadata": {
    "scrolled": true
   },
   "outputs": [
    {
     "data": {
      "text/plain": [
       "22396"
      ]
     },
     "execution_count": 74,
     "metadata": {},
     "output_type": "execute_result"
    }
   ],
   "source": [
    "ranks_count[ranks_count > 1].sum()"
   ]
  },
  {
   "cell_type": "code",
   "execution_count": 75,
   "metadata": {},
   "outputs": [],
   "source": [
    "ranks_count = ranks_count[ranks_count > 1]"
   ]
  },
  {
   "cell_type": "code",
   "execution_count": 76,
   "metadata": {},
   "outputs": [],
   "source": [
    "df_users = df_users.join(ranks_count, how='outer', on='rank', rsuffix='_R')"
   ]
  },
  {
   "cell_type": "code",
   "execution_count": 77,
   "metadata": {},
   "outputs": [
    {
     "data": {
      "text/html": [
       "<div>\n",
       "<style scoped>\n",
       "    .dataframe tbody tr th:only-of-type {\n",
       "        vertical-align: middle;\n",
       "    }\n",
       "\n",
       "    .dataframe tbody tr th {\n",
       "        vertical-align: top;\n",
       "    }\n",
       "\n",
       "    .dataframe thead th {\n",
       "        text-align: right;\n",
       "    }\n",
       "</style>\n",
       "<table border=\"1\" class=\"dataframe\">\n",
       "  <thead>\n",
       "    <tr style=\"text-align: right;\">\n",
       "      <th></th>\n",
       "      <th>age</th>\n",
       "      <th>birthday</th>\n",
       "      <th>gender</th>\n",
       "      <th>group</th>\n",
       "      <th>likes</th>\n",
       "      <th>likes_text</th>\n",
       "      <th>location</th>\n",
       "      <th>posts</th>\n",
       "      <th>rank</th>\n",
       "      <th>user_dates</th>\n",
       "      <th>user_link</th>\n",
       "      <th>username</th>\n",
       "      <th>views</th>\n",
       "      <th>username_R</th>\n",
       "    </tr>\n",
       "  </thead>\n",
       "  <tbody>\n",
       "    <tr>\n",
       "      <th>281</th>\n",
       "      <td>15 years old</td>\n",
       "      <td>March 25, 2002</td>\n",
       "      <td>Male</td>\n",
       "      <td>NaN</td>\n",
       "      <td>8983</td>\n",
       "      <td>Excellent</td>\n",
       "      <td>SoCal</td>\n",
       "      <td>33,399</td>\n",
       "      <td>Commander</td>\n",
       "      <td>['CPUWIZ Member Since 26 Mar 2002 Offline Last...</td>\n",
       "      <td>http://atariage.com/forums/user/1244-cpuwiz/</td>\n",
       "      <td>CPUWIZ</td>\n",
       "      <td>97,358</td>\n",
       "      <td>NaN</td>\n",
       "    </tr>\n",
       "  </tbody>\n",
       "</table>\n",
       "</div>"
      ],
      "text/plain": [
       "              age        birthday gender group  likes likes_text location  \\\n",
       "281  15 years old  March 25, 2002   Male   NaN   8983  Excellent    SoCal   \n",
       "\n",
       "      posts       rank                                         user_dates  \\\n",
       "281  33,399  Commander  ['CPUWIZ Member Since 26 Mar 2002 Offline Last...   \n",
       "\n",
       "                                        user_link username   views  username_R  \n",
       "281  http://atariage.com/forums/user/1244-cpuwiz/   CPUWIZ  97,358         NaN  "
      ]
     },
     "execution_count": 77,
     "metadata": {},
     "output_type": "execute_result"
    }
   ],
   "source": [
    "df_users[df_users['username'] == 'CPUWIZ']"
   ]
  },
  {
   "cell_type": "code",
   "execution_count": 78,
   "metadata": {
    "scrolled": true
   },
   "outputs": [],
   "source": [
    "# df_users[pd.isnull(df_users['username_R'])]['rank'] = 'Other'\n",
    "df_users.loc[pd.isnull(df_users['username_R']), 'rank'] = 'Custom'"
   ]
  },
  {
   "cell_type": "code",
   "execution_count": 79,
   "metadata": {},
   "outputs": [],
   "source": [
    "df_users = df_users[['posts', 'username', 'rank']].copy(deep=True)\n",
    "df_users.set_index('username', inplace=True)\n",
    "df_users['posts'] = df_users['posts'].str.replace(',', '')\n",
    "df_users['posts'] = df_users['posts'].astype('int64')"
   ]
  },
  {
   "cell_type": "code",
   "execution_count": 80,
   "metadata": {},
   "outputs": [],
   "source": [
    "df_pr = pd.read_csv('user_rankings/pagerank_atari_para_rober.csv',\n",
    "                    skiprows=1,\n",
    "                    names=['username', 'pagerank'],\n",
    "                    index_col='username',\n",
    "                    sep=\";\")"
   ]
  },
  {
   "cell_type": "code",
   "execution_count": 81,
   "metadata": {},
   "outputs": [
    {
     "data": {
      "text/html": [
       "<div>\n",
       "<style scoped>\n",
       "    .dataframe tbody tr th:only-of-type {\n",
       "        vertical-align: middle;\n",
       "    }\n",
       "\n",
       "    .dataframe tbody tr th {\n",
       "        vertical-align: top;\n",
       "    }\n",
       "\n",
       "    .dataframe thead th {\n",
       "        text-align: right;\n",
       "    }\n",
       "</style>\n",
       "<table border=\"1\" class=\"dataframe\">\n",
       "  <thead>\n",
       "    <tr style=\"text-align: right;\">\n",
       "      <th></th>\n",
       "      <th>pagerank</th>\n",
       "    </tr>\n",
       "    <tr>\n",
       "      <th>username</th>\n",
       "      <th></th>\n",
       "    </tr>\n",
       "  </thead>\n",
       "  <tbody>\n",
       "    <tr>\n",
       "      <th>Albert</th>\n",
       "      <td>244.846118</td>\n",
       "    </tr>\n",
       "    <tr>\n",
       "      <th>Rev</th>\n",
       "      <td>169.570862</td>\n",
       "    </tr>\n",
       "    <tr>\n",
       "      <th>CPUWIZ</th>\n",
       "      <td>155.365267</td>\n",
       "    </tr>\n",
       "    <tr>\n",
       "      <th>Ze_ro</th>\n",
       "      <td>133.649169</td>\n",
       "    </tr>\n",
       "    <tr>\n",
       "      <th>Tempest</th>\n",
       "      <td>130.575840</td>\n",
       "    </tr>\n",
       "  </tbody>\n",
       "</table>\n",
       "</div>"
      ],
      "text/plain": [
       "            pagerank\n",
       "username            \n",
       "Albert    244.846118\n",
       "Rev       169.570862\n",
       "CPUWIZ    155.365267\n",
       "Ze_ro     133.649169\n",
       "Tempest   130.575840"
      ]
     },
     "execution_count": 81,
     "metadata": {},
     "output_type": "execute_result"
    }
   ],
   "source": [
    "df_pr.head()"
   ]
  },
  {
   "cell_type": "code",
   "execution_count": 82,
   "metadata": {},
   "outputs": [
    {
     "data": {
      "text/html": [
       "<div>\n",
       "<style scoped>\n",
       "    .dataframe tbody tr th:only-of-type {\n",
       "        vertical-align: middle;\n",
       "    }\n",
       "\n",
       "    .dataframe tbody tr th {\n",
       "        vertical-align: top;\n",
       "    }\n",
       "\n",
       "    .dataframe thead th {\n",
       "        text-align: right;\n",
       "    }\n",
       "</style>\n",
       "<table border=\"1\" class=\"dataframe\">\n",
       "  <thead>\n",
       "    <tr style=\"text-align: right;\">\n",
       "      <th></th>\n",
       "      <th>posts</th>\n",
       "      <th>rank</th>\n",
       "    </tr>\n",
       "    <tr>\n",
       "      <th>username</th>\n",
       "      <th></th>\n",
       "      <th></th>\n",
       "    </tr>\n",
       "  </thead>\n",
       "  <tbody>\n",
       "    <tr>\n",
       "      <th>sergei277</th>\n",
       "      <td>10</td>\n",
       "      <td>Space Invader</td>\n",
       "    </tr>\n",
       "    <tr>\n",
       "      <th>Tempy</th>\n",
       "      <td>32</td>\n",
       "      <td>Space Invader</td>\n",
       "    </tr>\n",
       "    <tr>\n",
       "      <th>NewWaveToys</th>\n",
       "      <td>18</td>\n",
       "      <td>Space Invader</td>\n",
       "    </tr>\n",
       "    <tr>\n",
       "      <th>OscarGungan</th>\n",
       "      <td>14</td>\n",
       "      <td>Space Invader</td>\n",
       "    </tr>\n",
       "    <tr>\n",
       "      <th>Asbrandt</th>\n",
       "      <td>30</td>\n",
       "      <td>Space Invader</td>\n",
       "    </tr>\n",
       "  </tbody>\n",
       "</table>\n",
       "</div>"
      ],
      "text/plain": [
       "             posts           rank\n",
       "username                         \n",
       "sergei277       10  Space Invader\n",
       "Tempy           32  Space Invader\n",
       "NewWaveToys     18  Space Invader\n",
       "OscarGungan     14  Space Invader\n",
       "Asbrandt        30  Space Invader"
      ]
     },
     "execution_count": 82,
     "metadata": {},
     "output_type": "execute_result"
    }
   ],
   "source": [
    "df_users.head()"
   ]
  },
  {
   "cell_type": "code",
   "execution_count": 83,
   "metadata": {},
   "outputs": [],
   "source": [
    "df_users['username'] = df_users.index"
   ]
  },
  {
   "cell_type": "code",
   "execution_count": 84,
   "metadata": {},
   "outputs": [],
   "source": [
    "df_users_pr = df_users.join(df_pr, how='inner')"
   ]
  },
  {
   "cell_type": "code",
   "execution_count": 85,
   "metadata": {},
   "outputs": [],
   "source": [
    "df_users_pr['username'] = df_users_pr.index"
   ]
  },
  {
   "cell_type": "code",
   "execution_count": 86,
   "metadata": {},
   "outputs": [],
   "source": [
    "df_users_pr.to_json('user_rankings/atariage_user_ranks.json', orient='records')"
   ]
  },
  {
   "cell_type": "code",
   "execution_count": null,
   "metadata": {},
   "outputs": [],
   "source": []
  }
 ],
 "metadata": {
  "kernelspec": {
   "display_name": "Python 3",
   "language": "python",
   "name": "python3"
  },
  "language_info": {
   "codemirror_mode": {
    "name": "ipython",
    "version": 3
   },
   "file_extension": ".py",
   "mimetype": "text/x-python",
   "name": "python",
   "nbconvert_exporter": "python",
   "pygments_lexer": "ipython3",
   "version": "3.6.5"
  }
 },
 "nbformat": 4,
 "nbformat_minor": 2
}
